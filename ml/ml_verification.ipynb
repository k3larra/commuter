{
 "cells": [
  {
   "cell_type": "markdown",
   "metadata": {},
   "source": [
    "# Verify ML in commuter context\n",
    "The code below takes labelled data, trains a standard fastai neural network and as a [tabular application](https://docs.fast.ai/tabular.html).\n",
    "The goal is to verify that the model learns using data created using our personas.\n",
    "* [Maria](../personas/maria.md) id:tnK534JMwwfhvUEycn69HPbhqkt2\n",
    "    * [One year data](../data/tnK534JMwwfhvUEycn69HPbhqkt2_train_valid.csv)\n",
    "    * [Test set](../data/tnK534JMwwfhvUEycn69HPbhqkt2_test.csv)\n",
    "* [Andrea](../personas/andrea.md) id:ehaBtfOPDNZjzy1MEvjQmGo4Zv12\n",
    "    * [One year data](../data/ehaBtfOPDNZjzy1MEvjQmGo4Zv12_train_valid.csv)\n",
    "    * [Test set](../data/ehaBtfOPDNZjzy1MEvjQmGo4Zv12_test.csv)\n",
    "* [Björn](../personas/bjorn.md) id:hCWCulj7M1aMVyd0Fm0Eqrv8q1Q2\n",
    "    * [One year data](../data/hCWCulj7M1aMVyd0Fm0Eqrv8q1Q2_train_valid.csv)\n",
    "    * [Test set](../data/hCWCulj7M1aMVyd0Fm0Eqrv8q1Q2_test.csv)"
   ]
  },
  {
   "cell_type": "code",
   "execution_count": 36,
   "metadata": {},
   "outputs": [],
   "source": [
    "#Setup\n",
    "from fastai import *          # Quick accesss to most common functionality\n",
    "from fastai.tabular import *  # Quick accesss to tabular functionality     # Access to example data provided with fastai\n",
    "from fastai.vision import *\n",
    "PATH=\"../data/\"\n",
    "sys.path.append(\"../code\") # go to parent dir\n",
    "from commuter import *\n",
    "dep_var = 'journey'\n",
    "cat_names = [\"detectedActivity\",\"weekday\"]\n",
    "cont_names =[\"geoHash\",\"minuteOfDay\"]\n",
    "procs = [FillMissing, Categorify, Normalize]\n",
    "# Uncomment active user'\n",
    "user = \"tnK534JMwwfhvUEycn69HPbhqkt2\" #Maria\n",
    "#user = \"ehaBtfOPDNZjzy1MEvjQmGo4Zv12\" #Andrea\n",
    "#user = \"hCWCulj7M1aMVyd0Fm0Eqrv8q1Q2\" #Bjorn\n",
    "personas = pd.read_csv(\"../data/personas.csv\")\n",
    "personaname = personas.loc[personas['id']==user]['name'].iloc[0]"
   ]
  },
  {
   "cell_type": "markdown",
   "metadata": {},
   "source": [
    "### Training\n",
    "Trains model using one year data, and learning rate finder with fit_one_cycle policy.\n",
    "Validation set is randomly selected as 10% of training set."
   ]
  },
  {
   "cell_type": "code",
   "execution_count": 33,
   "metadata": {},
   "outputs": [
    {
     "data": {
      "text/html": [
       "Total time: 00:07 <p><table style='width:300px; margin-bottom:10px'>\n",
       "  <tr>\n",
       "    <th>epoch</th>\n",
       "    <th>train_loss</th>\n",
       "    <th>valid_loss</th>\n",
       "    <th>accuracy</th>\n",
       "  </tr>\n",
       "  <tr>\n",
       "    <th>1</th>\n",
       "    <th>0.675559</th>\n",
       "    <th>0.239048</th>\n",
       "    <th>0.998363</th>\n",
       "  </tr>\n",
       "  <tr>\n",
       "    <th>2</th>\n",
       "    <th>0.143289</th>\n",
       "    <th>0.014411</th>\n",
       "    <th>0.998363</th>\n",
       "  </tr>\n",
       "  <tr>\n",
       "    <th>3</th>\n",
       "    <th>0.033913</th>\n",
       "    <th>0.008415</th>\n",
       "    <th>1.000000</th>\n",
       "  </tr>\n",
       "  <tr>\n",
       "    <th>4</th>\n",
       "    <th>0.010150</th>\n",
       "    <th>0.002933</th>\n",
       "    <th>1.000000</th>\n",
       "  </tr>\n",
       "  <tr>\n",
       "    <th>5</th>\n",
       "    <th>0.004023</th>\n",
       "    <th>0.002034</th>\n",
       "    <th>1.000000</th>\n",
       "  </tr>\n",
       "  <tr>\n",
       "    <th>6</th>\n",
       "    <th>0.005103</th>\n",
       "    <th>0.001052</th>\n",
       "    <th>1.000000</th>\n",
       "  </tr>\n",
       "  <tr>\n",
       "    <th>7</th>\n",
       "    <th>0.002850</th>\n",
       "    <th>0.000746</th>\n",
       "    <th>1.000000</th>\n",
       "  </tr>\n",
       "</table>\n"
      ],
      "text/plain": [
       "<IPython.core.display.HTML object>"
      ]
     },
     "metadata": {},
     "output_type": "display_data"
    },
    {
     "data": {
      "image/png": "[encoded data removed]",
      "text/plain": [
       "<Figure size 432x288 with 1 Axes>"
      ]
     },
     "metadata": {},
     "output_type": "display_data"
    },
    {
     "name": "stdout",
     "output_type": "stream",
     "text": [
      "CPU times: user 5.85 s, sys: 964 ms, total: 6.82 s\n",
      "Wall time: 7.74 s\n"
     ]
    }
   ],
   "source": [
    "dataSet = pd.read_csv(PATH+user+\"_train_valid.csv\")\n",
    "valid_idx = list(np.random.randint(0,len(dataSet),int(len(dataSet)*0.1)))\n",
    "data = (TabularList.from_df(dataSet, path=user, cat_names=cat_names, cont_names=cont_names, procs=procs)\n",
    "                .split_by_idx(valid_idx)\n",
    "                .label_from_df(cols=dep_var)\n",
    "                .databunch())\n",
    "learner=tabular_learner(data, layers=[200,100], metrics=accuracy,callback_fns=ShowGraph)\n",
    "%time learner.fit_one_cycle(7)"
   ]
  },
  {
   "cell_type": "markdown",
   "metadata": {},
   "source": [
    "### Evaluate training on test set."
   ]
  },
  {
   "cell_type": "code",
   "execution_count": 34,
   "metadata": {},
   "outputs": [
    {
     "name": "stdout",
     "output_type": "stream",
     "text": [
      "Result on test set for user Maria 1.0\n"
     ]
    }
   ],
   "source": [
    "test_df = pd.read_csv(PATH+user+\"_test.csv\")\n",
    "print(\"Result on test set for user \"+personaname+\" \"+str(predict_journeys(learner,test_df)))"
   ]
  },
  {
   "cell_type": "markdown",
   "metadata": {},
   "source": [
    "### Evaluate training on scenarios.\n"
   ]
  },
  {
   "cell_type": "code",
   "execution_count": 37,
   "metadata": {},
   "outputs": [
    {
     "name": "stdout",
     "output_type": "stream",
     "text": [
      "Scenario 1 for Maria (predicted:correct) 8121680000:8121680000\n",
      "Scenario 2 for Maria (predicted:correct) 8121690042:8121690042\n",
      "Scenario 3 for Maria (predicted:correct) 8014081216:8014081216\n"
     ]
    }
   ],
   "source": [
    "scenario_1_df = pd.read_csv(PATH+user+\"_scenario_1.csv\")\n",
    "scenario_1_predicted = learner.predict(scenario_1_df.iloc[0])\n",
    "scenario_2_df = pd.read_csv(PATH+user+\"_scenario_2.csv\")\n",
    "scenario_2_predicted = learner.predict(scenario_2_df.iloc[0])\n",
    "scenario_3_df = pd.read_csv(PATH+user+\"_scenario_3.csv\")\n",
    "scenario_3_predicted = learner.predict(scenario_3_df.iloc[0])\n",
    "print(\"Scenario 1 for \"+personaname+\" (predicted:correct) \"+str(scenario_1_predicted[0])+\":\"+str(scenario_1_df.iloc[0].journey))\n",
    "print(\"Scenario 2 for \"+personaname+\" (predicted:correct) \"+str(scenario_2_predicted[0])+\":\"+str(scenario_2_df.iloc[0].journey))\n",
    "print(\"Scenario 3 for \"+personaname+\" (predicted:correct) \"+str(scenario_3_predicted[0])+\":\"+str(scenario_3_df.iloc[0].journey))"
   ]
  },
  {
   "cell_type": "markdown",
   "metadata": {},
   "source": [
    "### Combining all personas as one"
   ]
  },
  {
   "cell_type": "code",
   "execution_count": 3,
   "metadata": {},
   "outputs": [
    {
     "data": {
      "text/html": [
       "Total time: 00:12 <p><table style='width:300px; margin-bottom:10px'>\n",
       "  <tr>\n",
       "    <th>epoch</th>\n",
       "    <th>train_loss</th>\n",
       "    <th>valid_loss</th>\n",
       "    <th>accuracy</th>\n",
       "  </tr>\n",
       "  <tr>\n",
       "    <th>1</th>\n",
       "    <th>1.098171</th>\n",
       "    <th>0.420780</th>\n",
       "    <th>0.939368</th>\n",
       "  </tr>\n",
       "  <tr>\n",
       "    <th>2</th>\n",
       "    <th>0.196508</th>\n",
       "    <th>0.113992</th>\n",
       "    <th>0.986336</th>\n",
       "  </tr>\n",
       "  <tr>\n",
       "    <th>3</th>\n",
       "    <th>0.099557</th>\n",
       "    <th>0.052241</th>\n",
       "    <th>0.982921</th>\n",
       "  </tr>\n",
       "  <tr>\n",
       "    <th>4</th>\n",
       "    <th>0.062750</th>\n",
       "    <th>0.021609</th>\n",
       "    <th>0.994022</th>\n",
       "  </tr>\n",
       "  <tr>\n",
       "    <th>5</th>\n",
       "    <th>0.045203</th>\n",
       "    <th>0.023991</th>\n",
       "    <th>0.993168</th>\n",
       "  </tr>\n",
       "  <tr>\n",
       "    <th>6</th>\n",
       "    <th>0.042565</th>\n",
       "    <th>0.023711</th>\n",
       "    <th>0.994876</th>\n",
       "  </tr>\n",
       "  <tr>\n",
       "    <th>7</th>\n",
       "    <th>0.035327</th>\n",
       "    <th>0.023518</th>\n",
       "    <th>0.993168</th>\n",
       "  </tr>\n",
       "</table>\n"
      ],
      "text/plain": [
       "<IPython.core.display.HTML object>"
      ]
     },
     "metadata": {},
     "output_type": "display_data"
    },
    {
     "data": {
      "image/png": "[encoded data removed]",
      "text/plain": [
       "<Figure size 432x288 with 1 Axes>"
      ]
     },
     "metadata": {},
     "output_type": "display_data"
    },
    {
     "name": "stdout",
     "output_type": "stream",
     "text": [
      "CPU times: user 10.1 s, sys: 1.24 s, total: 11.3 s\n",
      "Wall time: 12.6 s\n"
     ]
    }
   ],
   "source": [
    "dataSet1 = pd.read_csv(PATH+\"tnK534JMwwfhvUEycn69HPbhqkt2_train_valid.csv\")\n",
    "dataSet2 = pd.read_csv(PATH+\"ehaBtfOPDNZjzy1MEvjQmGo4Zv12_train_valid.csv\")\n",
    "dataSet3 = pd.read_csv(PATH+\"hCWCulj7M1aMVyd0Fm0Eqrv8q1Q2_train_valid.csv\")\n",
    "dataSet = pd.concat([dataSet1,dataSet2,dataSet3])\n",
    "dataSet=dataSet.sample(frac=1)\n",
    "valid_idx = list(np.random.randint(0,len(dataSet),int(len(dataSet)*0.1)))\n",
    "data = (TabularList.from_df(dataSet, path=user, cat_names=cat_names, cont_names=cont_names, procs=procs)\n",
    "                .split_by_idx(valid_idx)\n",
    "                .label_from_df(cols=dep_var)\n",
    "                .databunch())\n",
    "learner=tabular_learner(data, layers=[200,100], metrics=accuracy,callback_fns=ShowGraph)\n",
    "%time learner.fit_one_cycle(7)"
   ]
  },
  {
   "cell_type": "code",
   "execution_count": 5,
   "metadata": {},
   "outputs": [
    {
     "name": "stdout",
     "output_type": "stream",
     "text": [
      "Result on test set for all users as one:0.9969088098918083\n"
     ]
    }
   ],
   "source": [
    "dataSet1 = pd.read_csv(PATH+\"tnK534JMwwfhvUEycn69HPbhqkt2_test.csv\")\n",
    "dataSet2 = pd.read_csv(PATH+\"ehaBtfOPDNZjzy1MEvjQmGo4Zv12_test.csv\")\n",
    "dataSet3 = pd.read_csv(PATH+\"hCWCulj7M1aMVyd0Fm0Eqrv8q1Q2_test.csv\")\n",
    "test_df = pd.concat([dataSet1,dataSet2,dataSet3])\n",
    "test_df=test_df.sample(frac=1)\n",
    "print(\"Result on test set for all users as one:\" +str(predict_journeys(learner,test_df)))"
   ]
  }
 ],
 "metadata": {
  "kernelspec": {
   "display_name": "Python 3",
   "language": "python",
   "name": "python3"
  },
  "language_info": {
   "codemirror_mode": {
    "name": "ipython",
    "version": 3
   },
   "file_extension": ".py",
   "mimetype": "text/x-python",
   "name": "python",
   "nbconvert_exporter": "python",
   "pygments_lexer": "ipython3",
   "version": "3.7.1"
  }
 },
 "nbformat": 4,
 "nbformat_minor": 2
}
