{
 "cells": [
  {
   "cell_type": "markdown",
   "metadata": {},
   "source": [
    "# Evaluate Machine teaching approach\n",
    "\n"
   ]
  },
  {
   "cell_type": "code",
   "execution_count": 58,
   "metadata": {},
   "outputs": [],
   "source": [
    "#Setup\n",
    "from fastai import *          # Quick accesss to most common functionality\n",
    "from fastai.tabular import *  # Quick accesss to tabular functionality     # Access to example data provided with fastai\n",
    "from fastai.vision import *\n",
    "sys.path.append(\"../code\") # go to parent dir\n",
    "from commuter import *\n",
    "PATH=\"../data/\"\n",
    "dep_var = 'journey'\n",
    "cat_names = [\"detectedActivity\",\"weekday\"]\n",
    "cont_names =[\"geoHash\",\"minuteOfDay\"]\n",
    "procs = [FillMissing, Categorify, Normalize]\n",
    "# Uncomment active user\n",
    "#user = \"tnK534JMwwfhvUEycn69HPbhqkt2\" #Maria\n",
    "user = \"ehaBtfOPDNZjzy1MEvjQmGo4Zv12\" #Andrea\n",
    "#user = \"hCWCulj7M1aMVyd0Fm0Eqrv8q1Q2\" #Bjorn\n",
    "personas = pd.read_csv(\"../data/personas.csv\")\n",
    "personaname = personas.loc[personas['id']==user]['name'].iloc[0]\n",
    "\n",
    "def evaluate_teaching_daily(learner,testset):\n",
    "    result = []\n",
    "    oldDayNumber=-1\n",
    "    daySet = DataFrame(testset[0:0]) #copy structure:\n",
    "    for row in testset.itertuples():\n",
    "        if oldDayNumber != row[4] or row[0]+1==len(testset): #A new day!   \n",
    "            if (row[0]+1==len(testset)):   ##if last line add that row\n",
    "                daySet = daySet.append(testset.iloc[row[0]]) \n",
    "            if len(daySet)>0:\n",
    "                accuracy = round(predict_journeys(learner,daySet),3)\n",
    "                result.append([accuracy,oldDayNumber])\n",
    "                daySet = daySet.iloc[0:0]\n",
    "                daySet =daySet.append(testset.iloc[row[0]])\n",
    "            else: ##it is first row or no teaching data exists(Cold start) so no training is possible\n",
    "                daySet = daySet.append(testset.iloc[row[0]])\n",
    "            #shamecode below.....\n",
    "            #Adds extra rows with 0 accuracy if there are days with no data.\n",
    "            emptyDays = 0\n",
    "            if oldDayNumber == 6: #End of week\n",
    "                emptyDays = row[4]\n",
    "            if row[4]-oldDayNumber>1 and oldDayNumber != -1:\n",
    "                emptyDays = row[4]-oldDayNumber-1\n",
    "            for i in range(0,emptyDays):\n",
    "                result.append([0,(i+oldDayNumber)%6])  \n",
    "            oldDayNumber = row[4]\n",
    "        else: # same old day add the row  \n",
    "            daySet = daySet.append(testset.iloc[row[0]])\n",
    "    return (result)"
   ]
  },
  {
   "cell_type": "markdown",
   "metadata": {},
   "source": [
    "### Accuracy daily during the initial 14 days of use."
   ]
  },
  {
   "cell_type": "code",
   "execution_count": 59,
   "metadata": {},
   "outputs": [
    {
     "data": {
      "text/html": [
       "Total time: 00:03 <p><table style='width:300px; margin-bottom:10px'>\n",
       "  <tr>\n",
       "    <th>epoch</th>\n",
       "    <th>train_loss</th>\n",
       "    <th>valid_loss</th>\n",
       "    <th>accuracy</th>\n",
       "  </tr>\n",
       "  <tr>\n",
       "    <th>1</th>\n",
       "    <th>1.024332</th>\n",
       "    <th>1.255213</th>\n",
       "    <th>0.870000</th>\n",
       "  </tr>\n",
       "  <tr>\n",
       "    <th>2</th>\n",
       "    <th>0.583033</th>\n",
       "    <th>0.727083</th>\n",
       "    <th>0.940000</th>\n",
       "  </tr>\n",
       "  <tr>\n",
       "    <th>3</th>\n",
       "    <th>0.365820</th>\n",
       "    <th>0.267548</th>\n",
       "    <th>1.000000</th>\n",
       "  </tr>\n",
       "  <tr>\n",
       "    <th>4</th>\n",
       "    <th>0.245920</th>\n",
       "    <th>0.084069</th>\n",
       "    <th>1.000000</th>\n",
       "  </tr>\n",
       "  <tr>\n",
       "    <th>5</th>\n",
       "    <th>0.173918</th>\n",
       "    <th>0.036445</th>\n",
       "    <th>1.000000</th>\n",
       "  </tr>\n",
       "  <tr>\n",
       "    <th>6</th>\n",
       "    <th>0.127653</th>\n",
       "    <th>0.023212</th>\n",
       "    <th>1.000000</th>\n",
       "  </tr>\n",
       "  <tr>\n",
       "    <th>7</th>\n",
       "    <th>0.096621</th>\n",
       "    <th>0.019350</th>\n",
       "    <th>1.000000</th>\n",
       "  </tr>\n",
       "</table>\n"
      ],
      "text/plain": [
       "<IPython.core.display.HTML object>"
      ]
     },
     "metadata": {},
     "output_type": "display_data"
    },
    {
     "data": {
      "image/png": "[encoded data removed]",
      "text/plain": [
       "<Figure size 432x288 with 1 Axes>"
      ]
     },
     "metadata": {},
     "output_type": "display_data"
    },
    {
     "name": "stdout",
     "output_type": "stream",
     "text": [
      "CPU times: user 1.77 s, sys: 756 ms, total: 2.52 s\n",
      "Wall time: 3.15 s\n"
     ]
    }
   ],
   "source": [
    "#%%capture\n",
    "teachingSet = pd.read_csv(PATH+user+\"_teaching_set.csv\")\n",
    "teachingSet= make_shure_we_got_enough_rows(teachingSet)\n",
    "valid_idx = list(np.random.randint(0,len(teachingSet),int(len(teachingSet)*0.1)))\n",
    "data = (TabularList.from_df(teachingSet, path=user, cat_names=cat_names, cont_names=cont_names, procs=procs)\n",
    "                .split_by_idx(valid_idx)\n",
    "                .label_from_df(cols=dep_var)\n",
    "                .databunch())\n",
    "learner=tabular_learner(data, layers=[200,100], metrics=accuracy,callback_fns=ShowGraph)\n",
    "%time learner.fit_one_cycle(7)\n"
   ]
  },
  {
   "cell_type": "code",
   "execution_count": 60,
   "metadata": {},
   "outputs": [
    {
     "name": "stdout",
     "output_type": "stream",
     "text": [
      "Test set accuracy: 0.8835978835978836\n"
     ]
    }
   ],
   "source": [
    "testSet = pd.read_csv(PATH+user+\"_test.csv\")\n",
    "result = predict_journeys(learner,testSet)\n",
    "print(\"Test set accuracy: \"+str(result))"
   ]
  },
  {
   "cell_type": "code",
   "execution_count": 61,
   "metadata": {},
   "outputs": [
    {
     "name": "stdout",
     "output_type": "stream",
     "text": [
      "[[0.0, 6], [1.0, 0], [1.0, 1], [0.571, 2], [1.0, 3], [0.6, 4], [0.444, 5], [0.0, 0], [1.0, 1], [0.556, 2], [1.0, 3], [0.5, 4], [1.0, 5]]\n"
     ]
    }
   ],
   "source": [
    "the14FirstDays = pd.read_csv(PATH+user+\"_start14days.csv\")\n",
    "result = evaluate_teaching_daily(learner,the14FirstDays)\n",
    "print(result)\n",
    "save_results(user+\"_result_teaching_14days.csv\",result)"
   ]
  },
  {
   "cell_type": "markdown",
   "metadata": {},
   "source": [
    "### Iterative training daily during the initial 14 days of use, a teaching set is added to the training data.\n",
    "Here we add an idealised teaching set in the beginning of our dataset. Then we start training from day 0 using only the data in the teachingset and contiuing as in the section above.\n",
    "Teachingset:\n",
    "\n",
    "Andrea:\n",
    "[Verbose](https://github.com/k3larra/commuter/blob/master/data/ehaBtfOPDNZjzy1MEvjQmGo4Zv12_teaching_set.csv)\n",
    "[Minimal](../commuter/data/ehaBtfOPDNZjzy1MEvjQmGo4Zv12_teaching_set_minimal.csv)\n",
    "\n",
    "Björn:\n",
    "[Verbose](https://github.com/k3larra/commuter/blob/master/data/hCWCulj7M1aMVyd0Fm0Eqrv8q1Q2_teaching_set.csv)\n",
    "[Minimal](../commuter/data/hCWCulj7M1aMVyd0Fm0Eqrv8q1Q2_teaching_set_minimal.csv)\n",
    "\n",
    "Maria:\n",
    "[Verbose](https://github.com/k3larra/commuter/blob/master/data/tnK534JMwwfhvUEycn69HPbhqkt2_teaching_set.csv)\n",
    "[Minimal](../commuter/data/tnK534JMwwfhvUEycn69HPbhqkt2_teaching_set_minimal.csv)"
   ]
  },
  {
   "cell_type": "markdown",
   "metadata": {},
   "source": [
    "### Show results\n",
    "Prints results from training done in the cells above."
   ]
  },
  {
   "cell_type": "code",
   "execution_count": 81,
   "metadata": {},
   "outputs": [
    {
     "data": {
      "image/png": "[encoded data removed]",
      "text/plain": [
       "<Figure size 432x288 with 1 Axes>"
      ]
     },
     "metadata": {
      "needs_background": "light"
     },
     "output_type": "display_data"
    }
   ],
   "source": [
    "import matplotlib.pyplot as plt\n",
    "from matplotlib.ticker import FuncFormatter, MaxNLocator\n",
    "#import pandas as pd\n",
    "#Uncomment to look at individual result for other users that the default declared above.\n",
    "#user = \"tnK534JMwwfhvUEycn69HPbhqkt2\" #Maria\n",
    "user = \"ehaBtfOPDNZjzy1MEvjQmGo4Zv12\" #Andrea\n",
    "#user = \"hCWCulj7M1aMVyd0Fm0Eqrv8q1Q2\" #Bjorn]\n",
    "teaching_ax0= pd.read_csv(\"saved/\"+user+\"_result_teaching_14days.csv\",header=None).values\n",
    "#teaching_ax0 = pd.read_csv(\"saved/Iterative_time_teach\"+user+\".csv\",header=None).values\n",
    "#teaching_min_ax0 = pd.read_csv(\"saved/Iterative_time_teach_minimal\"+user+\".csv\",header=None).values\n",
    "#supervised_min_ax0 = pd.read_csv(\"saved/Iterative_time_supervised\"+user+\".csv\",header=None).values\n",
    "fig, ax0 = plt.subplots()\n",
    "DayOfWeekOfCall = [\"Sun\",\"Mon\",\"Tue\",\"Wed\",\"Thu\",\"Fri\",\"Sat\"]\n",
    "ax0.set_title(personaname+\":\"+user)\n",
    "ax0.bar(teaching_ax0[:,1],teaching_ax0[:,0],label='Teaching')\n",
    "plt.xticks(np.arange(7), (\"Sun\",\"Mon\",\"Tue\",\"Wed\",\"Thu\",\"Fri\",\"Sat\"))\n",
    "plt.xlabel('Weekday')\n",
    "plt.ylabel('Accuracy')\n",
    "legend = ax0.legend(loc='lower right', shadow=True, fontsize='medium')\n",
    "plt.show()"
   ]
  },
  {
   "cell_type": "markdown",
   "metadata": {},
   "source": [
    "### Evaluate on test set\n",
    "Evaluate using the test set on a trained \"learner\"*"
   ]
  },
  {
   "cell_type": "code",
   "execution_count": 83,
   "metadata": {},
   "outputs": [
    {
     "name": "stdout",
     "output_type": "stream",
     "text": [
      "Scenario 1 for Andrea (predicted:correct) 8107981156:8107981156\n",
      "Scenario 2 for Andrea (predicted:correct) 8107981703:8107981703\n",
      "Scenario 3 for Andrea (predicted:correct) 8115681079:8115681079\n"
     ]
    }
   ],
   "source": [
    "scenario_1_df = pd.read_csv(PATH+user+\"_scenario_1.csv\")\n",
    "scenario_1_predicted = learner.predict(scenario_1_df.iloc[0])\n",
    "scenario_2_df = pd.read_csv(PATH+user+\"_scenario_2.csv\")\n",
    "scenario_2_predicted = learner.predict(scenario_2_df.iloc[0])\n",
    "scenario_3_df = pd.read_csv(PATH+user+\"_scenario_3.csv\")\n",
    "scenario_3_predicted = learner.predict(scenario_3_df.iloc[0])\n",
    "print(\"Scenario 1 for \"+personaname+\" (predicted:correct) \"+str(scenario_1_predicted[0])+\":\"+str(scenario_1_df.iloc[0].journey))\n",
    "print(\"Scenario 2 for \"+personaname+\" (predicted:correct) \"+str(scenario_2_predicted[0])+\":\"+str(scenario_2_df.iloc[0].journey))\n",
    "print(\"Scenario 3 for \"+personaname+\" (predicted:correct) \"+str(scenario_3_predicted[0])+\":\"+str(scenario_3_df.iloc[0].journey))"
   ]
  },
  {
   "cell_type": "markdown",
   "metadata": {},
   "source": [
    "#### Predict on individual journey"
   ]
  }
 ],
 "metadata": {
  "kernelspec": {
   "display_name": "Python 3",
   "language": "python",
   "name": "python3"
  },
  "language_info": {
   "codemirror_mode": {
    "name": "ipython",
    "version": 3
   },
   "file_extension": ".py",
   "mimetype": "text/x-python",
   "name": "python",
   "nbconvert_exporter": "python",
   "pygments_lexer": "ipython3",
   "version": "3.7.1"
  }
 },
 "nbformat": 4,
 "nbformat_minor": 2
}
