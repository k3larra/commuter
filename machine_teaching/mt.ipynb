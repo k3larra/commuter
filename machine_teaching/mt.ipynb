{
 "cells": [
  {
   "cell_type": "markdown",
   "metadata": {},
   "source": [
    "# Evaluate Machine teaching approach\n",
    "Training is done efter creating a teaching sets by reading the personas and their scenarios."
   ]
  },
  {
   "cell_type": "code",
   "execution_count": 3,
   "metadata": {},
   "outputs": [
    {
     "name": "stdout",
     "output_type": "stream",
     "text": [
      "Python version: 3.7.2 (default, Dec 29 2018, 06:19:36) \n",
      "[GCC 7.3.0]\n"
     ]
    }
   ],
   "source": [
    "#Setup\n",
    "from fastai import *          # Quick accesss to most common functionality\n",
    "from fastai.tabular import *  # Quick accesss to tabular functionality     # Access to example data provided with fastai\n",
    "from fastai.vision import *\n",
    "sys.path.append(\"../code\") # go to parent dir\n",
    "from commuter import *\n",
    "print(\"Python version: \"+sys.version)\n",
    "PATH=\"../data/\"\n",
    "dep_var = 'journey'\n",
    "cat_names = [\"detectedActivity\",\"weekday\"]\n",
    "cont_names =[\"geoHash\",\"minuteOfDay\"]\n",
    "usecols=['detectedActivity','geoHash','minuteOfDay','weekday','journey']\n",
    "procs = [FillMissing, Categorify, Normalize]\n",
    "# Uncomment active user\n",
    "#user = \"ehaBtfOPDNZjzy1MEvjQmGo4Zv12\" #Andrea\n",
    "#user = \"hCWCulj7M1aMVyd0Fm0Eqrv8q1Q2\" #Bjorn\n",
    "user = \"tnK534JMwwfhvUEycn69HPbhqkt2\" #Maria\n",
    "personas = pd.read_csv(\"../data/personas.csv\")\n",
    "personaname = personas.loc[personas['id']==user]['name'].iloc[0]\n",
    "#stations = pd.read_csv(\"../data/stations.csv\")\n",
    "    \n",
    "def select_rows(predicted_journey,correct_journey,result_set):\n",
    "    result = []\n",
    "    for row in result_set.itertuples():\n",
    "        if (row[1]==predicted_journey and row[4]==correct_journey):\n",
    "            result.append(row)\n",
    "    return result"
   ]
  },
  {
   "cell_type": "markdown",
   "metadata": {},
   "source": [
    "### Train learner."
   ]
  },
  {
   "cell_type": "code",
   "execution_count": 4,
   "metadata": {},
   "outputs": [
    {
     "data": {
      "text/html": [
       "Total time: 00:08 <p><table style='width:300px; margin-bottom:10px'>\n",
       "  <tr>\n",
       "    <th>epoch</th>\n",
       "    <th>train_loss</th>\n",
       "    <th>valid_loss</th>\n",
       "    <th>accuracy</th>\n",
       "  </tr>\n",
       "  <tr>\n",
       "    <th>1</th>\n",
       "    <th>1.396353</th>\n",
       "    <th>1.752385</th>\n",
       "    <th>0.316667</th>\n",
       "  </tr>\n",
       "  <tr>\n",
       "    <th>2</th>\n",
       "    <th>0.934742</th>\n",
       "    <th>1.273829</th>\n",
       "    <th>0.833333</th>\n",
       "  </tr>\n",
       "  <tr>\n",
       "    <th>3</th>\n",
       "    <th>0.617409</th>\n",
       "    <th>0.644295</th>\n",
       "    <th>0.900000</th>\n",
       "  </tr>\n",
       "  <tr>\n",
       "    <th>4</th>\n",
       "    <th>0.423758</th>\n",
       "    <th>0.205817</th>\n",
       "    <th>1.000000</th>\n",
       "  </tr>\n",
       "  <tr>\n",
       "    <th>5</th>\n",
       "    <th>0.304959</th>\n",
       "    <th>0.079827</th>\n",
       "    <th>1.000000</th>\n",
       "  </tr>\n",
       "  <tr>\n",
       "    <th>6</th>\n",
       "    <th>0.232880</th>\n",
       "    <th>0.052818</th>\n",
       "    <th>1.000000</th>\n",
       "  </tr>\n",
       "  <tr>\n",
       "    <th>7</th>\n",
       "    <th>0.179380</th>\n",
       "    <th>0.046892</th>\n",
       "    <th>1.000000</th>\n",
       "  </tr>\n",
       "</table>\n"
      ],
      "text/plain": [
       "<IPython.core.display.HTML object>"
      ]
     },
     "metadata": {},
     "output_type": "display_data"
    },
    {
     "data": {
      "image/png": "[encoded data removed]",
      "text/plain": [
       "<Figure size 432x288 with 1 Axes>"
      ]
     },
     "metadata": {},
     "output_type": "display_data"
    },
    {
     "name": "stdout",
     "output_type": "stream",
     "text": [
      "CPU times: user 4.03 s, sys: 3.66 s, total: 7.69 s\n",
      "Wall time: 8.62 s\n"
     ]
    }
   ],
   "source": [
    "#%%capture\n",
    "#teachingSetName=\"_teaching_set_minimal.csv\"\n",
    "#teachingSetName=\"_teaching_set.csv\"\n",
    "teachingSetName=\"_teaching_set_aug.csv\"\n",
    "#teachingSetName=\"_train_valid.csv\"\n",
    "teachingSet = pd.read_csv(PATH+user+teachingSetName,usecols=usecols)\n",
    "teachingSet= make_shure_we_got_enough_rows(teachingSet)\n",
    "valid_idx = list(np.random.randint(0,len(teachingSet),int(len(teachingSet)*0.1)))\n",
    "data = (TabularList.from_df(teachingSet, path=user, cat_names=cat_names, cont_names=cont_names, procs=procs)\n",
    "                .split_by_idx(valid_idx)\n",
    "                .label_from_df(cols=dep_var)\n",
    "                .databunch())\n",
    "learner=tabular_learner(data, layers=[200,100], metrics=accuracy,callback_fns=ShowGraph)\n",
    "%time learner.fit_one_cycle(7)\n"
   ]
  },
  {
   "cell_type": "code",
   "execution_count": 5,
   "metadata": {},
   "outputs": [],
   "source": [
    "testset = pd.read_csv(PATH+user+\"_test.csv\",usecols=['detectedActivity','geoHash','minuteOfDay','weekday','journey'])\n",
    "#testset = pd.read_csv(PATH+user+\"_start14days.csv\")\n",
    "result = evaluate_learning(learner,testset)\n",
    "a = np.asarray(result)\n",
    "#print(a)\n",
    "np.savetxt(\"saved/\"+user+\"_result\"+teachingSetName,a,delimiter=',',fmt=[\"%s\",\"%10.2f\",\"%10.2f\",\"%s\"])"
   ]
  },
  {
   "cell_type": "markdown",
   "metadata": {},
   "source": [
    "### Check towards users test set \n",
    "Gives som kind of baseline for the trained model by evaluation on the users [test set](../data/data.md)"
   ]
  },
  {
   "cell_type": "code",
   "execution_count": 6,
   "metadata": {},
   "outputs": [
    {
     "name": "stdout",
     "output_type": "stream",
     "text": [
      "Test set accuracy for: Maria:0.957037037037037\n"
     ]
    }
   ],
   "source": [
    "testSet = pd.read_csv(PATH+user+\"_test.csv\",usecols=['detectedActivity','geoHash','minuteOfDay','weekday','journey'])\n",
    "result = predict_journeys(learner,testSet)\n",
    "print(\"Test set accuracy for: \"+personaname+\":\"+str(result))"
   ]
  },
  {
   "cell_type": "markdown",
   "metadata": {},
   "source": [
    "### Show accuracy over the 14 first days\n",
    "Prints results from training for different teaching sets. Standard deviation for the accuracy is plotted in the graph. The \"No teaching\" bar represent traininn over one year of [clean data](../data/data.md).\n",
    "<br>Teachingsets used:<br>\n",
    "Andrea:\n",
    "[Verbose](../data/ehaBtfOPDNZjzy1MEvjQmGo4Zv12_teaching_set.csv)\n",
    "[Limited](../data/ehaBtfOPDNZjzy1MEvjQmGo4Zv12_teaching_set_minimal.csv)\n",
    "<br>Björn:\n",
    "[Verbose](../data/hCWCulj7M1aMVyd0Fm0Eqrv8q1Q2_teaching_set.csv)\n",
    "[Limited](../data/hCWCulj7M1aMVyd0Fm0Eqrv8q1Q2_teaching_set_minimal.csv)\n",
    "<br>Maria:\n",
    "[Verbose](../data/tnK534JMwwfhvUEycn69HPbhqkt2_teaching_set.csv)\n",
    "[Limited](../data/tnK534JMwwfhvUEycn69HPbhqkt2_teaching_set_minimal.csv)"
   ]
  },
  {
   "cell_type": "code",
   "execution_count": 7,
   "metadata": {},
   "outputs": [
    {
     "data": {
      "image/png": "[encoded data removed]",
      "text/plain": [
       "<Figure size 432x288 with 1 Axes>"
      ]
     },
     "metadata": {
      "needs_background": "light"
     },
     "output_type": "display_data"
    }
   ],
   "source": [
    "import matplotlib.pyplot as plt\n",
    "from matplotlib.ticker import FuncFormatter, MaxNLocator\n",
    "teaching_ax00= pd.read_csv(\"saved/\"+user+\"_result_teaching_set_aug.csv\",header=None,names=[\"Journey_pred\", \"Accuracy\", \"Day\",\"Journey_corr\"])\n",
    "teaching_ax00_std = teaching_ax00.groupby(by=\"Day\")[\"Accuracy\"].std().reset_index().rename(index=str,columns=({\"Accuracy\":\"std\"}))\n",
    "teaching_ax00 = teaching_ax00.groupby(by=\"Day\")[\"Accuracy\"].mean().reset_index()\n",
    "\n",
    "teaching_ax0= pd.read_csv(\"saved/\"+user+\"_result_teaching_set_minimal.csv\",header=None,names=[\"Journey_pred\", \"Accuracy\", \"Day\",\"Journey_corr\"])\n",
    "teaching_ax0_std = teaching_ax0.groupby(by=\"Day\")[\"Accuracy\"].std().reset_index().rename(index=str,columns=({\"Accuracy\":\"std\"}))\n",
    "teaching_ax0 = teaching_ax0.groupby(by=\"Day\")[\"Accuracy\"].mean().reset_index()\n",
    "\n",
    "teaching_ax1= pd.read_csv(\"saved/\"+user+\"_result_teaching_set.csv\",header=None,names=[\"Journey\", \"Accuracy\", \"Day\",\"Journey_corr\"])\n",
    "teaching_ax1_std = teaching_ax1.groupby(by=\"Day\")[\"Accuracy\"].std().reset_index().rename(index=str,columns=({\"Accuracy\":\"std\"}))\n",
    "teaching_ax1 = teaching_ax1.groupby(by=\"Day\")[\"Accuracy\"].mean().reset_index()\n",
    "\n",
    "teaching_ax2= pd.read_csv(\"saved/\"+user+\"_result_train_valid.csv\",header=None,names=[\"Journey\", \"Accuracy\", \"Day\",\"Journey_corr\"])\n",
    "teaching_ax2_std = teaching_ax2.groupby(by=\"Day\")[\"Accuracy\"].std().reset_index().rename(index=str,columns=({\"Accuracy\":\"std\"}))\n",
    "teaching_ax2 = teaching_ax2.groupby(by=\"Day\")[\"Accuracy\"].mean().reset_index()\n",
    "bar_width = 0.20\n",
    "fig,ax0  = plt.subplots()\n",
    "ax0.set_title(personaname+\":\"+user)\n",
    "ax0.bar(teaching_ax00[\"Day\"]-2*bar_width,teaching_ax00[\"Accuracy\"],bar_width,label='Teaching (augmentation)',yerr=teaching_ax00_std[\"std\"])\n",
    "ax0.bar(teaching_ax0[\"Day\"]-bar_width,teaching_ax0[\"Accuracy\"],bar_width,label='Teaching minimal',yerr=teaching_ax0_std[\"std\"])\n",
    "ax0.bar(teaching_ax1[\"Day\"],teaching_ax1[\"Accuracy\"],bar_width, label='Teaching',yerr=teaching_ax1_std[\"std\"])\n",
    "ax0.bar(teaching_ax2[\"Day\"]+bar_width,teaching_ax2[\"Accuracy\"],bar_width, label='No Teaching',yerr=teaching_ax2_std[\"std\"])\n",
    "plt.xticks(np.arange(7), (\"Sun\",\"Mon\",\"Tue\",\"Wed\",\"Thu\",\"Fri\",\"Sat\"))\n",
    "plt.xlabel('Weekday')\n",
    "plt.ylabel('Accuracy')\n",
    "legend = ax0.legend(loc='lower right', shadow=True, fontsize='medium')\n",
    "plt.show()"
   ]
  },
  {
   "cell_type": "markdown",
   "metadata": {},
   "source": [
    "### Confusion Matrix\n",
    "Confusion matrix over the first 14 days"
   ]
  },
  {
   "cell_type": "code",
   "execution_count": 8,
   "metadata": {},
   "outputs": [
    {
     "name": "stdout",
     "output_type": "stream",
     "text": [
      "Maria\n"
     ]
    },
    {
     "data": {
      "text/plain": [
       "<matplotlib.axes._subplots.AxesSubplot at 0x7f566064da20>"
      ]
     },
     "execution_count": 8,
     "metadata": {},
     "output_type": "execute_result"
    },
    {
     "data": {
      "image/png": "[encoded data removed]",
      "text/plain": [
       "<Figure size 648x576 with 2 Axes>"
      ]
     },
     "metadata": {
      "needs_background": "light"
     },
     "output_type": "display_data"
    }
   ],
   "source": [
    "from pandas_ml import ConfusionMatrix\n",
    "#teachingSetName=\"_teaching_set_minimal.csv\"\n",
    "#teachingSetName=\"_teaching_set.csv\"\n",
    "teachingSetName=\"_teaching_set_aug.csv\"\n",
    "#teachingSetName=\"_train_valid.csv\"\n",
    "result_teaching= pd.read_csv(\"saved/\"+user+\"_result\"+teachingSetName,header=None,names=[\"Journey_pred\", \"Accuracy\", \"Day\",\"Journey_corr\"])\n",
    "y_true = result_teaching[\"Journey_corr\"].apply(from_to)\n",
    "y_pred = result_teaching[\"Journey_pred\"].apply(from_to)\n",
    "confusion_matrix = ConfusionMatrix(y_true,y_pred)\n",
    "print(personaname)\n",
    "#print(\"Confusion matrix:\\n%s\" % confusion_matrix)\n",
    "confusion_matrix.plot()"
   ]
  },
  {
   "cell_type": "code",
   "execution_count": 17,
   "metadata": {},
   "outputs": [],
   "source": [
    "#Predicted,Actual\n",
    "#Print rows in test set that corresponds to predicted result:actual result\n",
    "testset = pd.read_csv(PATH+user+\"_start14days.csv\")\n",
    "result = select_rows(8170381079,8115681079,result_teaching)\n",
    "for i in range(len(result)):\n",
    "    #print(result[i].Index)\n",
    "    print(testset.iloc[result[i].Index])"
   ]
  },
  {
   "cell_type": "code",
   "execution_count": 7,
   "metadata": {},
   "outputs": [],
   "source": [
    "#confusion_matrix.print_stats()"
   ]
  },
  {
   "cell_type": "markdown",
   "metadata": {},
   "source": [
    "#### Predict on scenarios"
   ]
  },
  {
   "cell_type": "code",
   "execution_count": 5,
   "metadata": {},
   "outputs": [
    {
     "name": "stdout",
     "output_type": "stream",
     "text": [
      "Scenario 1 for Andrea (predicted:correct) 8107981156:8107981156\n",
      "Scenario 2 for Andrea (predicted:correct) 8107981703:8107981703\n",
      "Scenario 3 for Andrea (predicted:correct) 8115681079:8115681079\n"
     ]
    }
   ],
   "source": [
    "scenario_1_df = pd.read_csv(PATH+user+\"_scenario_1.csv\")\n",
    "scenario_1_predicted = learner.predict(scenario_1_df.iloc[0])\n",
    "scenario_2_df = pd.read_csv(PATH+user+\"_scenario_2.csv\")\n",
    "scenario_2_predicted = learner.predict(scenario_2_df.iloc[0])\n",
    "scenario_3_df = pd.read_csv(PATH+user+\"_scenario_3.csv\")\n",
    "scenario_3_predicted = learner.predict(scenario_3_df.iloc[0])\n",
    "print(\"Scenario 1 for \"+personaname+\" (predicted:correct) \"+str(scenario_1_predicted[0])+\":\"+str(scenario_1_df.iloc[0].journey))\n",
    "print(\"Scenario 2 for \"+personaname+\" (predicted:correct) \"+str(scenario_2_predicted[0])+\":\"+str(scenario_2_df.iloc[0].journey))\n",
    "print(\"Scenario 3 for \"+personaname+\" (predicted:correct) \"+str(scenario_3_predicted[0])+\":\"+str(scenario_3_df.iloc[0].journey))"
   ]
  },
  {
   "cell_type": "code",
   "execution_count": null,
   "metadata": {},
   "outputs": [],
   "source": []
  }
 ],
 "metadata": {
  "kernelspec": {
   "display_name": "Python 3",
   "language": "python",
   "name": "python3"
  },
  "language_info": {
   "codemirror_mode": {
    "name": "ipython",
    "version": 3
   },
   "file_extension": ".py",
   "mimetype": "text/x-python",
   "name": "python",
   "nbconvert_exporter": "python",
   "pygments_lexer": "ipython3",
   "version": "3.7.2"
  }
 },
 "nbformat": 4,
 "nbformat_minor": 2
}
