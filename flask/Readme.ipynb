{
 "cells": [
  {
   "cell_type": "markdown",
   "metadata": {},
   "source": [
    "## A flask micro web framework.\n",
    "Used to make predictions aviable and have models preloded to spead up prediction times. Uses only for server internal communication between the nodejs server and the flask framework. Prediction reguest arriving to the nodejs server from firebase are sent to the flask server that únns the python code and return predictions. \n"
   ]
  },
  {
   "cell_type": "code",
   "execution_count": 21,
   "metadata": {},
   "outputs": [],
   "source": [
    "# Start flask server Run from command prompt doesnt work from here ????? \n",
    "# export FLASK_APP=predictTrainDelete.py \n",
    "# export FLASK_DEBUG=1\n",
    "# flask run "
   ]
  },
  {
   "cell_type": "markdown",
   "metadata": {},
   "source": [
    "### Function get prediction"
   ]
  },
  {
   "cell_type": "code",
   "execution_count": 20,
   "metadata": {},
   "outputs": [
    {
     "data": {
      "text/plain": [
       "b'{\"probability\": \"0.44\", \"fromStation\": \"80000\", \"toStation\": \"80002\", \"error\": 0}'"
      ]
     },
     "execution_count": 20,
     "metadata": {},
     "output_type": "execute_result"
    }
   ],
   "source": [
    "import json\n",
    "import requests\n",
    "#requests.get(url='http://127.0.0.1:5000/predict?userId=hCWCulj7M1aMVyd0Fm0Eqrv8q1Q2&detectedActivity=3&geoHash=123456&minuteOfDay=234&weekday=7').content\n",
    "requests.get(url='http://127.0.0.1:5000/predict?userId=tnK534JMwwfhvUEycn69HPbhqkt2&detectedActivity=3&longitude=13.0017554&latitude=55.5916766&minuteOfDay=709&weekday=4').content"
   ]
  },
  {
   "cell_type": "markdown",
   "metadata": {},
   "source": [
    "### Function retrain"
   ]
  },
  {
   "cell_type": "code",
   "execution_count": 16,
   "metadata": {},
   "outputs": [
    {
     "data": {
      "text/plain": [
       "b'{\"error\": 2}'"
      ]
     },
     "execution_count": 16,
     "metadata": {},
     "output_type": "execute_result"
    }
   ],
   "source": [
    "import json\n",
    "import requests\n",
    "requests.get(url='http://localhost:5000/retrain?userId=tnK534JMwwfhvUEycn69HPbhqkt2').content"
   ]
  },
  {
   "cell_type": "code",
   "execution_count": 25,
   "metadata": {},
   "outputs": [],
   "source": [
    "import os\n",
    "import datetime\n",
    "import shutil\n",
    "deleted_data_dir = '../../userdata/deleted_data/'\n",
    "data_dir = '../../userdata/data/'\n",
    "userId = \"tnK534JMwwfhvUEycn69HPbhqkt2\"\n",
    "foldername = deleted_data_dir+datetime.datetime.now().strftime('%Y-%m-%d_%H-%M-%S')\n",
    "os.mkdir(foldername)\n",
    "for filename in os.listdir(data_dir):\n",
    "                if filename.startswith(userId):\n",
    "                    shutil.copyfile(data_dir+filename, foldername+\"/\"+filename)                "
   ]
  },
  {
   "cell_type": "code",
   "execution_count": null,
   "metadata": {},
   "outputs": [],
   "source": []
  }
 ],
 "metadata": {
  "kernelspec": {
   "display_name": "Python 3",
   "language": "python",
   "name": "python3"
  },
  "language_info": {
   "codemirror_mode": {
    "name": "ipython",
    "version": 3
   },
   "file_extension": ".py",
   "mimetype": "text/x-python",
   "name": "python",
   "nbconvert_exporter": "python",
   "pygments_lexer": "ipython3",
   "version": "3.7.2"
  }
 },
 "nbformat": 4,
 "nbformat_minor": 2
}
