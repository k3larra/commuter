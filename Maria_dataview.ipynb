{
 "cells": [
  {
   "cell_type": "markdown",
   "metadata": {},
   "source": [
    "# Visualisation [Marias](Maria.md) data\n",
    "ID: tnK534JMwwfhvUEycn69HPbhqkt2\n",
    "Marias data is presented below after one week of use, one month of use and one year of use. The data reflects her persona and travel patterns."
   ]
  },
  {
   "cell_type": "code",
   "execution_count": 4,
   "metadata": {
    "scrolled": false
   },
   "outputs": [
    {
     "name": "stdout",
     "output_type": "stream",
     "text": [
      "Index([u'detectedActivity', u'geoHash', u'minuteOfDay', u'weekday',\n",
      "       u'journey'],\n",
      "      dtype='object')\n",
      "(6759, 5)\n"
     ]
    },
    {
     "data": {
      "image/png": "[encoded data removed]",
      "text/plain": [
       "<Figure size 432x288 with 1 Axes>"
      ]
     },
     "metadata": {},
     "output_type": "display_data"
    },
    {
     "data": {
      "image/png": "[encoded data removed]",
      "text/plain": [
       "<Figure size 432x288 with 1 Axes>"
      ]
     },
     "metadata": {},
     "output_type": "display_data"
    },
    {
     "data": {
      "image/png": "[encoded data removed]",
      "text/plain": [
       "<Figure size 432x288 with 1 Axes>"
      ]
     },
     "metadata": {},
     "output_type": "display_data"
    },
    {
     "data": {
      "image/png": "[encoded data removed]",
      "text/plain": [
       "<Figure size 432x288 with 1 Axes>"
      ]
     },
     "metadata": {},
     "output_type": "display_data"
    }
   ],
   "source": [
    "import numpy as np\n",
    "import pandas as pd\n",
    "import matplotlib.pyplot as plt\n",
    "import random\n",
    "import scipy.spatial.distance\n",
    "##Uncomment here\n",
    "#Week\n",
    "#trainingData = np.array(pd.read_csv(\"data/tnK534JMwwfhvUEycn69HPbhqkt2.csv\",comment=\"-\",skiprows=range(159,6762)))\n",
    "#Month\n",
    "#trainingData = np.array(pd.read_csv(\"data/tnK534JMwwfhvUEycn69HPbhqkt2.csv\",comment=\"-\",skiprows=range(500,6762)))\n",
    "#Year\n",
    "trainingData = np.array(pd.read_csv(\"data/tnK534JMwwfhvUEycn69HPbhqkt2.csv\",comment=\"-\"))\n",
    "training = pd.read_csv(\"data/tnK534JMwwfhvUEycn69HPbhqkt2.csv\",comment=\"-\")\n",
    "range(1001)\n",
    "labelData = trainingData[:,4]\n",
    "labelData = np.transpose(labelData)\n",
    "trainingTuples = trainingData[:,:4]\n",
    "#Minute\n",
    "plt.title(\"MinuteOfDay\")\n",
    "plt.hist(trainingData[:,2],60)\n",
    "plt.show()\n",
    "#Weekday\n",
    "names=[\"Sun\",\"Mon\",\"Tue\",\"Wed\",\"Thur\",\"Fri\",\"Sat\",\"what\"]\n",
    "plt.title(\"Weekday\")\n",
    "x=plt.bar(names,np.bincount(trainingData[:,3],minlength=8),0.3,)\n",
    "plt.show()\n",
    "#Activities\n",
    "names=[\"Vehicle\",\"Bicycle\",\"Foot\",\"Still\",\"UnK\",\"Tilting\",\"NN\",\"Walk\",\"Run\"]\n",
    "plt.title(\"Activities\")\n",
    "x=plt.bar(names,np.bincount(trainingData[:,0],minlength=9),0.3,)\n",
    "plt.show()\n",
    "#Location\n",
    "plt.title(\"Location\")\n",
    "result2=np.true_divide(trainingData[:,1],10000)\n",
    "plt.hist(result2,100)\n",
    "plt.show()"
   ]
  },
  {
   "cell_type": "code",
   "execution_count": 42,
   "metadata": {},
   "outputs": [
    {
     "name": "stdout",
     "output_type": "stream",
     "text": [
      "Tensorflow version: 1.8.0 Python version: 2.7.12 (default, Dec  4 2017, 14:50:18) \n",
      "[GCC 5.4.0 20160609]\n",
      "/home/lars_rauer/notebookcommute/notebooks/commuter/pendlaren/tnK534JMwwfhvUEycn69HPbhqkt2\n"
     ]
    }
   ],
   "source": [
    "import shutil\n",
    "import sys, getopt\n",
    "import tensorflow as tf\n",
    "import time\n",
    "import numpy as np\n",
    "import pandas as pd\n",
    "import os\n",
    "\n",
    "print(\"Tensorflow version: \"+tf.VERSION+ \" Python version: \"+sys.version)\n",
    "TABLE = 'tnK534JMwwfhvUEycn69HPbhqkt2'\n",
    "ROOT_DIR = \"pendlaren\"\n",
    "export_dir = os.path.join(ROOT_DIR, TABLE)\n",
    "print(os.path.abspath(export_dir))\n",
    "tf.logging.set_verbosity(tf.logging.WARN)\n",
    "\n",
    "def load_data(to_row,y_name='journey'):\n",
    "    train = pd.read_csv(\"data/tnK534JMwwfhvUEycn69HPbhqkt2.csv\",comment=\"-\",skiprows=range(to_row,6762))\n",
    "    train_x, train_y = train, train.pop(y_name)\n",
    "    #I know WRONG\n",
    "    test =pd.read_csv(\"data/tnK534JMwwfhvUEycn69HPbhqkt2.csv\",comment=\"-\",skiprows=range(1,6000))\n",
    "    test_x, test_y = test, test.pop(y_name)\n",
    "    train_y.astype(str)\n",
    "    return (train_x, train_y.astype(str)), (test_x, test_y.astype(str))\n",
    "\n",
    "def train_input_fn(features, labels, batch_size):\n",
    "    dataset = tf.data.Dataset.from_tensor_slices((dict(features), labels))\n",
    "    # Shuffle, repeat, and batch the examples.\n",
    "    dataset = dataset.shuffle(1000).repeat().batch(batch_size)\n",
    "    return dataset\n",
    "\n",
    "\n",
    "#print(my_feature_columns)\n",
    "#Below LinearClassifier (Logistic regression) https://www.tensorflow.org/get_started/feature_columns\n",
    "detectedActivity = tf.feature_column.categorical_column_with_identity(key=\"detectedActivity\",num_buckets=7,default_value=0)\n",
    "geoHash = tf.feature_column.categorical_column_with_hash_bucket(\"geoHash\",100,dtype=tf.int64)\n",
    "minuteOfDay = tf.feature_column.numeric_column(\"minuteOfDay\")\n",
    "weekDay = tf.feature_column.categorical_column_with_identity(key=\"weekday\",num_buckets=7,default_value=0)\n",
    "feature_columns = [detectedActivity,geoHash,minuteOfDay,weekDay]"
   ]
  },
  {
   "cell_type": "markdown",
   "metadata": {},
   "source": [
    "### After use"
   ]
  },
  {
   "cell_type": "code",
   "execution_count": 45,
   "metadata": {
    "scrolled": false
   },
   "outputs": [
    {
     "name": "stdout",
     "output_type": "stream",
     "text": [
      "Deleting all\n",
      "\n",
      "Prediction is \"8121680000\" (81.1%), expected \"8121680000\"\n",
      "\n",
      "Prediction is \"8121690042\" (97.2%), expected \"8121690042\"\n",
      "\n",
      "Prediction is \"8014081216\" (99.8%), expected \"8014081216\"\n"
     ]
    }
   ],
   "source": [
    "retrainAll = True\n",
    "if retrainAll:\n",
    "    try:\n",
    "        shutil.rmtree(export_dir)\n",
    "        print(\"Deleting all\")\n",
    "    except:\n",
    "        print(\"No dir to remove\")\n",
    "        \n",
    "#(train_x, train_y), (test_x, test_y)= load_data(to_row=159)\n",
    "#(train_x, train_y), (test_x, test_y)= load_data(to_row=500)\n",
    "(train_x, train_y), (test_x, test_y)= load_data(to_row=6762)\n",
    "label_vocabulary = np.unique(train_y).tolist()\n",
    "classifier = tf.estimator.LinearClassifier(feature_columns=feature_columns,\n",
    "                                            n_classes=len(label_vocabulary),\n",
    "                                            model_dir=export_dir,\n",
    "                                            label_vocabulary=label_vocabulary)\n",
    "\n",
    "classifier.train(input_fn=lambda:train_input_fn(train_x, train_y, 100), max_steps=1000)\n",
    "\n",
    "expected = ['8121680000', '8121690042', '8014081216']\n",
    "predict_x = {\n",
    "    'detectedActivity': [7,3,7],\n",
    "    'geoHash': [1242479403, 1242479403, 1242212679],\n",
    "    'minuteOfDay': [531,560,1347],\n",
    "    'weekday': [2,6,5],\n",
    "}\n",
    "\n",
    "predictions = classifier.predict(\n",
    "    input_fn=lambda:eval_input_fn(predict_x,labels=None, batch_size=100))\n",
    "\n",
    "template = ('\\nPrediction is \"{}\" ({:.1f}%), expected \"{}\"')\n",
    "\n",
    "for pred_dict, expec in zip(predictions, expected):\n",
    "    class_id = pred_dict['class_ids'][0]\n",
    "    probability = pred_dict['probabilities'][class_id]\n",
    "    print(template.format(label_vocabulary[class_id],100 * probability, expec))"
   ]
  },
  {
   "cell_type": "code",
   "execution_count": null,
   "metadata": {},
   "outputs": [],
   "source": [
    "##Extras\n",
    "# # Evaluate the model.\n",
    "# def eval_input_fn(features, labels, batch_size):\n",
    "#     \"\"\"An input function for evaluation or prediction\"\"\"\n",
    "#     features=dict(features)\n",
    "#     if labels is None:\n",
    "#         # No labels, use only features.\n",
    "#         inputs = features\n",
    "#     else:\n",
    "#         inputs = (features, labels)\n",
    "#     dataset = tf.data.Dataset.from_tensor_slices(inputs)\n",
    "#     assert batch_size is not None, \"batch_size must not be None\"\n",
    "#     dataset = dataset.batch(batch_size)\n",
    "#     return dataset\n",
    "# eval_result = classifier.evaluate(\n",
    "#     input_fn=lambda:eval_input_fn(test_x, test_y, batch_size=100))\n",
    "# #print(eval_result)\n",
    "# print('\\nTest set accuracy: {accuracy:0.3f}\\n'.format(**eval_result))"
   ]
  }
 ],
 "metadata": {
  "kernelspec": {
   "display_name": "Python 2",
   "language": "python",
   "name": "python2"
  },
  "language_info": {
   "codemirror_mode": {
    "name": "ipython",
    "version": 2
   },
   "file_extension": ".py",
   "mimetype": "text/x-python",
   "name": "python",
   "nbconvert_exporter": "python",
   "pygments_lexer": "ipython2",
   "version": "2.7.12"
  }
 },
 "nbformat": 4,
 "nbformat_minor": 2
}
