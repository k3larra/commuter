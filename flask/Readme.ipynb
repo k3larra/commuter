{
 "cells": [
  {
   "cell_type": "markdown",
   "metadata": {},
   "source": [
    "## A flask micro web framework.\n",
    "Used to make predictions aviable and have models preloded to spead up prediction times. Uses only for server internal communication between the nodejs server and the flask framework. Prediction reguest arriving to the nodejs server from firebase are sent to the flask server that únns the python code and return predictions. \n"
   ]
  },
  {
   "cell_type": "code",
   "execution_count": 21,
   "metadata": {},
   "outputs": [],
   "source": [
    "# Start flask server Run from comandprompt doesnt work from here ????? \n",
    "# ! export FLASK_APP=hello.py\n",
    "# ! export FLASK_DEBUG=1\n",
    "# ! flask run "
   ]
  },
  {
   "cell_type": "markdown",
   "metadata": {},
   "source": [
    "### Function get prediction"
   ]
  },
  {
   "cell_type": "code",
   "execution_count": 2,
   "metadata": {},
   "outputs": [
    {
     "data": {
      "text/plain": [
       "b'{\"probability\": \"1.0\", \"fromStation\": \"81216\", \"toStation\": \"80000\", \"error\": 0}'"
      ]
     },
     "execution_count": 2,
     "metadata": {},
     "output_type": "execute_result"
    }
   ],
   "source": [
    "import json\n",
    "import requests\n",
    "requests.get(url='http://127.0.0.1:5000/predict?userId=hCWCulj7M1aMVyd0Fm0Eqrv8q1Q2&detectedActivity=3&geoHash=123456&minuteOfDay=234&weekday=7').content"
   ]
  },
  {
   "cell_type": "markdown",
   "metadata": {},
   "source": [
    "### Function retrain"
   ]
  },
  {
   "cell_type": "code",
   "execution_count": 22,
   "metadata": {},
   "outputs": [
    {
     "data": {
      "text/plain": [
       "b'Placebholder method for retraining ngVJN8oYtDWnXg2LZmpT9iuJ9c23'"
      ]
     },
     "execution_count": 22,
     "metadata": {},
     "output_type": "execute_result"
    }
   ],
   "source": [
    "import json\n",
    "import requests\n",
    "requests.get(url='http://localhost:5000/retrain/hCWCulj7M1aMVyd0Fm0Eqrv8q1Q2').content"
   ]
  },
  {
   "cell_type": "markdown",
   "metadata": {},
   "source": [
    "Loading all stored models in advance to cut time for first response."
   ]
  },
  {
   "cell_type": "code",
   "execution_count": 1,
   "metadata": {},
   "outputs": [
    {
     "name": "stdout",
     "output_type": "stream",
     "text": [
      "4\n",
      "hCWCulj7M1aMVyd0Fm0Eqrv8q1Q2\n",
      "ehaBtfOPDNZjzy1MEvjQmGo4Zv12\n",
      "eXJPoWYDxIc76uemE7Vk3ovBTEG2\n",
      "tnK534JMwwfhvUEycn69HPbhqkt2\n",
      "8000086239:0.67\n",
      "8121690170:1.0\n",
      "../../userdata/models/hCWCulj7M1aMVyd0Fm0Eqrv8q1Q2\n",
      "ehaBtfOPDNZjzy1MEvjQmGo4Zv12\n",
      "eXJPoWYDxIc76uemE7Vk3ovBTEG2\n",
      "tnK534JMwwfhvUEycn69HPbhqkt2\n",
      "hCWCulj7M1aMVyd0Fm0Eqrv8q1Q2\n",
      "8623980000:1.0\n",
      "oups\n",
      "3\n",
      "ehaBtfOPDNZjzy1MEvjQmGo4Zv12\n",
      "8000086239:0.67\n",
      "eXJPoWYDxIc76uemE7Vk3ovBTEG2\n",
      "8121690170:1.0\n",
      "tnK534JMwwfhvUEycn69HPbhqkt2\n",
      "8180280000:1.0\n"
     ]
    }
   ],
   "source": [
    "import json\n",
    "import os\n",
    "from fastai import *         \n",
    "from fastai.tabular import *\n",
    "sys.path.append(\"../code\")\n",
    "from commuter import *\n",
    "model_dir = '../../userdata/models/'\n",
    "#for x in os.walk(model_dir):\n",
    "#    print(x[0])\n",
    "\n",
    "\n",
    "\n",
    "\n",
    "\n",
    "\n",
    "    \n",
    "def get_immediate_subdirectories(a_dir):\n",
    "    return [name for name in os.listdir(a_dir)\n",
    "            if os.path.isdir(os.path.join(a_dir, name))]\n",
    "\n",
    "def loadAllModels(model_dir):\n",
    "    for model_dir_id in get_immediate_subdirectories(model_dir):\n",
    "        trainedModels.append(Model(model_dir_id,model_dir+model_dir_id))\n",
    "\n",
    "def updateModel(id):\n",
    "    found=-1\n",
    "    for i in range(len(trainedModels)):\n",
    "        if(trainedModels[i].id == id ):\n",
    "            found = i\n",
    "    del trainedModels[found]\n",
    "    if found > -1:\n",
    "        print(model_dir+id)\n",
    "        trainedModels.append(Model(id,model_dir+id))\n",
    "    return found\n",
    "\n",
    "def removeModel(id):\n",
    "    found=-1\n",
    "    for i in range(len(trainedModels)):\n",
    "        if(trainedModels[i].id == id ):\n",
    "            found = i\n",
    "    del trainedModels[found]\n",
    "    return found\n",
    "\n",
    "def getModel(id):\n",
    "    found=-1\n",
    "    for i in range(len(trainedModels)):\n",
    "        if(trainedModels[i].id == id ):\n",
    "            found = i\n",
    "    if found>-1:\n",
    "        return trainedModels[found].learn\n",
    "    else:\n",
    "        return None\n",
    "\n",
    "class Model(object):\n",
    "    def __init__(self,id,path):\n",
    "        data = TabularDataBunch.load_empty(path)\n",
    "        learn = tabular_learner(data, layers=[200,100])\n",
    "        learn.load(id);   \n",
    "        self.learn = learn\n",
    "        self.id = id\n",
    "        \n",
    "\n",
    "#Test\n",
    "trainedModels = []\n",
    "loadAllModels(model_dir)\n",
    "print(len(trainedModels))\n",
    "print(trainedModels[0].id)\n",
    "print(trainedModels[1].id)\n",
    "print(trainedModels[2].id)\n",
    "print(trainedModels[3].id)\n",
    "prediction,accuracy = predict_journey(getModel('ehaBtfOPDNZjzy1MEvjQmGo4Zv12'),3,1242481883,918,2)\n",
    "print(str(prediction)+\":\"+str(accuracy))\n",
    "prediction,accuracy = predict_journey(getModel('eXJPoWYDxIc76uemE7Vk3ovBTEG2'),3,1242481883,918,2)\n",
    "print(str(prediction)+\":\"+str(accuracy))\n",
    "updateModel('hCWCulj7M1aMVyd0Fm0Eqrv8q1Q2')\n",
    "print(trainedModels[0].id)\n",
    "print(trainedModels[1].id)\n",
    "print(trainedModels[2].id)\n",
    "print(trainedModels[3].id)\n",
    "try:\n",
    "    prediction,accuracy = predict_journey(getModel('hCWCulj7M1aMVyd0Fm0Eqrv8q1Q2'),3,1242481883,918,2)\n",
    "    print(str(prediction)+\":\"+str(accuracy))\n",
    "except:\n",
    "    print('oups')\n",
    "removeModel('hCWCulj7M1aMVyd0Fm0Eqrv8q1Q2')\n",
    "try:\n",
    "     prediction,accuracy = predict_journey(getModel('hCWCulj7M1aMVyd0Fm0Eqrv8q1Q2'),3,1242481883,918,2)\n",
    "except:\n",
    "    print('oups')\n",
    "    \n",
    "print(len(trainedModels))\n",
    "for model in trainedModels:\n",
    "    print(model.id)\n",
    "    prediction,accuracy = predict_journey(model.learn,3,1242481883,918,2)\n",
    "    print(str(prediction)+\":\"+str(accuracy))"
   ]
  },
  {
   "cell_type": "code",
   "execution_count": null,
   "metadata": {},
   "outputs": [],
   "source": []
  }
 ],
 "metadata": {
  "kernelspec": {
   "display_name": "Python 3",
   "language": "python",
   "name": "python3"
  },
  "language_info": {
   "codemirror_mode": {
    "name": "ipython",
    "version": 3
   },
   "file_extension": ".py",
   "mimetype": "text/x-python",
   "name": "python",
   "nbconvert_exporter": "python",
   "pygments_lexer": "ipython3",
   "version": "3.7.1"
  }
 },
 "nbformat": 4,
 "nbformat_minor": 2
}
