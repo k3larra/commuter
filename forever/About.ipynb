{
 "cells": [
  {
   "cell_type": "markdown",
   "metadata": {},
   "source": [
    "## Running node server for pendlaren\n",
    "### Various tests forever server\n",
    "\n",
    "I use the package [forever](https://www.npmjs.com/package/forever) to run the node server in the background.\n",
    "Running node without forever.\n",
    "```\n",
    "node pendlaren_node_server.js\n",
    "```\n",
    "stop with ctrl-c ..\n",
    "\n",
    "Command line stuff.\n",
    "This command:\n",
    "forever start -l forever.log -o out.log -e err.log pendlaren_node_server.js\n",
    "\n",
    "--\n",
    "\n",
    "Install forever by typing in the command line\n",
    "\n",
    "$ npm install forever -g\n",
    "Then use the following command to run a node.js script\n",
    "\n",
    "$ forever start /path/to/script.js\n",
    "You are good to go. Additionally you can run\n",
    "\n",
    "$ forever list\n",
    "to see all the running scripts. You can terminate any specific script by typing\n",
    "\n",
    "$ forever stop [pid]\n",
    "where [pid] is the process ID of the script you will obtain from the list command. To stop all scripts, you may type\n",
    "\n",
    "$ forever stopall\n",
    "\n",
    "#### Here are some code to start stop and list the running forever instances."
   ]
  },
  {
   "cell_type": "code",
   "execution_count": 8,
   "metadata": {},
   "outputs": [
    {
     "name": "stdout",
     "output_type": "stream",
     "text": [
      "\u001b[33mwarn\u001b[39m:    --minUptime not set. Defaulting to: 1000ms\n",
      "\u001b[33mwarn\u001b[39m:    --spinSleepTime not set. Your script will exit if it does not stay up for at least 1000ms\n",
      "\u001b[32minfo\u001b[39m:    Forever processing file: \u001b[90m/home/jupyter/commuter/nodejs/pendlaren_node_server.js\u001b[39m\n"
     ]
    }
   ],
   "source": [
    "#Run an instance with forever\n",
    "# forever start -c python your_script.py\n",
    "! rm out.log\n",
    "! forever start -a -l forever.log -o out.log -e err.log /home/jupyter/commuter/nodejs/pendlaren_node_server.js"
   ]
  },
  {
   "cell_type": "code",
   "execution_count": 6,
   "metadata": {},
   "outputs": [
    {
     "name": "stdout",
     "output_type": "stream",
     "text": [
      "\u001b[32minfo\u001b[39m:    Forever processes running\n",
      "\u001b[90mdata\u001b[39m:    \u001b[37m   \u001b[39m \u001b[37muid\u001b[39m  \u001b[90mcommand\u001b[39m       \u001b[90mscript\u001b[39m                                                 \u001b[37mforever\u001b[39m \u001b[37mpid\u001b[39m  \u001b[37mid\u001b[39m \u001b[35mlogfile\u001b[39m                            \u001b[33muptime\u001b[39m  \n",
      "\u001b[90mdata\u001b[39m:    [0] xf39 \u001b[90m/usr/bin/node\u001b[39m \u001b[90m/home/jupyter/commuter/nodejs/pendlaren_node_server.js\u001b[39m 8021    9085    \u001b[35m/home/jupyter/.forever/forever.log\u001b[39m \u001b[31mSTOPPED\u001b[39m \n",
      "\u001b[90mdata\u001b[39m:    [1] 5b2n \u001b[90m/usr/bin/node\u001b[39m \u001b[90m/home/jupyter/commuter/nodejs/pendlaren_node_server.js\u001b[39m 9888    9899    \u001b[35m/home/jupyter/.forever/forever.log\u001b[39m \u001b[31mSTOPPED\u001b[39m \n"
     ]
    }
   ],
   "source": [
    "#List running forever instances\n",
    "! forever list"
   ]
  },
  {
   "cell_type": "code",
   "execution_count": 7,
   "metadata": {},
   "outputs": [
    {
     "name": "stdout",
     "output_type": "stream",
     "text": [
      "\u001b[32minfo\u001b[39m:    No forever processes running\n",
      "\u001b[32minfo\u001b[39m:    Forever stopped processes:\n",
      "\u001b[90mdata\u001b[39m:    \u001b[37m   \u001b[39m \u001b[37muid\u001b[39m  \u001b[90mcommand\u001b[39m       \u001b[90mscript\u001b[39m                                                 \u001b[37mforever\u001b[39m \u001b[37mpid\u001b[39m  \u001b[37mid\u001b[39m \u001b[35mlogfile\u001b[39m                            \u001b[33muptime\u001b[39m  \n",
      "\u001b[90mdata\u001b[39m:    [0] xf39 \u001b[90m/usr/bin/node\u001b[39m \u001b[90m/home/jupyter/commuter/nodejs/pendlaren_node_server.js\u001b[39m 8021    9085    \u001b[35m/home/jupyter/.forever/forever.log\u001b[39m \u001b[31mSTOPPED\u001b[39m \n",
      "\u001b[90mdata\u001b[39m:    [1] 5b2n \u001b[90m/usr/bin/node\u001b[39m \u001b[90m/home/jupyter/commuter/nodejs/pendlaren_node_server.js\u001b[39m 9888    9899    \u001b[35m/home/jupyter/.forever/forever.log\u001b[39m \u001b[31mSTOPPED\u001b[39m \n"
     ]
    }
   ],
   "source": [
    "#Stop running forever instances\n",
    "! forever stopall"
   ]
  },
  {
   "cell_type": "code",
   "execution_count": null,
   "metadata": {},
   "outputs": [],
   "source": [
    "#File list in current dir\n",
    "! ls -lah"
   ]
  },
  {
   "cell_type": "code",
   "execution_count": null,
   "metadata": {},
   "outputs": [],
   "source": [
    "#Current run\n",
    "f = open(\"out.log\") \n",
    "print f.read()\n",
    "#Older logs\n",
    "# f = open(\"/home/lars_rauer/.forever/forever.log\") \n",
    "# print f.read()"
   ]
  }
 ],
 "metadata": {
  "kernelspec": {
   "display_name": "Python 3",
   "language": "python",
   "name": "python3"
  },
  "language_info": {
   "codemirror_mode": {
    "name": "ipython",
    "version": 3
   },
   "file_extension": ".py",
   "mimetype": "text/x-python",
   "name": "python",
   "nbconvert_exporter": "python",
   "pygments_lexer": "ipython3",
   "version": "3.7.1"
  }
 },
 "nbformat": 4,
 "nbformat_minor": 2
}
