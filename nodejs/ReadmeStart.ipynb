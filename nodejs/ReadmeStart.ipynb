{
 "cells": [
  {
   "cell_type": "markdown",
   "metadata": {},
   "source": [
    "## Running node server for pendlaren\n",
    "I use the package [forever](https://www.npmjs.com/package/forever) to run the node server in the background.\n",
    "Running node without forever.\n",
    "```\n",
    "node pendlaren_node_server.js\n",
    "```\n",
    "stop with ctrl-c ..\n",
    "\n",
    "Command line stuff.\n",
    "This command:\n",
    "forever start -l forever.log -o out.log -e err.log pendlaren_node_server.js\n",
    "\n",
    "--\n",
    "Forever is a very good NodeJs module to do exactly that.\n",
    "\n",
    "Install forever by typing in the command line\n",
    "\n",
    "$ npm install forever -g\n",
    "Then use the following command to run a node.js script\n",
    "\n",
    "$ forever start /path/to/script.js\n",
    "You are good to go. Additionally you can run\n",
    "\n",
    "$ forever list\n",
    "to see all the running scripts. You can terminate any specific script by typing\n",
    "\n",
    "$ forever stop [pid]\n",
    "where [pid] is the process ID of the script you will obtain from the list command. To stop all scripts, you may type\n",
    "\n",
    "$ forever stopall\n",
    "\n",
    "#### Here are some code to start stop and list the running forever instances."
   ]
  },
  {
   "cell_type": "code",
   "execution_count": null,
   "metadata": {},
   "outputs": [],
   "source": [
    "#File list in current dir\n",
    "! ls -lah"
   ]
  },
  {
   "cell_type": "code",
   "execution_count": null,
   "metadata": {},
   "outputs": [],
   "source": [
    "#Run an instance with forever\n",
    "! rm out.log\n",
    "!  forever start -a -l forever.log -o out.log -e err.log pendlaren_node_server.js"
   ]
  },
  {
   "cell_type": "code",
   "execution_count": null,
   "metadata": {},
   "outputs": [],
   "source": [
    "#List running forever instances\n",
    "! forever list"
   ]
  },
  {
   "cell_type": "code",
   "execution_count": null,
   "metadata": {},
   "outputs": [],
   "source": [
    "#Stop running forever instances\n",
    "! forever stopall"
   ]
  },
  {
   "cell_type": "code",
   "execution_count": null,
   "metadata": {},
   "outputs": [],
   "source": [
    "#Current run\n",
    "f = open(\"out.log\") \n",
    "print f.read()\n",
    "#Older logs\n",
    "# f = open(\"/home/lars_rauer/.forever/forever.log\") \n",
    "# print f.read()"
   ]
  },
  {
   "cell_type": "markdown",
   "metadata": {},
   "source": [
    "### node commands \n",
    "Start server"
   ]
  },
  {
   "cell_type": "code",
   "execution_count": null,
   "metadata": {},
   "outputs": [
    {
     "name": "stdout",
     "output_type": "stream",
     "text": [
      "results: \"Node server starting\"\n",
      "Model exists for: tnK534JMwwfhvUEycn69HPbhqkt2\n",
      "Predicted for :tnK534JMwwfhvUEycn69HPbhqkt2 from: First to: Third with probability: 80014 prediction took: 8s\n",
      "Model exists for: tnK534JMwwfhvUEycn69HPbhqkt2\n",
      "Predicted for :tnK534JMwwfhvUEycn69HPbhqkt2 from: 80014 to: 80000 with probability: 0.99 prediction took: 8s\n",
      "Model exists for: tnK534JMwwfhvUEycn69HPbhqkt2\n",
      "Predicted for :tnK534JMwwfhvUEycn69HPbhqkt2 from: 80014 to: 80000 with probability: 0.99 prediction took: 8s\n",
      "Model exists for: tnK534JMwwfhvUEycn69HPbhqkt2\n",
      "Model exists for: tnK534JMwwfhvUEycn69HPbhqkt2\n",
      "Predicted for :tnK534JMwwfhvUEycn69HPbhqkt2 from: 80014 to: 80000 with probability: 0.99 prediction took: 10s\n",
      "Predicted for :tnK534JMwwfhvUEycn69HPbhqkt2 from: 80014 to: 80000 with probability: 0.99 prediction took: 9s\n",
      "Model exists for: tnK534JMwwfhvUEycn69HPbhqkt2\n",
      "Model exists for: tnK534JMwwfhvUEycn69HPbhqkt2\n",
      "Model exists for: tnK534JMwwfhvUEycn69HPbhqkt2\n",
      "Predicted for :tnK534JMwwfhvUEycn69HPbhqkt2 from: 80014 to: 80000 with probability: 0.99 prediction took: 13s\n",
      "Predicted for :tnK534JMwwfhvUEycn69HPbhqkt2 from: 80014 to: 80000 with probability: 0.99 prediction took: 13s\n",
      "Predicted for :tnK534JMwwfhvUEycn69HPbhqkt2 from: 80014 to: 80000 with probability: 0.99 prediction took: 12s\n"
     ]
    }
   ],
   "source": [
    "! node pendlaren_node_server.js"
   ]
  },
  {
   "cell_type": "code",
   "execution_count": null,
   "metadata": {},
   "outputs": [],
   "source": [
    "# logg all consoles to files\n",
    "! node pendlaren_node_server.js > test.log 2>&1"
   ]
  },
  {
   "cell_type": "code",
   "execution_count": 2,
   "metadata": {},
   "outputs": [],
   "source": [
    "# ! ps -A"
   ]
  },
  {
   "cell_type": "code",
   "execution_count": 1,
   "metadata": {},
   "outputs": [
    {
     "name": "stdout",
     "output_type": "stream",
     "text": [
      "Python 3.7.1\n"
     ]
    }
   ],
   "source": [
    "#Python version\n",
    "! python --version"
   ]
  },
  {
   "cell_type": "code",
   "execution_count": null,
   "metadata": {},
   "outputs": [],
   "source": [
    "! killall -9 node"
   ]
  },
  {
   "cell_type": "code",
   "execution_count": 1,
   "metadata": {},
   "outputs": [
    {
     "name": "stdout",
     "output_type": "stream",
     "text": [
      "['80014', '80002', '0.89']\n",
      "finished\n"
     ]
    }
   ],
   "source": [
    "! node try.js"
   ]
  },
  {
   "cell_type": "code",
   "execution_count": null,
   "metadata": {},
   "outputs": [],
   "source": []
  },
  {
   "cell_type": "code",
   "execution_count": null,
   "metadata": {},
   "outputs": [],
   "source": []
  }
 ],
 "metadata": {
  "kernelspec": {
   "display_name": "Python 3",
   "language": "python",
   "name": "python3"
  },
  "language_info": {
   "codemirror_mode": {
    "name": "ipython",
    "version": 3
   },
   "file_extension": ".py",
   "mimetype": "text/x-python",
   "name": "python",
   "nbconvert_exporter": "python",
   "pygments_lexer": "ipython3",
   "version": "3.7.1"
  }
 },
 "nbformat": 4,
 "nbformat_minor": 2
}
