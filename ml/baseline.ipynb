{
 "cells": [
  {
   "cell_type": "markdown",
   "metadata": {},
   "source": [
    "# Evaluate commuter data over time\n",
    "The code below takes labbeled data, trains a NN using a growing amount of training data.\n",
    "Since this is done itaratively and compared to predictions towards a test set an estimation can be made over how fast the model converges.\n"
   ]
  },
  {
   "cell_type": "code",
   "execution_count": 3,
   "metadata": {},
   "outputs": [],
   "source": [
    "#Setup\n",
    "from fastai import *          # Quick accesss to most common functionality\n",
    "from fastai.tabular import *  # Quick accesss to tabular functionality     # Access to example data provided with fastai\n",
    "from fastai.vision import *\n",
    "PATH=\"../data/\"\n",
    "dep_var = 'journey'\n",
    "cat_names = [\"detectedActivity\",\"weekday\"]\n",
    "cont_names =[\"geoHash\",\"minuteOfDay\"]\n",
    "procs = [FillMissing, Categorify, Normalize]\n",
    "# Uncomment active user\n",
    "#user = \"tnK534JMwwfhvUEycn69HPbhqkt2\" #Maria\n",
    "user = \"ehaBtfOPDNZjzy1MEvjQmGo4Zv12\" #Andrea\n",
    "#user = \"hCWCulj7M1aMVyd0Fm0Eqrv8q1Q2\" #Bjorn\n",
    "\n",
    "def predict_journeys(learner,dataset):\n",
    "    \"Return\"\n",
    "    result = 0\n",
    "    accuracy = 0\n",
    "    for x in range(0,dataset.shape[0]):\n",
    "        correct = dataset.iloc[x].journey  #remove journey\n",
    "        predicted = learner.predict(dataset.iloc[x]);\n",
    "        #print(str(correct)+\":\"+str(predicted[0]))\n",
    "        if (str(correct)==str(predicted[0])):\n",
    "            result=result+1\n",
    "    accuracy=result/dataset.shape[0]\n",
    "    return(accuracy)\n",
    "    \n",
    "def predict_journey(detectedActivity,geoHash,minuteOfday,weekday):\n",
    "    data = np.array([['','detectedActivity','geoHash','minuteOfDay','weekday'],\n",
    "                [\"row1\",detectedActivity,geoHash,minuteOfday,weekday]])            \n",
    "    dr=pd.DataFrame(data=data[1:,1:],\n",
    "                    index=data[1:,0],\n",
    "                    columns=data[0,1:]).astype(np.int64)\n",
    "    predicted = learner.predict(dr.iloc[0])\n",
    "    return(predicted[0],str(round(predicted[2].max().item(),2)))\n",
    "\n",
    "def evaluate_learner(rows_per_training:int,trainingset,testset,length_teachingSet=0): #Minimal start for any training can bne used for offset\n",
    "    \"Asumes a constant amount of rows per day in training\"\n",
    "    result = []\n",
    "    if length_teachingSet>0: #do teaching and add thus add startdata for day 0\n",
    "        start_point = length_teachingSet\n",
    "    else: #no teachin set exists add row for day 0\n",
    "        result.append([0,0,0])\n",
    "        start_point = rows_per_training\n",
    "    for rows in range(start_point,len(trainingset),rows_per_training):\n",
    "        df=trainingset[0:rows]\n",
    "        df=make_shure_we_got_enough_rows(df)\n",
    "        #valid_idx= list(np.random.randint(0,len(df),int(len(df)*0.1))) #If we want 10% random instead of same 10 rows...\n",
    "        valid_idx = list(range(int(len(df)*0.9), len(df)))  #Here always last 10% is used for validation\n",
    "        data = (TabularList.from_df(df, path=\"models\", cat_names=cat_names, cont_names=cont_names, procs=procs)\n",
    "                .split_by_idx(valid_idx)\n",
    "                .label_from_df(cols=dep_var)\n",
    "                .databunch())\n",
    "        learner=tabular_learner(data, layers=[200,100], metrics=accuracy)\n",
    "        learner.fit_one_cycle(30)\n",
    "        #learner.fit(5, 1e-2)\n",
    "        sizeR = len(learner.recorder.metrics)\n",
    "        resultTest = predict_journeys(learner,testset)\n",
    "        result.append([rows,learner.recorder.metrics[sizeR-1][0].item(),resultTest])\n",
    "    return (result)\n",
    "\n",
    "def evaluate_learner_varying_batch_size(trainingset,testset,length_teachingSet=0):\n",
    "    \"Trains in batches. A new batch starts with -- and ends with next row that starts with --\"\n",
    "    \"Training is done from the first row until next row that starts with -- and thus training is done with a growing amount of rows\"\n",
    "    \"Rows in a batch are duplicated so there are aways at least 500 rows for training (no new information added and no other data agumentation)\"\n",
    "    \"length_teachingset indicates that the dataset starts with a teaching set that consists of length_teachingset rows this is always used for training.\"\n",
    "    result = []\n",
    "    if length_teachingSet>0: #do teaching and thus add startdata for day 0\n",
    "        start_point = length_teachingSet\n",
    "    else: \n",
    "        result.append([0,0,0]) #no teaching set exists add row for day 0\n",
    "        start_point = rows_per_training\n",
    "    for rows in range(start_point,len(trainingset),rows_per_training):\n",
    "        df=trainingset[0:rows]\n",
    "        df=make_shure_we_got_enough_rows(df)\n",
    "        #valid_idx= list(np.random.randint(0,len(df),int(len(df)*0.1))) #If we want 10% random instead of same 10 rows...\n",
    "        valid_idx = list(range(int(len(df)*0.9), len(df)))  #Here always last 10% is used for validation\n",
    "        data = (TabularList.from_df(df, path=\"models\", cat_names=cat_names, cont_names=cont_names, procs=procs)\n",
    "                .split_by_idx(valid_idx)\n",
    "                .label_from_df(cols=dep_var)\n",
    "                .databunch())\n",
    "        learner=tabular_learner(data, layers=[200,100], metrics=accuracy)\n",
    "        learner.fit_one_cycle(30)\n",
    "        #learner.fit(5, 1e-2)\n",
    "        sizeR = len(learner.recorder.metrics)\n",
    "        resultTest = predict_journeys(learner,testset)\n",
    "        result.append([rows,learner.recorder.metrics[sizeR-1][0].item(),resultTest])\n",
    "    return (result)\n",
    "\n",
    "def make_shure_we_got_enough_rows(dataset,minrows=500):\n",
    "    \"If the dataset has fewer rows that minrows, whole dataset copies will be added at the end until at least minrows exists\"\n",
    "    newset = pd.DataFrame()\n",
    "    while newset.shape[0]<minrows:\n",
    "        newset = pd.concat([newset,dataset])\n",
    "    return(newset)\n",
    "\n",
    "def save_results(filename,result):\n",
    "    a = np.asarray(result)\n",
    "    np.savetxt(\"saved/\"+filename,a,delimiter=',',fmt=\"%10.2f\")"
   ]
  },
  {
   "cell_type": "markdown",
   "metadata": {},
   "source": [
    "### Training iteratively every day\n",
    "Here we simulate training every day from the start. The result is evaluated towards a testset created from the training set."
   ]
  },
  {
   "cell_type": "code",
   "execution_count": 2,
   "metadata": {},
   "outputs": [],
   "source": [
    "%%capture\n",
    "#Training without teaching set\n",
    "trainingset = pd.read_csv(PATH+user+\"_train_valid.csv\")\n",
    "#Take 14 days\n",
    "trainingset=trainingset[0:int(trainingset.shape[0]/24)]\n",
    "testset = pd.read_csv(PATH+user+\"_test.csv\")\n",
    "size=trainingset.shape[0]\n",
    "rows_per_training = int(size/14) # will result in about one training per day\n",
    "print(rows_per_training)\n",
    "print(len(trainingset))\n",
    "resultTrain = evaluate_learner(rows_per_training,trainingset,testset)\n",
    "save_results(\"Iterative_\"+user+\".csv\",resultTrain)"
   ]
  },
  {
   "cell_type": "markdown",
   "metadata": {},
   "source": [
    "### Training with initial teachingset followed by iterative training every day\n",
    "Here we add a idealised teaching set in the beginning of our dataset. Then we start training from day 0 with all data in the teachingset."
   ]
  },
  {
   "cell_type": "code",
   "execution_count": 2,
   "metadata": {},
   "outputs": [],
   "source": [
    "%%capture\n",
    "#Training with teaching set \n",
    "trainingset = pd.read_csv(\"data/\"+user+\"_train_valid.csv\")\n",
    "#Take first two weeks\n",
    "trainingset=trainingset[0:int(trainingset.shape[0]/24)]\n",
    "size=trainingset.shape[0]\n",
    "rows_per_training = int(size/14) # will result in about one training per day\n",
    "teachingset = pd.read_csv(PATH+user+\"_teaching_set.csv\")\n",
    "trainingset = pd.concat([teachingset,trainingset])\n",
    "testset = pd.read_csv(PATH+user+\"_test.csv\")\n",
    "resultTeach = evaluate_learner(rows_per_training,trainingset,testset,len(teachingset))\n",
    "save_results(\"TeachingIterative_\"+user+\".csv\",resultTeach)"
   ]
  },
  {
   "cell_type": "markdown",
   "metadata": {},
   "source": [
    "### Show results"
   ]
  },
  {
   "cell_type": "code",
   "execution_count": 4,
   "metadata": {},
   "outputs": [
    {
     "data": {
      "image/png": "[encoded data removed]",
      "text/plain": [
       "<Figure size 432x288 with 1 Axes>"
      ]
     },
     "metadata": {
      "needs_background": "light"
     },
     "output_type": "display_data"
    }
   ],
   "source": [
    "import matplotlib.pyplot as plt\n",
    "from matplotlib.ticker import FuncFormatter, MaxNLocator\n",
    "personas = pd.read_csv(\"saved/personas.csv\")\n",
    "#Uncomment to look at individual result\n",
    "#user = \"tnK534JMwwfhvUEycn69HPbhqkt2\" #Maria\n",
    "#user = \"ehaBtfOPDNZjzy1MEvjQmGo4Zv12\" #Andrea\n",
    "#user = \"hCWCulj7M1aMVyd0Fm0Eqrv8q1Q2\" #Bjorn\n",
    "personaname = personas.loc[personas['id']==user]\n",
    "learning_ax0= pd.read_csv(\"saved/Iterative_\"+user+\".csv\",header=None).values\n",
    "teaching_ax0 = pd.read_csv(\"saved/TeachingIterative_\"+user+\".csv\",header=None).values\n",
    "fig, ax0 = plt.subplots()\n",
    "ax0.set_title(personaname ['name'].iloc[0]+\":\"+user)\n",
    "ax0.plot(learning_ax0[:,2],label='Accuracy learning')\n",
    "ax0.plot(teaching_ax0[:,2],label='Accuracy teaching')\n",
    "plt.xlabel('Time (days)')\n",
    "plt.ylabel('Accuracy')\n",
    "legend = ax0.legend(loc='lower right', shadow=True, fontsize='medium')\n",
    "plt.show()"
   ]
  },
  {
   "cell_type": "markdown",
   "metadata": {},
   "source": [
    "## Misc"
   ]
  },
  {
   "cell_type": "markdown",
   "metadata": {},
   "source": [
    "### Teaching\n",
    "If an idealised teaching set is created that contains all combinations of categorical columns (activity and weekday) combined with a time placed in the middle of the timespan for the scenario and location at the departure station."
   ]
  },
  {
   "cell_type": "code",
   "execution_count": 5,
   "metadata": {},
   "outputs": [
    {
     "data": {
      "text/html": [
       "Total time: 00:03 <p><table style='width:300px; margin-bottom:10px'>\n",
       "  <tr>\n",
       "    <th>epoch</th>\n",
       "    <th>train_loss</th>\n",
       "    <th>valid_loss</th>\n",
       "    <th>accuracy</th>\n",
       "  </tr>\n",
       "  <tr>\n",
       "    <th>1</th>\n",
       "    <th>1.219861</th>\n",
       "    <th>1.367606</th>\n",
       "    <th>0.640000</th>\n",
       "  </tr>\n",
       "  <tr>\n",
       "    <th>2</th>\n",
       "    <th>0.974029</th>\n",
       "    <th>1.313586</th>\n",
       "    <th>0.640000</th>\n",
       "  </tr>\n",
       "  <tr>\n",
       "    <th>3</th>\n",
       "    <th>0.743887</th>\n",
       "    <th>1.158938</th>\n",
       "    <th>0.960000</th>\n",
       "  </tr>\n",
       "  <tr>\n",
       "    <th>4</th>\n",
       "    <th>0.570949</th>\n",
       "    <th>0.955995</th>\n",
       "    <th>0.960000</th>\n",
       "  </tr>\n",
       "  <tr>\n",
       "    <th>5</th>\n",
       "    <th>0.447231</th>\n",
       "    <th>0.699373</th>\n",
       "    <th>0.960000</th>\n",
       "  </tr>\n",
       "  <tr>\n",
       "    <th>6</th>\n",
       "    <th>0.358769</th>\n",
       "    <th>0.480977</th>\n",
       "    <th>1.000000</th>\n",
       "  </tr>\n",
       "  <tr>\n",
       "    <th>7</th>\n",
       "    <th>0.293270</th>\n",
       "    <th>0.310816</th>\n",
       "    <th>1.000000</th>\n",
       "  </tr>\n",
       "  <tr>\n",
       "    <th>8</th>\n",
       "    <th>0.243769</th>\n",
       "    <th>0.195585</th>\n",
       "    <th>1.000000</th>\n",
       "  </tr>\n",
       "  <tr>\n",
       "    <th>9</th>\n",
       "    <th>0.205773</th>\n",
       "    <th>0.122767</th>\n",
       "    <th>1.000000</th>\n",
       "  </tr>\n",
       "  <tr>\n",
       "    <th>10</th>\n",
       "    <th>0.176040</th>\n",
       "    <th>0.082974</th>\n",
       "    <th>1.000000</th>\n",
       "  </tr>\n",
       "</table>\n"
      ],
      "text/plain": [
       "<IPython.core.display.HTML object>"
      ]
     },
     "metadata": {},
     "output_type": "display_data"
    },
    {
     "data": {
      "image/png": "[encoded data removed]",
      "text/plain": [
       "<Figure size 432x288 with 1 Axes>"
      ]
     },
     "metadata": {},
     "output_type": "display_data"
    }
   ],
   "source": [
    "#user = \"tnK534JMwwfhvUEycn69HPbhqkt2\" #Maria\n",
    "#user = \"ehaBtfOPDNZjzy1MEvjQmGo4Zv12\" #Andrea\n",
    "#user = \"hCWCulj7M1aMVyd0Fm0Eqrv8q1Q2\" #Bjorn\n",
    "filename = user+\"_teaching_set.csv\"\n",
    "teachingSet = pd.read_csv(PATH+filename)\n",
    "teachingSet=make_shure_we_got_enough_rows(teachingSet)\n",
    "valid_idx= list(np.random.randint(0,len(teachingSet),int(len(teachingSet)*0.1))) #If we want 10% random instead of same 10 rows...\n",
    "#valid_idx = list(range(int(len(teachingSet)*0.9), len(teachingSet)))  #Here always last 10% is used for validation\n",
    "data = (TabularList.from_df(teachingSet, path=\"models\", cat_names=cat_names, cont_names=cont_names, procs=procs)\n",
    "    .split_by_idx(valid_idx)\n",
    "    .label_from_df(cols=dep_var)\n",
    "    .databunch())\n",
    "learner=tabular_learner(data, layers=[200,100], metrics=accuracy,callback_fns=ShowGraph)\n",
    "learner.fit_one_cycle(10)"
   ]
  },
  {
   "cell_type": "markdown",
   "metadata": {},
   "source": [
    "Predict and view some rows"
   ]
  },
  {
   "cell_type": "markdown",
   "metadata": {},
   "source": [
    "### Training on parts of data\n"
   ]
  },
  {
   "cell_type": "markdown",
   "metadata": {},
   "source": [
    "Run test one cycle with part of the training set."
   ]
  },
  {
   "cell_type": "code",
   "execution_count": 2,
   "metadata": {},
   "outputs": [
    {
     "data": {
      "text/html": [
       "Total time: 00:03 <p><table style='width:300px; margin-bottom:10px'>\n",
       "  <tr>\n",
       "    <th>epoch</th>\n",
       "    <th>train_loss</th>\n",
       "    <th>valid_loss</th>\n",
       "    <th>accuracy</th>\n",
       "  </tr>\n",
       "  <tr>\n",
       "    <th>1</th>\n",
       "    <th>1.359575</th>\n",
       "    <th>1.397671</th>\n",
       "    <th>0.300000</th>\n",
       "  </tr>\n",
       "  <tr>\n",
       "    <th>2</th>\n",
       "    <th>1.128293</th>\n",
       "    <th>1.361416</th>\n",
       "    <th>0.400000</th>\n",
       "  </tr>\n",
       "  <tr>\n",
       "    <th>3</th>\n",
       "    <th>0.905131</th>\n",
       "    <th>1.202348</th>\n",
       "    <th>0.800000</th>\n",
       "  </tr>\n",
       "  <tr>\n",
       "    <th>4</th>\n",
       "    <th>0.723228</th>\n",
       "    <th>0.928716</th>\n",
       "    <th>0.900000</th>\n",
       "  </tr>\n",
       "  <tr>\n",
       "    <th>5</th>\n",
       "    <th>0.576774</th>\n",
       "    <th>0.662343</th>\n",
       "    <th>1.000000</th>\n",
       "  </tr>\n",
       "  <tr>\n",
       "    <th>6</th>\n",
       "    <th>0.465656</th>\n",
       "    <th>0.424139</th>\n",
       "    <th>1.000000</th>\n",
       "  </tr>\n",
       "  <tr>\n",
       "    <th>7</th>\n",
       "    <th>0.381444</th>\n",
       "    <th>0.268909</th>\n",
       "    <th>1.000000</th>\n",
       "  </tr>\n",
       "  <tr>\n",
       "    <th>8</th>\n",
       "    <th>0.317240</th>\n",
       "    <th>0.177895</th>\n",
       "    <th>1.000000</th>\n",
       "  </tr>\n",
       "  <tr>\n",
       "    <th>9</th>\n",
       "    <th>0.267707</th>\n",
       "    <th>0.123318</th>\n",
       "    <th>1.000000</th>\n",
       "  </tr>\n",
       "  <tr>\n",
       "    <th>10</th>\n",
       "    <th>0.228828</th>\n",
       "    <th>0.090398</th>\n",
       "    <th>1.000000</th>\n",
       "  </tr>\n",
       "</table>\n"
      ],
      "text/plain": [
       "<IPython.core.display.HTML object>"
      ]
     },
     "metadata": {},
     "output_type": "display_data"
    },
    {
     "data": {
      "image/png": "[encoded data removed]",
      "text/plain": [
       "<Figure size 432x288 with 1 Axes>"
      ]
     },
     "metadata": {},
     "output_type": "display_data"
    }
   ],
   "source": [
    "#user = \"tnK534JMwwfhvUEycn69HPbhqkt2\" #Maria\n",
    "#user = \"ehaBtfOPDNZjzy1MEvjQmGo4Zv12\" #Andrea\n",
    "#user = \"hCWCulj7M1aMVyd0Fm0Eqrv8q1Q2\" #Bjorn\n",
    "filename = user+\"_train_valid.csv\"\n",
    "dataSetIn = pd.read_csv(PATH+filename)\n",
    "dataSet=dataSetIn[0:10]\n",
    "dataSet=make_shure_we_got_enough_rows(dataSet)\n",
    "#valid_idx = list(np.random.randint(0,len(dataSet),int(len(dataSet)*0.1)))\n",
    "valid_idx = list(range(int(len(dataSet)*0.9), len(dataSet)))  #Here always last 10% is used for validation \n",
    "data = (TabularList.from_df(dataSet, path=\"models\", cat_names=cat_names, cont_names=cont_names, procs=procs)\n",
    "                .split_by_idx(valid_idx)\n",
    "                .label_from_df(cols=dep_var)\n",
    "                .databunch())\n",
    "learner=tabular_learner(data, layers=[200,100], metrics=accuracy,callback_fns=ShowGraph)\n",
    "#%time learner.fit_one_cycle(10)\n",
    "learner.fit_one_cycle(10)"
   ]
  },
  {
   "cell_type": "markdown",
   "metadata": {},
   "source": [
    "### Evaluate on test set"
   ]
  },
  {
   "cell_type": "code",
   "execution_count": 3,
   "metadata": {},
   "outputs": [],
   "source": [
    "#%%capture\n",
    "#user = \"tnK534JMwwfhvUEycn69HPbhqkt2\" #Maria\n",
    "#user = \"ehaBtfOPDNZjzy1MEvjQmGo4Zv12\" #Andrea\n",
    "#user = \"hCWCulj7M1aMVyd0Fm0Eqrv8q1Q2\" #Bjorn\n",
    "filenameTest = user+\"_test.csv\"\n",
    "datasetTest = pd.read_csv(PATH+filenameTest)\n",
    "accuracyTest = predict_journeys(learner,datasetTest)"
   ]
  },
  {
   "cell_type": "markdown",
   "metadata": {},
   "source": [
    "#### Print result"
   ]
  },
  {
   "cell_type": "code",
   "execution_count": 4,
   "metadata": {},
   "outputs": [
    {
     "name": "stdout",
     "output_type": "stream",
     "text": [
      "0.966804979253112\n"
     ]
    }
   ],
   "source": [
    "print(accuracyTest)"
   ]
  },
  {
   "cell_type": "code",
   "execution_count": 9,
   "metadata": {},
   "outputs": [
    {
     "name": "stdout",
     "output_type": "stream",
     "text": [
      "Predicted journey from: 80338 to 80159 with accuracy 0.99\n"
     ]
    }
   ],
   "source": [
    "#prediction,accuracy = predict_journey(3,1243184839,603,6) #8107980000 \"ehaBtfOPDNZjzy1MEvjQmGo4Zv12\" Andrea\n",
    "prediction,accuracy = predict_journey(3,1242202139,806,6) #8033880159 \"hCWCulj7M1aMVyd0Fm0Eqrv8q1Q2\" #Bjorn\n",
    "#prediction,accuracy = predict_journey(3,1242479279,527,5) #8121680000 \"tnK534JMwwfhvUEycn69HPbhqkt2\" #Maria\n",
    "print(\"Predicted journey from: \"+str(prediction)[0:5]+\" to \" +str(prediction)[5:10]+ \" with accuracy \"+str(accuracy));"
   ]
  },
  {
   "cell_type": "markdown",
   "metadata": {},
   "source": [
    "### Confusion Matrix and other stuff"
   ]
  },
  {
   "cell_type": "code",
   "execution_count": 26,
   "metadata": {},
   "outputs": [],
   "source": [
    "preds,y,losses = learner.get_preds(with_loss=True)\n",
    "interp = ClassificationInterpretation(data, preds, y, losses)"
   ]
  },
  {
   "cell_type": "code",
   "execution_count": 27,
   "metadata": {},
   "outputs": [
    {
     "data": {
      "image/png": "[encoded data removed]",
      "text/plain": [
       "<Figure size 432x288 with 1 Axes>"
      ]
     },
     "metadata": {
      "needs_background": "light"
     },
     "output_type": "display_data"
    }
   ],
   "source": [
    "interp.plot_confusion_matrix()"
   ]
  },
  {
   "cell_type": "code",
   "execution_count": 123,
   "metadata": {},
   "outputs": [
    {
     "name": "stdout",
     "output_type": "stream",
     "text": [
      "Starts: --monday--\n",
      "Starts: --tuesday--\n",
      "train:6\n",
      "Starts: --wednesday--\n",
      "train:13\n",
      "Starts: --thursday--\n",
      "train:19\n",
      "Starts: --friday--\n",
      "train:29\n",
      "Starts: --saturday--\n",
      "train:38\n",
      "Starts: --sunday--\n",
      "train:38\n",
      "Starts: --monday--\n",
      "train:45\n",
      "Starts: --tuesday--\n",
      "train:54\n",
      "Starts: --wednesday--\n",
      "train:63\n",
      "Starts: --thursday--\n",
      "train:71\n",
      "Starts: --friday--\n",
      "train:79\n",
      "Starts: --saturday--\n",
      "train:89\n",
      "Starts: --sunday--\n",
      "train:95\n",
      "Starts: --end training data--\n",
      "train:103\n",
      "    detectedActivity       geoHash  minuteOfDay  weekday       journey\n",
      "1                  3  1.243185e+09        443.0      1.0  8.107981e+09\n",
      "2                  7  1.243185e+09        445.0      1.0  8.107981e+09\n",
      "3                  3  1.243185e+09        450.0      1.0  8.107981e+09\n",
      "4                  8  1.242480e+09        920.0      1.0  8.115681e+09\n",
      "5                  7  1.242480e+09        930.0      1.0  8.115681e+09\n",
      "6                  3  1.242478e+09        930.0      1.0  8.115681e+09\n",
      "8                  3  1.243185e+09        490.0      2.0  8.107981e+09\n",
      "9                  3  1.243185e+09        495.0      2.0  8.107981e+09\n",
      "10                 7  1.243185e+09        497.0      2.0  8.107981e+09\n",
      "11                 7  1.243185e+09        497.0      2.0  8.107981e+09\n",
      "12                 7  1.242480e+09       1030.0      2.0  8.115681e+09\n",
      "13                 7  1.242478e+09       1032.0      2.0  8.115681e+09\n",
      "14                 7  1.242480e+09       1038.0      2.0  8.115681e+09\n",
      "16                 7  1.243185e+09        434.0      3.0  8.107981e+09\n",
      "17                 7  1.243185e+09        438.0      3.0  8.107981e+09\n",
      "18                 3  1.243185e+09        442.0      3.0  8.107981e+09\n",
      "19                 3  1.242478e+09        850.0      3.0  8.115681e+09\n",
      "20                 7  1.242478e+09        854.0      3.0  8.115681e+09\n",
      "21                 3  1.242480e+09        860.0      3.0  8.115681e+09\n",
      "23                 3  1.243185e+09        495.0      4.0  8.107981e+09\n",
      "24                 8  1.243185e+09        498.0      4.0  8.107981e+09\n",
      "25                 3  1.243185e+09        502.0      4.0  8.107981e+09\n",
      "26                 3  1.243185e+09        502.0      4.0  8.107981e+09\n",
      "27                 3  1.243185e+09        504.0      4.0  8.107981e+09\n",
      "28                 3  1.243185e+09        504.0      4.0  8.107981e+09\n",
      "29                 8  1.242478e+09       1030.0      4.0  8.115681e+09\n",
      "30                 3  1.242478e+09       1034.0      4.0  8.115681e+09\n",
      "31                 3  1.242478e+09       1034.0      4.0  8.115681e+09\n",
      "32                 3  1.242480e+09       1035.0      4.0  8.115681e+09\n",
      "34                 7  1.243185e+09        433.0      5.0  8.107981e+09\n",
      "..               ...           ...          ...      ...           ...\n",
      "84                 7  1.243185e+09        492.0      4.0  8.107981e+09\n",
      "85                 8  1.243185e+09        494.0      4.0  8.107981e+09\n",
      "86                 3  1.242480e+09       1055.0      4.0  8.115681e+09\n",
      "87                 3  1.242480e+09       1059.0      4.0  8.115681e+09\n",
      "88                 7  1.242478e+09       1076.0      4.0  8.115681e+09\n",
      "89                 7  1.242480e+09       1076.0      4.0  8.115681e+09\n",
      "91                 7  1.243185e+09        442.0      5.0  8.107981e+09\n",
      "92                 7  1.243185e+09        445.0      5.0  8.107981e+09\n",
      "93                 7  1.243185e+09        445.0      5.0  8.107981e+09\n",
      "94                 3  1.243185e+09        450.0      5.0  8.107981e+09\n",
      "95                 3  1.243185e+09        450.0      5.0  8.107981e+09\n",
      "96                 3  1.242478e+09        870.0      5.0  8.115681e+09\n",
      "97                 3  1.242480e+09        875.0      5.0  8.115681e+09\n",
      "98                 3  1.242478e+09        875.0      5.0  8.115681e+09\n",
      "99                 3  1.242479e+09        879.0      5.0  8.115681e+09\n",
      "100                3  1.242478e+09        879.0      5.0  8.115681e+09\n",
      "102                3  1.243185e+09       1090.0      6.0  8.107980e+09\n",
      "103                7  1.243185e+09       1110.0      6.0  8.107980e+09\n",
      "104                7  1.243185e+09       1116.0      6.0  8.107980e+09\n",
      "105                3  1.242213e+09       1280.0      6.0  8.000081e+09\n",
      "106                7  1.242213e+09       1286.0      6.0  8.000081e+09\n",
      "107                7  1.242213e+09       1286.0      6.0  8.000081e+09\n",
      "109                3  1.243185e+09        790.0      0.0  8.107982e+09\n",
      "110                3  1.243185e+09        796.0      0.0  8.107982e+09\n",
      "111                8  1.243185e+09        800.0      0.0  8.107982e+09\n",
      "112                8  1.243185e+09        800.0      0.0  8.107982e+09\n",
      "113                3  1.242436e+09       1092.0      0.0  8.170381e+09\n",
      "114                7  1.242436e+09       1099.0      0.0  8.170381e+09\n",
      "115                7  1.242436e+09       1101.0      0.0  8.170381e+09\n",
      "116                7  1.242436e+09       1101.0      0.0  8.170381e+09\n",
      "\n",
      "[103 rows x 5 columns]\n",
      "103\n"
     ]
    }
   ],
   "source": [
    "##read 14 days try\n",
    "#user = \"tnK534JMwwfhvUEycn69HPbhqkt2\" #Maria\n",
    "#user = \"ehaBtfOPDNZjzy1MEvjQmGo4Zv12\" #Andrea\n",
    "#user = \"hCWCulj7M1aMVyd0Fm0Eqrv8q1Q2\" #Bjorn\n",
    "filenameTest = user+\"_start14days.csv\"\n",
    "datasetTest = pd.read_csv(PATH+filenameTest)\n",
    "trainset = DataFrame(datasetTest[0:0])\n",
    "for row in datasetTest.itertuples():\n",
    "    if row[1].startswith('--'):\n",
    "        print(\"Starts: \"+row[1]) ##New batch\n",
    "        if len(trainset)>0:\n",
    "            print(\"train:\"+str(len(trainset)))\n",
    "    else:\n",
    "        trainset = trainset.append(datasetTest.iloc[row[0]])\n",
    "print(trainset)\n",
    "print(len(trainset))"
   ]
  },
  {
   "cell_type": "code",
   "execution_count": null,
   "metadata": {},
   "outputs": [],
   "source": []
  },
  {
   "cell_type": "code",
   "execution_count": null,
   "metadata": {},
   "outputs": [],
   "source": []
  }
 ],
 "metadata": {
  "kernelspec": {
   "display_name": "Python 3",
   "language": "python",
   "name": "python3"
  },
  "language_info": {
   "codemirror_mode": {
    "name": "ipython",
    "version": 3
   },
   "file_extension": ".py",
   "mimetype": "text/x-python",
   "name": "python",
   "nbconvert_exporter": "python",
   "pygments_lexer": "ipython3",
   "version": "3.7.0"
  }
 },
 "nbformat": 4,
 "nbformat_minor": 2
}
