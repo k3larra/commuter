{
 "cells": [
  {
   "cell_type": "markdown",
   "metadata": {},
   "source": [
    "## Running node server for pendlaren\n",
    "I use the package [forever](https://www.npmjs.com/package/forever) to run the node server in the background.\n",
    "Running node without forever.\n",
    "```\n",
    "node pendlaren_node_server.js\n",
    "```\n",
    "stop with ctrl-c ..\n",
    "\n",
    "Command line stuff.\n",
    "This command:\n",
    "forever start -l forever.log -o out.log -e err.log pendlaren_node_server.js\n",
    "\n",
    "--\n",
    "Forever is a very good NodeJs module to do exactly that.\n",
    "\n",
    "Install forever by typing in the command line\n",
    "\n",
    "$ npm install forever -g\n",
    "Then use the following command to run a node.js script\n",
    "\n",
    "$ forever start /path/to/script.js\n",
    "You are good to go. Additionally you can run\n",
    "\n",
    "$ forever list\n",
    "to see all the running scripts. You can terminate any specific script by typing\n",
    "\n",
    "$ forever stop [pid]\n",
    "where [pid] is the process ID of the script you will obtain from the list command. To stop all scripts, you may type\n",
    "\n",
    "$ forever stopall\n",
    "\n",
    "#### Here are some code to start stop and list the running forever instances."
   ]
  },
  {
   "cell_type": "code",
   "execution_count": null,
   "metadata": {},
   "outputs": [],
   "source": [
    "#File list in current dir\n",
    "! ls -lah"
   ]
  },
  {
   "cell_type": "code",
   "execution_count": null,
   "metadata": {},
   "outputs": [],
   "source": [
    "#Run an instance with forever\n",
    "! rm out.log\n",
    "!  forever start -a -l forever.log -o out.log -e err.log pendlaren_node_server.js"
   ]
  },
  {
   "cell_type": "code",
   "execution_count": null,
   "metadata": {},
   "outputs": [],
   "source": [
    "#List running forever instances\n",
    "! forever list"
   ]
  },
  {
   "cell_type": "code",
   "execution_count": null,
   "metadata": {},
   "outputs": [],
   "source": [
    "#Stop running forever instances\n",
    "! forever stopall"
   ]
  },
  {
   "cell_type": "code",
   "execution_count": null,
   "metadata": {},
   "outputs": [],
   "source": [
    "#Current run\n",
    "f = open(\"out.log\") \n",
    "print f.read()\n",
    "#Older logs\n",
    "# f = open(\"/home/lars_rauer/.forever/forever.log\") \n",
    "# print f.read()"
   ]
  },
  {
   "cell_type": "markdown",
   "metadata": {},
   "source": [
    "### Node commands \n",
    "Start test server"
   ]
  },
  {
   "cell_type": "code",
   "execution_count": 15,
   "metadata": {},
   "outputs": [
    {
     "name": "stdout",
     "output_type": "stream",
     "text": [
      "results: \"Node server starting\"\n",
      "Model exists for: tnK534JMwwfhvUEycn69HPbhqkt2\n",
      "Predicted for :tnK534JMwwfhvUEycn69HPbhqkt2 from: 81802 to: 80014 with probability: 0.99 prediction took: 0s\n",
      "Model exists for: tnK534JMwwfhvUEycn69HPbhqkt2\n",
      "Predicted for :tnK534JMwwfhvUEycn69HPbhqkt2 from: 81802 to: 80014 with probability: 0.99 prediction took: 0s\n",
      "Model exists for: tnK534JMwwfhvUEycn69HPbhqkt2\n",
      "Predicted for :tnK534JMwwfhvUEycn69HPbhqkt2 from: 81802 to: 80014 with probability: 0.99 prediction took: 0s\n",
      "^C\n"
     ]
    }
   ],
   "source": [
    "! node pendlaren_node_server.js"
   ]
  },
  {
   "cell_type": "code",
   "execution_count": null,
   "metadata": {},
   "outputs": [],
   "source": [
    "# logg all consoles to files\n",
    "! node pendlaren_node_server.js > test.log 2>&1"
   ]
  },
  {
   "cell_type": "code",
   "execution_count": 2,
   "metadata": {},
   "outputs": [],
   "source": [
    "# ! ps -A"
   ]
  },
  {
   "cell_type": "code",
   "execution_count": 1,
   "metadata": {},
   "outputs": [
    {
     "name": "stdout",
     "output_type": "stream",
     "text": [
      "Python 3.7.1\n"
     ]
    }
   ],
   "source": [
    "#Python version\n",
    "! python --version"
   ]
  },
  {
   "cell_type": "code",
   "execution_count": null,
   "metadata": {},
   "outputs": [],
   "source": [
    "! killall -9 node"
   ]
  },
  {
   "cell_type": "markdown",
   "metadata": {},
   "source": [
    "### Prediction time test\n",
    "Time from a node js script untill response from flask hello.py<br>\n",
    "3 seconds first time<br>\n",
    "235ms<br>\n",
    "240ms<br>\n",
    "247ms<br>\n",
    "236ms<br>\n",
    "232ms<br>\n",
    "237ms<br>\n",
    "### Retraining time test\n",
    "tnk: 2.81s 160 rows<br>\n",
    "tnk: 2.71s<br>\n",
    "tnk: 2.84s<br>\n",
    "eha: 5.44s 3470 rows<br>\n",
    "eha: 5.25<br>\n",
    "eha: 5.62\n",
    "#### Retraing first time newly started server:\n",
    "eha: 77s\n",
    "Then\n",
    "eha: 5.61s\n",
    "### Small error testing:\n",
    "#### Prediction working\n",
    "Prediction done for: tnK534JMwwfhvUEycn69HPbhqkt2\n",
    "Accuracy: 1.0\n",
    "fromStation: 80014\n",
    "toStation: 80002\n",
    "#### Prediction no existing model.\n",
    "Prediction error or no trained mode found for: ehaBtfOPDNZjzy1MEvjQmGo4Zv1\n",
    "#### Prediction no running flask server\n",
    "Error in connection for: ehaBtfOPDNZjzy1MEvjQmGo4Zv1\n",
    "#### Training working\n",
    "Done training for: ehaBtfOPDNZjzy1MEvjQmGo4Zv12\n",
    "#### Training no id\n",
    "Error in connection for: undefined\n",
    "#### Training no runnig flask server\n",
    "Error in connection for: ehaBtfOPDNZjzy1MEvjQmGo4Zv12\n",
    "#### Training no trained model\n",
    "Unknown training error for: ehaBtfOPDNZjzy1MEvjQmGo4Zv1\n",
    "#### Running multiple 3 trainings same time (A user cannot train a same model when one training is on the way).\n",
    "Hangs it seems with concurrent.....2 working fine....restar efter 5 min..<br>\n",
    "Stopped flask server no result<br>\n",
    "restart node 8min 49s<br>\n",
    "Node server hangs....<br>\n",
    "restart flask.. Address already in use<br>\n",
    "kill flask not working still there....<br>\n",
    "restart python<br>\n",
    "netstat -tulnp | grep :5000<br>\n",
    "cannot remove listening port<br>\n",
    "restart server.. no sudo password....<br>\n",
    "This could perhaps be a problem when starting server and many waiting for training<br>\n",
    "#### Running multiple 3 trainings different users same time (again)\n",
    "Nope<br>\n",
    "#### Running multiple 3 trainings different users about same time (after)\n",
    "Nope but restarting node server is enough.\n",
    "#### Running multiple 2 trainings same time\n",
    "works well\n",
    "#### Running multiple 3 predictions same time\n",
    "Works well\n",
    "#### Simulating many predictions\n",
    "setInterval(pred1, 2000);<br>\n",
    "setInterval(pred1, 3000);<br>\n",
    "setInterval(pred1, 4000);<br>\n",
    "OK works well.\n",
    "#### simulating many predictions 500ms between each for same model (no queing)\n",
    "setInterval(pred1, 600);<br>\n",
    "setInterval(pred1, 550);<br>\n",
    "setInterval(pred1, 500);\n",
    "#### simulating many predictions 200ms between each for same model (queing)\n",
    "setInterval(pred1, 200);<br>\n",
    "setInterval(pred1, 230);<br>\n",
    "setInterval(pred1, 210);\n",
    "Works for<br>\n",
    "CPU times: user 1.59 s, sys: 208 ms, total: 1.8 s<br>\n",
    "Wall time: 41.3 s<br>\n",
    "15 preds/s\n",
    "#### dotraining get prediction same time\n",
    "getPrediction('ehaBtfOPDNZjzy1MEvjQmGo4Zv12',3,1242478163,840,1) //8115681079<br>\n",
    "doTraining('ehaBtfOPDNZjzy1MEvjQmGo4Zv12')\n",
    "#### Prediction while training\n",
    "Blocks training that is ok--<br>\n",
    "Works after\n",
    "#### Predicting and training\n",
    "setInterval(pred1, 1000);<br>\n",
    "setInterval(pred2, 2000);<br>\n",
    "setInterval(pred3, 2500);<br>\n",
    "setInterval(train1, 10000);<br>\n",
    "setInterval(train2, 15000);<br>\n",
    "setInterval(train3, 20000);<br>\n",
    "CPU times: user 3.56 s, sys: 448 ms, total: 4.01 s<br>\n",
    "Wall time: 2min 4s<br>\n",
    "Works well but:::<br>\n",
    "CPU at 60% for compute engine Google Cloud so about max<br>\n",
    "n1-highmem-2 (2 vCPUs, 13 GB memory)<br>\n",
    "Intel Broadwell<br>\n",
    "1 x NVIDIA Tesla K80\n",
    "#### Seems to hang sometimes.....\n",
    "port 5000 busy python process cannot kill proccess need sudo psw..."
   ]
  },
  {
   "cell_type": "code",
   "execution_count": 14,
   "metadata": {},
   "outputs": [
    {
     "name": "stdout",
     "output_type": "stream",
     "text": [
      "{\"error\": 0}\n",
      "Done training for: tnK534JMwwfhvUEycn69HPbhqkt2\n",
      "CPU times: user 56 ms, sys: 16 ms, total: 72 ms\n",
      "Wall time: 2.57 s\n"
     ]
    }
   ],
   "source": [
    "%%time\n",
    "! node getWallTime"
   ]
  },
  {
   "cell_type": "code",
   "execution_count": null,
   "metadata": {},
   "outputs": [],
   "source": []
  },
  {
   "cell_type": "code",
   "execution_count": null,
   "metadata": {},
   "outputs": [],
   "source": []
  }
 ],
 "metadata": {
  "kernelspec": {
   "display_name": "Python 3",
   "language": "python",
   "name": "python3"
  },
  "language_info": {
   "codemirror_mode": {
    "name": "ipython",
    "version": 3
   },
   "file_extension": ".py",
   "mimetype": "text/x-python",
   "name": "python",
   "nbconvert_exporter": "python",
   "pygments_lexer": "ipython3",
   "version": "3.7.1"
  }
 },
 "nbformat": 4,
 "nbformat_minor": 2
}
