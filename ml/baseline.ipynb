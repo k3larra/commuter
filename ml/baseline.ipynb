{
 "cells": [
  {
   "cell_type": "markdown",
   "metadata": {},
   "source": [
    "# Evaluate commuter data over time\n",
    "The code below takes labbeled data, trains a NN using a growing amount of training data.\n",
    "Since this is done itaratively and compared to predictions towards a test set an estimation can be made over how fast the model converges.\n"
   ]
  },
  {
   "cell_type": "code",
   "execution_count": 3,
   "metadata": {},
   "outputs": [],
   "source": [
    "#Setup\n",
    "from fastai import *          # Quick accesss to most common functionality\n",
    "from fastai.tabular import *  # Quick accesss to tabular functionality     # Access to example data provided with fastai\n",
    "from fastai.vision import *\n",
    "PATH=\"../data/\"\n",
    "dep_var = 'journey'\n",
    "cat_names = [\"detectedActivity\",\"weekday\"]\n",
    "cont_names =[\"geoHash\",\"minuteOfDay\"]\n",
    "procs = [FillMissing, Categorify, Normalize]\n",
    "# Uncomment active user\n",
    "#user = \"tnK534JMwwfhvUEycn69HPbhqkt2\" #Maria\n",
    "user = \"ehaBtfOPDNZjzy1MEvjQmGo4Zv12\" #Andrea\n",
    "#user = \"hCWCulj7M1aMVyd0Fm0Eqrv8q1Q2\" #Bjorn\n",
    "\n",
    "def predict_journeys(learner,dataset):\n",
    "    \"This can be thing that is already  in the framework... Confusion matrix adding test set..., but I have some hard time finding the data in the learner\"\n",
    "    \"If filename exists all wrong predictions will be saved.\"\n",
    "    result = 0\n",
    "    accuracy = 0\n",
    "    #details = []\n",
    "    for x in range(0,dataset.shape[0]):\n",
    "        correct = dataset.iloc[x].journey  #remove journey\n",
    "        predicted = learner.predict(dataset.iloc[x]);\n",
    "        #print(str(correct)+\":\"+str(predicted[0]))\n",
    "        if (str(correct)==str(predicted[0])):\n",
    "            result=result+1\n",
    "        #details.append([str(correct),str(predicted[0]),str(round(predicted[2].max().item()))])\n",
    "    accuracy=result/dataset.shape[0]\n",
    "    return(accuracy)\n",
    "    \n",
    "def predict_journey(detectedActivity,geoHash,minuteOfday,weekday):\n",
    "    data = np.array([['','detectedActivity','geoHash','minuteOfDay','weekday'],\n",
    "                [\"row1\",detectedActivity,geoHash,minuteOfday,weekday]])            \n",
    "    dr=pd.DataFrame(data=data[1:,1:],\n",
    "                    index=data[1:,0],\n",
    "                    columns=data[0,1:]).astype(np.int64)\n",
    "    predicted = learner.predict(dr.iloc[0])\n",
    "    return(predicted[0],str(round(predicted[2].max().item(),2)))\n",
    "\n",
    "def evaluate_learner(rows_per_training:int,trainingset,testset,length_teachingSet=0): #Minimal start for any training can bne used for offset\n",
    "    \"Asumes a constant amount of rows per day in training\"\n",
    "    result = []\n",
    "    if length_teachingSet>0: #do teaching and add thus add startdata for day 0\n",
    "        start_point = length_teachingSet\n",
    "    else: #no teachin set exists add row for day 0\n",
    "        result.append([0,0,0])\n",
    "        start_point = rows_per_training\n",
    "    for rows in range(start_point,len(trainingset),rows_per_training):\n",
    "        df=trainingset[0:rows]\n",
    "        df=make_shure_we_got_enough_rows(df)\n",
    "        #valid_idx= list(np.random.randint(0,len(df),int(len(df)*0.1))) #If we want 10% random instead of same 10 rows...\n",
    "        valid_idx = list(range(int(len(df)*0.9), len(df)))  #Here always last 10% is used for validation\n",
    "        data = (TabularList.from_df(df, path=\"models\", cat_names=cat_names, cont_names=cont_names, procs=procs)\n",
    "                .split_by_idx(valid_idx)\n",
    "                .label_from_df(cols=dep_var)\n",
    "                .databunch())\n",
    "        learner=tabular_learner(data, layers=[200,100], metrics=accuracy)\n",
    "        learner.fit_one_cycle(30)\n",
    "        #learner.fit(5, 1e-2)\n",
    "        sizeR = len(learner.recorder.metrics)\n",
    "        resultTest = predict_journeys(learner,testset)\n",
    "        result.append([rows,learner.recorder.metrics[sizeR-1][0].item(),resultTest])\n",
    "    return (result)\n",
    "\n",
    "def evaluate_learner_varying_batch_size(trainingset,testset,teachingset=None):\n",
    "    \"Trains in batches. A new batch starts with -- and ends with next row that starts with --\"\n",
    "    \"Training is done from the first row that starts with -- until next row that starts with -- and thus training is done with a growing amount of rows\"\n",
    "    \"Rows in a batch are duplicated so there are aways at least 500 rows for training (no new information added and no other data agumentation)\"\n",
    "    \"If an initial teaching set is used add the rows first without an initial row starting with --.\"\n",
    "    result = []\n",
    "    iterativeTrainingSet = DataFrame(testset[0:0]) #copy structure\n",
    "    for row in trainingset.itertuples():\n",
    "        if row[1].startswith('--'): #New batch\n",
    "            if len(iterativeTrainingSet)>0 or teachingset is not None:\n",
    "                df=iterativeTrainingSet.copy() #crete another! copy to train from\n",
    "                df = df.astype({'detectedActivity':'int','geoHash':'int', 'minuteOfDay':'int','weekday':'int',\"journey\":'int'})\n",
    "                if teachingset is not None:\n",
    "                    df = pd.concat([teachingset,df])\n",
    "                df=make_shure_we_got_enough_rows(df)  ##Add rows so it is big enough to train from\n",
    "                valid_idx= list(np.random.randint(0,len(df),int(len(df)*0.1))) #If we want 10% random instead of same 10 rows...\n",
    "                #valid_idx = list(range(int(len(df)*0.9), len(df)))  #Here always last 10% is used for validation\n",
    "                data = (TabularList.from_df(df, path=\"models\", cat_names=cat_names, cont_names=cont_names, procs=procs)\n",
    "                    .split_by_idx(valid_idx)\n",
    "                    .label_from_df(cols=dep_var)\n",
    "                    .databunch())\n",
    "                learner=tabular_learner(data, layers=[200,100], metrics=accuracy)\n",
    "                learner.fit_one_cycle(20)\n",
    "                sizeR = len(learner.recorder.metrics)\n",
    "                resultTest = predict_journeys(learner,testset)\n",
    "                result.append([len(iterativeTrainingSet),learner.recorder.metrics[sizeR-1][0].item(),resultTest])\n",
    "            else: ##it is first row or no teaching data exists(Cold start) so no training is possible\n",
    "                result.append([0,0,0])\n",
    "        else: # just add the for to training set\n",
    "            iterativeTrainingSet = iterativeTrainingSet.append(trainingset.iloc[row[0]])\n",
    "    return (result)\n",
    "\n",
    "def make_shure_we_got_enough_rows(dataset,minrows=1000):\n",
    "    \"If the dataset has fewer rows that minrows, whole dataset copies will be added at the end until at least minrows exists\"\n",
    "    newset = pd.DataFrame()\n",
    "    while newset.shape[0]<minrows:\n",
    "        newset = pd.concat([newset,dataset])\n",
    "    return(newset)\n",
    "\n",
    "def save_results(filename,result):\n",
    "    a = np.asarray(result)\n",
    "    np.savetxt(\"saved/\"+filename,a,delimiter=',',fmt=\"%10.2f\")"
   ]
  },
  {
   "cell_type": "markdown",
   "metadata": {},
   "source": [
    "### Training daily during the initial 14 days of use.\n",
    "We train every day from the start; the data is created using the personas travel patterns over the first 14 days of use."
   ]
  },
  {
   "cell_type": "code",
   "execution_count": 3,
   "metadata": {},
   "outputs": [],
   "source": [
    "%%capture\n",
    "trainingset = pd.read_csv(PATH+user+\"_start14days.csv\")\n",
    "testset = pd.read_csv(PATH+user+\"_test.csv\")\n",
    "resultMLTrain=evaluate_learner_varying_batch_size(trainingset,testset)\n",
    "save_results(\"Iterative_time_\"+user+\".csv\",resultMLTrain)"
   ]
  },
  {
   "cell_type": "markdown",
   "metadata": {},
   "source": [
    "### Training daily during the initial 14 days of use, a teaching set is added that contains common travel patterns.\n",
    "Here we add an idealised teaching set in the beginning of our dataset. Then we start training from day 0 using only the data in the teachingset and contiuing as in the section above.\n",
    "Teachingset:\n",
    "\n",
    "[Verbose](../commuter/data/ehaBtfOPDNZjzy1MEvjQmGo4Zv12_teaching_set.csv)\n",
    "\n",
    "[Minimal](../commuter/data/ehaBtfOPDNZjzy1MEvjQmGo4Zv12_teaching_set.csv)"
   ]
  },
  {
   "cell_type": "code",
   "execution_count": 9,
   "metadata": {},
   "outputs": [],
   "source": [
    "%%capture\n",
    "teachingset = pd.read_csv(PATH+user+\"_teaching_set_minimal.csv\")\n",
    "trainingset = pd.read_csv(PATH+user+\"_start14days.csv\")\n",
    "testset = pd.read_csv(PATH+user+\"_test.csv\")\n",
    "resultMLTrain=evaluate_learner_varying_batch_size(trainingset,testset,teachingset)\n",
    "save_results(\"Iterative_time_teach_minimal\"+user+\".csv\",resultMLTrain)"
   ]
  },
  {
   "cell_type": "markdown",
   "metadata": {},
   "source": [
    "### Pretrained mode from the same distribution as the test set.\n",
    "As a comparison to the training above this model is trained using data created using the persone and envisioning one year of use. The trained model is pretrained and deployed, the model is updated iteratively using incoming data. "
   ]
  },
  {
   "cell_type": "code",
   "execution_count": 4,
   "metadata": {},
   "outputs": [],
   "source": [
    "%%capture\n",
    "teachingset = pd.read_csv(PATH+user+\"_train_valid.csv\")\n",
    "trainingset = pd.read_csv(PATH+user+\"_start14days.csv\")\n",
    "testset = pd.read_csv(PATH+user+\"_test.csv\")\n",
    "resultMLTrain=evaluate_learner_varying_batch_size(trainingset,testset,teachingset)\n",
    "save_results(\"Iterative_time_supervised\"+user+\".csv\",resultMLTrain)"
   ]
  },
  {
   "cell_type": "markdown",
   "metadata": {},
   "source": [
    "### Show results\n",
    "Prints results from training done in the cells above. If training is done and the files exists then historical data is avilable."
   ]
  },
  {
   "cell_type": "code",
   "execution_count": 8,
   "metadata": {},
   "outputs": [
    {
     "data": {
      "image/png": "[encoded data removed]",
      "text/plain": [
       "<Figure size 432x288 with 1 Axes>"
      ]
     },
     "metadata": {
      "needs_background": "light"
     },
     "output_type": "display_data"
    }
   ],
   "source": [
    "import matplotlib.pyplot as plt\n",
    "from matplotlib.ticker import FuncFormatter, MaxNLocator\n",
    "personas = pd.read_csv(\"saved/personas.csv\")\n",
    "#Uncomment to look at individual result for other users\n",
    "#user = \"tnK534JMwwfhvUEycn69HPbhqkt2\" #Maria\n",
    "#user = \"ehaBtfOPDNZjzy1MEvjQmGo4Zv12\" #Andrea\n",
    "#user = \"hCWCulj7M1aMVyd0Fm0Eqrv8q1Q2\" #Bjorn\n",
    "personaname = personas.loc[personas['id']==user]\n",
    "learning_ax0= pd.read_csv(\"saved/Iterative_time_\"+user+\".csv\",header=None).values\n",
    "teaching_ax0 = pd.read_csv(\"saved/Iterative_time_teach_\"+user+\".csv\",header=None).values\n",
    "teaching_min_ax0 = pd.read_csv(\"saved/Iterative_time_teach_minimal\"+user+\".csv\",header=None).values\n",
    "supervised_min_ax0 = pd.read_csv(\"saved/Iterative_time_supervised\"+user+\".csv\",header=None).values\n",
    "fig, ax0 = plt.subplots()\n",
    "ax0.set_title(personaname ['name'].iloc[0]+\":\"+user)\n",
    "ax0.plot(learning_ax0[:,2],label='Accuracy iterative learning')\n",
    "ax0.plot(teaching_ax0[:,2],label='Accuracy teaching')\n",
    "ax0.plot(teaching_min_ax0[:,2],label='Accuracy teaching using minimal data')\n",
    "ax0.plot(supervised_min_ax0[:,2],label='Accuracy pretrained model')\n",
    "plt.xlabel('Time (days)')\n",
    "plt.ylabel('Accuracy')\n",
    "legend = ax0.legend(loc='lower right', shadow=True, fontsize='medium')\n",
    "plt.show()"
   ]
  },
  {
   "cell_type": "markdown",
   "metadata": {},
   "source": [
    "## Misc\n",
    "Used explorative code can be removed later. Ignore or read adds nothing really except expainability on my level of thinking."
   ]
  },
  {
   "cell_type": "code",
   "execution_count": 2,
   "metadata": {},
   "outputs": [],
   "source": [
    "%%capture\n",
    "#Training without teaching set on shuffeled training data\n",
    "trainingset = pd.read_csv(PATH+user+\"_train_valid.csv\")\n",
    "#Take 14 days\n",
    "trainingset=trainingset[0:int(trainingset.shape[0]/24)]\n",
    "testset = pd.read_csv(PATH+user+\"_test.csv\")\n",
    "size=trainingset.shape[0]\n",
    "rows_per_training = int(size/14) # will result in about one training per day\n",
    "print(rows_per_training)\n",
    "print(len(trainingset))\n",
    "resultTrain = evaluate_learner(rows_per_training,trainingset,testset)\n",
    "save_results(\"Iterative_\"+user+\".csv\",resultTrain)"
   ]
  },
  {
   "cell_type": "code",
   "execution_count": 2,
   "metadata": {},
   "outputs": [],
   "source": [
    "%%capture\n",
    "#Training with teaching set on shuffeled training data\n",
    "trainingset = pd.read_csv(\"data/\"+user+\"_train_valid.csv\")\n",
    "#Take first two weeks\n",
    "trainingset=trainingset[0:int(trainingset.shape[0]/24)]\n",
    "size=trainingset.shape[0]\n",
    "rows_per_training = int(size/14) # will result in about one training per day\n",
    "teachingset = pd.read_csv(PATH+user+\"_teaching_set.csv\")\n",
    "trainingset = pd.concat([teachingset,trainingset])\n",
    "testset = pd.read_csv(PATH+user+\"_test.csv\")\n",
    "resultTeach = evaluate_learner(rows_per_training,trainingset,testset,len(teachingset))\n",
    "save_results(\"TeachingIterative_\"+user+\".csv\",resultTeach)"
   ]
  },
  {
   "cell_type": "markdown",
   "metadata": {},
   "source": [
    "### Teaching\n",
    "If an idealised teaching set is created that contains all combinations of categorical columns (activity and weekday) combined with a time placed in the middle of the timespan for the scenario and location at the departure station."
   ]
  },
  {
   "cell_type": "code",
   "execution_count": 12,
   "metadata": {},
   "outputs": [
    {
     "data": {
      "text/html": [
       "Total time: 00:05 <p><table style='width:300px; margin-bottom:10px'>\n",
       "  <tr>\n",
       "    <th>epoch</th>\n",
       "    <th>train_loss</th>\n",
       "    <th>valid_loss</th>\n",
       "    <th>accuracy</th>\n",
       "  </tr>\n",
       "  <tr>\n",
       "    <th>1</th>\n",
       "    <th>1.006904</th>\n",
       "    <th>1.358945</th>\n",
       "    <th>0.520000</th>\n",
       "  </tr>\n",
       "  <tr>\n",
       "    <th>2</th>\n",
       "    <th>0.639913</th>\n",
       "    <th>1.081976</th>\n",
       "    <th>0.520000</th>\n",
       "  </tr>\n",
       "  <tr>\n",
       "    <th>3</th>\n",
       "    <th>0.419776</th>\n",
       "    <th>0.595423</th>\n",
       "    <th>0.950000</th>\n",
       "  </tr>\n",
       "  <tr>\n",
       "    <th>4</th>\n",
       "    <th>0.285612</th>\n",
       "    <th>0.236548</th>\n",
       "    <th>1.000000</th>\n",
       "  </tr>\n",
       "  <tr>\n",
       "    <th>5</th>\n",
       "    <th>0.201564</th>\n",
       "    <th>0.088055</th>\n",
       "    <th>1.000000</th>\n",
       "  </tr>\n",
       "  <tr>\n",
       "    <th>6</th>\n",
       "    <th>0.146039</th>\n",
       "    <th>0.029964</th>\n",
       "    <th>1.000000</th>\n",
       "  </tr>\n",
       "  <tr>\n",
       "    <th>7</th>\n",
       "    <th>0.108362</th>\n",
       "    <th>0.015801</th>\n",
       "    <th>1.000000</th>\n",
       "  </tr>\n",
       "  <tr>\n",
       "    <th>8</th>\n",
       "    <th>0.082248</th>\n",
       "    <th>0.011279</th>\n",
       "    <th>1.000000</th>\n",
       "  </tr>\n",
       "  <tr>\n",
       "    <th>9</th>\n",
       "    <th>0.063418</th>\n",
       "    <th>0.010693</th>\n",
       "    <th>1.000000</th>\n",
       "  </tr>\n",
       "  <tr>\n",
       "    <th>10</th>\n",
       "    <th>0.049880</th>\n",
       "    <th>0.010589</th>\n",
       "    <th>1.000000</th>\n",
       "  </tr>\n",
       "</table>\n"
      ],
      "text/plain": [
       "<IPython.core.display.HTML object>"
      ]
     },
     "metadata": {},
     "output_type": "display_data"
    },
    {
     "data": {
      "image/png": "[encoded data removed]",
      "text/plain": [
       "<Figure size 432x288 with 1 Axes>"
      ]
     },
     "metadata": {},
     "output_type": "display_data"
    }
   ],
   "source": [
    "#user = \"tnK534JMwwfhvUEycn69HPbhqkt2\" #Maria\n",
    "#user = \"ehaBtfOPDNZjzy1MEvjQmGo4Zv12\" #Andrea\n",
    "#user = \"hCWCulj7M1aMVyd0Fm0Eqrv8q1Q2\" #Bjorn\n",
    "filename = user+\"_teaching_set_minimal.csv\"\n",
    "teachingSet = pd.read_csv(PATH+filename)\n",
    "teachingSet=make_shure_we_got_enough_rows(teachingSet)\n",
    "valid_idx= list(np.random.randint(0,len(teachingSet),int(len(teachingSet)*0.1))) #If we want 10% random instead of same 10 rows...\n",
    "#valid_idx = list(range(int(len(teachingSet)*0.9), len(teachingSet)))  #Here always last 10% is used for validation\n",
    "data = (TabularList.from_df(teachingSet, path=\"models\", cat_names=cat_names, cont_names=cont_names, procs=procs)\n",
    "    .split_by_idx(valid_idx)\n",
    "    .label_from_df(cols=dep_var)\n",
    "    .databunch())\n",
    "learner=tabular_learner(data, layers=[200,100], metrics=accuracy,callback_fns=ShowGraph)\n",
    "learner.fit_one_cycle(10)"
   ]
  },
  {
   "cell_type": "markdown",
   "metadata": {},
   "source": [
    "### Training on parts of data\n"
   ]
  },
  {
   "cell_type": "markdown",
   "metadata": {},
   "source": [
    "Run test one cycle with part of the training set."
   ]
  },
  {
   "cell_type": "code",
   "execution_count": 2,
   "metadata": {},
   "outputs": [
    {
     "data": {
      "text/html": [
       "Total time: 00:04 <p><table style='width:300px; margin-bottom:10px'>\n",
       "  <tr>\n",
       "    <th>epoch</th>\n",
       "    <th>train_loss</th>\n",
       "    <th>valid_loss</th>\n",
       "    <th>accuracy</th>\n",
       "  </tr>\n",
       "  <tr>\n",
       "    <th>1</th>\n",
       "    <th>0.275570</th>\n",
       "    <th>0.623658</th>\n",
       "    <th>1.000000</th>\n",
       "  </tr>\n",
       "  <tr>\n",
       "    <th>2</th>\n",
       "    <th>0.139207</th>\n",
       "    <th>0.290159</th>\n",
       "    <th>1.000000</th>\n",
       "  </tr>\n",
       "  <tr>\n",
       "    <th>3</th>\n",
       "    <th>0.084128</th>\n",
       "    <th>0.077416</th>\n",
       "    <th>1.000000</th>\n",
       "  </tr>\n",
       "  <tr>\n",
       "    <th>4</th>\n",
       "    <th>0.055968</th>\n",
       "    <th>0.022159</th>\n",
       "    <th>1.000000</th>\n",
       "  </tr>\n",
       "  <tr>\n",
       "    <th>5</th>\n",
       "    <th>0.039108</th>\n",
       "    <th>0.007072</th>\n",
       "    <th>1.000000</th>\n",
       "  </tr>\n",
       "  <tr>\n",
       "    <th>6</th>\n",
       "    <th>0.028391</th>\n",
       "    <th>0.003650</th>\n",
       "    <th>1.000000</th>\n",
       "  </tr>\n",
       "  <tr>\n",
       "    <th>7</th>\n",
       "    <th>0.021131</th>\n",
       "    <th>0.002387</th>\n",
       "    <th>1.000000</th>\n",
       "  </tr>\n",
       "  <tr>\n",
       "    <th>8</th>\n",
       "    <th>0.015946</th>\n",
       "    <th>0.002072</th>\n",
       "    <th>1.000000</th>\n",
       "  </tr>\n",
       "  <tr>\n",
       "    <th>9</th>\n",
       "    <th>0.012342</th>\n",
       "    <th>0.002002</th>\n",
       "    <th>1.000000</th>\n",
       "  </tr>\n",
       "  <tr>\n",
       "    <th>10</th>\n",
       "    <th>0.009676</th>\n",
       "    <th>0.002002</th>\n",
       "    <th>1.000000</th>\n",
       "  </tr>\n",
       "</table>\n"
      ],
      "text/plain": [
       "<IPython.core.display.HTML object>"
      ]
     },
     "metadata": {},
     "output_type": "display_data"
    },
    {
     "data": {
      "image/png": "[encoded data removed]",
      "text/plain": [
       "<Figure size 432x288 with 1 Axes>"
      ]
     },
     "metadata": {},
     "output_type": "display_data"
    }
   ],
   "source": [
    "#user = \"tnK534JMwwfhvUEycn69HPbhqkt2\" #Maria\n",
    "#user = \"ehaBtfOPDNZjzy1MEvjQmGo4Zv12\" #Andrea\n",
    "#user = \"hCWCulj7M1aMVyd0Fm0Eqrv8q1Q2\" #Bjorn\n",
    "filename = user+\"_train_valid.csv\"\n",
    "dataSetIn = pd.read_csv(PATH+filename)\n",
    "dataSet=dataSetIn[0:10]\n",
    "dataSet=make_shure_we_got_enough_rows(dataSet)\n",
    "#valid_idx = list(np.random.randint(0,len(dataSet),int(len(dataSet)*0.1)))\n",
    "valid_idx = list(range(int(len(dataSet)*0.9), len(dataSet)))  #Here always last 10% is used for validation \n",
    "data = (TabularList.from_df(dataSet, path=\"models\", cat_names=cat_names, cont_names=cont_names, procs=procs)\n",
    "                .split_by_idx(valid_idx)\n",
    "                .label_from_df(cols=dep_var)\n",
    "                .databunch())\n",
    "learner=tabular_learner(data, layers=[200,100], metrics=accuracy,callback_fns=ShowGraph)\n",
    "#%time learner.fit_one_cycle(10)\n",
    "learner.fit_one_cycle(10)"
   ]
  },
  {
   "cell_type": "markdown",
   "metadata": {},
   "source": [
    "### Evaluate on test set\n",
    "Evaluate using the test set on a trained \"learner\"*"
   ]
  },
  {
   "cell_type": "code",
   "execution_count": 13,
   "metadata": {},
   "outputs": [],
   "source": [
    "#%%capture\n",
    "#user = \"tnK534JMwwfhvUEycn69HPbhqkt2\" #Maria\n",
    "#user = \"ehaBtfOPDNZjzy1MEvjQmGo4Zv12\" #Andrea\n",
    "#user = \"hCWCulj7M1aMVyd0Fm0Eqrv8q1Q2\" #Bjorn\n",
    "filenameTest = user+\"_test.csv\"\n",
    "datasetTest = pd.read_csv(PATH+filenameTest)\n",
    "accuracyTest,details = predict_journeys(learner,datasetTest)\n",
    "print(accuracyTest)"
   ]
  },
  {
   "cell_type": "code",
   "execution_count": 14,
   "metadata": {},
   "outputs": [
    {
     "name": "stdout",
     "output_type": "stream",
     "text": [
      "0.8941798941798942\n"
     ]
    }
   ],
   "source": [
    "print(accuracyTest)"
   ]
  },
  {
   "cell_type": "code",
   "execution_count": 25,
   "metadata": {},
   "outputs": [
    {
     "name": "stdout",
     "output_type": "stream",
     "text": [
      "['8107980000' '8107981156' '1']\n",
      "['8107980000' '8107981156' '1']\n",
      "['8000081079' '8115681079' '1']\n",
      "['8107980000' '8107981156' '1']\n",
      "['8107980300' '8107981156' '1']\n",
      "['8000081079' '8115681079' '1']\n",
      "['8030081079' '8115681079' '1']\n",
      "['8107980000' '8107981156' '1']\n",
      "['8107980000' '8107981156' '1']\n",
      "['8000081079' '8115681079' '1']\n",
      "['8107980000' '8107981156' '1']\n",
      "['8107980300' '8107981156' '1']\n",
      "['8000081079' '8115681079' '1']\n",
      "['8107980000' '8107981156' '1']\n",
      "['8107980000' '8107981156' '1']\n",
      "['8000081079' '8115681079' '1']\n",
      "['8000081079' '8115681079' '1']\n",
      "['8000081079' '8115681079' '1']\n",
      "['8107980000' '8107981156' '1']\n",
      "['8107980000' '8107981156' '1']\n",
      "['8000081079' '8115681079' '1']\n",
      "['8107980000' '8107981156' '1']\n",
      "['8000081079' '8115681079' '1']\n"
     ]
    }
   ],
   "source": [
    "# Errors\n",
    "dd=np.array(details)\n",
    "for x in range (0,len(details)):\n",
    "    if dd.item((x,0))!=dd.item((x,1)):\n",
    "        print(dd[x])"
   ]
  },
  {
   "cell_type": "markdown",
   "metadata": {},
   "source": [
    "#### Predict on individual journey"
   ]
  },
  {
   "cell_type": "code",
   "execution_count": 9,
   "metadata": {},
   "outputs": [
    {
     "name": "stdout",
     "output_type": "stream",
     "text": [
      "Predicted journey from: 80338 to 80159 with accuracy 0.99\n"
     ]
    }
   ],
   "source": [
    "#prediction,accuracy = predict_journey(3,1243184839,603,6) #8107980000 \"ehaBtfOPDNZjzy1MEvjQmGo4Zv12\" Andrea\n",
    "prediction,accuracy = predict_journey(3,1242202139,806,6) #8033880159 \"hCWCulj7M1aMVyd0Fm0Eqrv8q1Q2\" #Bjorn\n",
    "#prediction,accuracy = predict_journey(3,1242479279,527,5) #8121680000 \"tnK534JMwwfhvUEycn69HPbhqkt2\" #Maria\n",
    "print(\"Predicted journey from: \"+str(prediction)[0:5]+\" to \" +str(prediction)[5:10]+ \" with accuracy \"+str(accuracy));"
   ]
  },
  {
   "cell_type": "markdown",
   "metadata": {},
   "source": [
    "### Confusion Matrix and other stuff"
   ]
  },
  {
   "cell_type": "code",
   "execution_count": 13,
   "metadata": {},
   "outputs": [],
   "source": [
    "preds,y,losses = learner.get_preds(with_loss=True)\n",
    "interp = ClassificationInterpretation(data, preds, y, losses)"
   ]
  },
  {
   "cell_type": "code",
   "execution_count": 15,
   "metadata": {},
   "outputs": [
    {
     "data": {
      "image/png": "[encoded data removed]",
      "text/plain": [
       "<Figure size 432x288 with 1 Axes>"
      ]
     },
     "metadata": {
      "needs_background": "light"
     },
     "output_type": "display_data"
    }
   ],
   "source": [
    "#Interesting but why is detectedactivity presented? It should be the journeys????\n",
    "#Contue working on this since it gives information on wrong predictions. Real travels can be added so it can be read by a domai expert.\n",
    "interp.plot_confusion_matrix()"
   ]
  },
  {
   "cell_type": "markdown",
   "metadata": {},
   "source": [
    "### Test code for 14 days iterative training."
   ]
  },
  {
   "cell_type": "code",
   "execution_count": 5,
   "metadata": {},
   "outputs": [],
   "source": [
    "%%capture\n",
    "##read 14 days try\n",
    "#user = \"tnK534JMwwfhvUEycn69HPbhqkt2\" #Maria\n",
    "#user = \"ehaBtfOPDNZjzy1MEvjQmGo4Zv12\" #Andrea\n",
    "#user = \"hCWCulj7M1aMVyd0Fm0Eqrv8q1Q2\" #Bjorn\n",
    "filenameTrain = user+\"_start14days.csv\"\n",
    "datasetTrain = pd.read_csv(PATH+filenameTrain)\n",
    "iterativeTrainingSet = DataFrame(datasetTrain[0:0])\n",
    "testset = pd.read_csv(PATH+user+\"_test.csv\")\n",
    "result = []\n",
    "for row in datasetTrain.itertuples():\n",
    "    if row[1].startswith('--'):\n",
    "        print(\"Train until: \"+row[1]) ##New batch\n",
    "        if len(iterativeTrainingSet)>0:\n",
    "            df = iterativeTrainingSet.copy()\n",
    "            df = df.astype({'detectedActivity':'int','geoHash':'int', 'minuteOfDay':'int','weekday':'int',\"journey\":'int'})\n",
    "            #print(df.head(20))\n",
    "            df=make_shure_we_got_enough_rows(df)\n",
    "            valid_idx = list(range(int(len(df)*0.9), len(df)))  #Here always last 10% is used for validation \n",
    "            data = (TabularList.from_df(df, path=\"models\", cat_names=cat_names, cont_names=cont_names, procs=procs)\n",
    "                .split_by_idx(valid_idx)\n",
    "                .label_from_df(cols=dep_var)\n",
    "                .databunch())\n",
    "            learner=tabular_learner(data, layers=[200,100], metrics=accuracy,callback_fns=ShowGraph)\n",
    "            learner.fit_one_cycle(20)\n",
    "            resultTest = predict_journeys(learner,testset)\n",
    "            print(\"Prediction: \"+str(resultTest))\n",
    "            sizeR = len(learner.recorder.metrics)\n",
    "            result.append([len(iterativeTrainingSet),learner.recorder.metrics[sizeR-1][0].item(),resultTest])\n",
    "        else:\n",
    "            result.append([0,0,0])\n",
    "    else:\n",
    "        iterativeTrainingSet = iterativeTrainingSet.append(datasetTrain.iloc[row[0]])\n",
    "print(result)        \n"
   ]
  },
  {
   "cell_type": "code",
   "execution_count": 6,
   "metadata": {},
   "outputs": [
    {
     "name": "stdout",
     "output_type": "stream",
     "text": [
      "[[0, 0, 0], [6, 1.0, 0.05291005291005291], [14, 1.0, 0.018518518518518517], [20, 1.0, 0.8253968253968254], [27, 1.0, 0.9047619047619048], [33, 1.0, 0.9047619047619048], [43, 1.0, 0.9047619047619048], [52, 1.0, 0.8994708994708994], [52, 1.0, 0.9047619047619048], [59, 0.9801980257034302, 0.8888888888888888], [68, 0.9803921580314636, 0.8968253968253969], [77, 0.9801980257034302, 0.9047619047619048], [85, 0.9803921580314636, 0.9047619047619048], [93, 0.9805825352668762, 0.9338624338624338], [103, 0.9805825352668762, 0.8994708994708994]]\n"
     ]
    }
   ],
   "source": [
    "print(result)"
   ]
  },
  {
   "cell_type": "code",
   "execution_count": 11,
   "metadata": {},
   "outputs": [],
   "source": [
    "datasetTest = pd.read_csv(PATH+user+\"_teaching_set_minimal.csv\")\n",
    "datasetTest = datasetTest.sort_values(by=['journey','weekday'])\n",
    "datasetTest.head(40)\n",
    "datasetTest.to_csv(PATH+user+\"_teaching_set_minimal_2.csv\")"
   ]
  },
  {
   "cell_type": "code",
   "execution_count": null,
   "metadata": {},
   "outputs": [],
   "source": []
  }
 ],
 "metadata": {
  "kernelspec": {
   "display_name": "Python 3",
   "language": "python",
   "name": "python3"
  },
  "language_info": {
   "codemirror_mode": {
    "name": "ipython",
    "version": 3
   },
   "file_extension": ".py",
   "mimetype": "text/x-python",
   "name": "python",
   "nbconvert_exporter": "python",
   "pygments_lexer": "ipython3",
   "version": "3.7.0"
  }
 },
 "nbformat": 4,
 "nbformat_minor": 2
}
