{
 "cells": [
  {
   "cell_type": "markdown",
   "metadata": {},
   "source": [
    "# Verify ML in commuter context\n",
    "The code below takes labelled data, trains a standard fastai neural network and as a [tabular application](https://docs.fast.ai/tabular.html).\n",
    "The goal is to verify that the model learns using data created using our personas.\n",
    "* [Maria](../personas/maria.md) id:tnK534JMwwfhvUEycn69HPbhqkt2\n",
    "    * [One year data](../data/tnK534JMwwfhvUEycn69HPbhqkt2_train_valid.csv)\n",
    "    * [Test set](../data/tnK534JMwwfhvUEycn69HPbhqkt2_test.csv)\n",
    "* [Andrea](../personas/andrea.md) id:ehaBtfOPDNZjzy1MEvjQmGo4Zv12\n",
    "    * [One year data](../data/ehaBtfOPDNZjzy1MEvjQmGo4Zv12_train_valid.csv)\n",
    "    * [Test set](../data/ehaBtfOPDNZjzy1MEvjQmGo4Zv12_test.csv)\n",
    "* [Björn](../personas/bjorn.md) id:hCWCulj7M1aMVyd0Fm0Eqrv8q1Q2\n",
    "    * [One year data](../data/hCWCulj7M1aMVyd0Fm0Eqrv8q1Q2_train_valid.csv)\n",
    "    * [Test set](../data/hCWCulj7M1aMVyd0Fm0Eqrv8q1Q2_test.csv)"
   ]
  },
  {
   "cell_type": "code",
   "execution_count": 1,
   "metadata": {},
   "outputs": [],
   "source": [
    "#Setup\n",
    "from fastai import *          # Quick accesss to most common functionality\n",
    "from fastai.tabular import *  # Quick accesss to tabular functionality     # Access to example data provided with fastai\n",
    "from fastai.vision import *\n",
    "PATH=\"../data/\"\n",
    "dep_var = 'journey'\n",
    "cat_names = [\"detectedActivity\",\"weekday\"]\n",
    "cont_names =[\"geoHash\",\"minuteOfDay\"]\n",
    "procs = [FillMissing, Categorify, Normalize]\n",
    "# Uncomment active user'\n",
    "#user = \"tnK534JMwwfhvUEycn69HPbhqkt2\" #Maria\n",
    "#user = \"ehaBtfOPDNZjzy1MEvjQmGo4Zv12\" #Andrea\n",
    "user = \"hCWCulj7M1aMVyd0Fm0Eqrv8q1Q2\" #Bjorn\n",
    "\n",
    "def predict_journeys(learner,dataset):\n",
    "    result = 0\n",
    "    accuracy = 0\n",
    "    for x in range(0,dataset.shape[0]):\n",
    "        correct = dataset.iloc[x].journey  #remove journey\n",
    "        predicted = learner.predict(dataset.iloc[x]);\n",
    "        if (str(correct)==str(predicted[0])):\n",
    "            result=result+1\n",
    "    accuracy=result/dataset.shape[0]\n",
    "    return(accuracy)"
   ]
  },
  {
   "cell_type": "markdown",
   "metadata": {},
   "source": [
    "### Training\n",
    "Trains model using one year data, and learning rate finder with fit_one_cycle policy.\n",
    "Validation set is randomly selected as 10% of training set."
   ]
  },
  {
   "cell_type": "code",
   "execution_count": 2,
   "metadata": {},
   "outputs": [
    {
     "data": {
      "text/html": [
       "Total time: 00:05 <p><table style='width:300px; margin-bottom:10px'>\n",
       "  <tr>\n",
       "    <th>epoch</th>\n",
       "    <th>train_loss</th>\n",
       "    <th>valid_loss</th>\n",
       "    <th>accuracy</th>\n",
       "  </tr>\n",
       "  <tr>\n",
       "    <th>1</th>\n",
       "    <th>0.869230</th>\n",
       "    <th>0.899347</th>\n",
       "    <th>0.899083</th>\n",
       "  </tr>\n",
       "  <tr>\n",
       "    <th>2</th>\n",
       "    <th>0.428663</th>\n",
       "    <th>0.111588</th>\n",
       "    <th>1.000000</th>\n",
       "  </tr>\n",
       "  <tr>\n",
       "    <th>3</th>\n",
       "    <th>0.211374</th>\n",
       "    <th>0.015049</th>\n",
       "    <th>1.000000</th>\n",
       "  </tr>\n",
       "  <tr>\n",
       "    <th>4</th>\n",
       "    <th>0.112159</th>\n",
       "    <th>0.007871</th>\n",
       "    <th>1.000000</th>\n",
       "  </tr>\n",
       "  <tr>\n",
       "    <th>5</th>\n",
       "    <th>0.062428</th>\n",
       "    <th>0.005631</th>\n",
       "    <th>1.000000</th>\n",
       "  </tr>\n",
       "  <tr>\n",
       "    <th>6</th>\n",
       "    <th>0.036247</th>\n",
       "    <th>0.004840</th>\n",
       "    <th>1.000000</th>\n",
       "  </tr>\n",
       "  <tr>\n",
       "    <th>7</th>\n",
       "    <th>0.022271</th>\n",
       "    <th>0.004604</th>\n",
       "    <th>1.000000</th>\n",
       "  </tr>\n",
       "</table>\n"
      ],
      "text/plain": [
       "<IPython.core.display.HTML object>"
      ]
     },
     "metadata": {},
     "output_type": "display_data"
    },
    {
     "data": {
      "image/png": "[encoded data removed]",
      "text/plain": [
       "<Figure size 432x288 with 1 Axes>"
      ]
     },
     "metadata": {},
     "output_type": "display_data"
    },
    {
     "name": "stdout",
     "output_type": "stream",
     "text": [
      "CPU times: user 2.81 s, sys: 820 ms, total: 3.63 s\n",
      "Wall time: 5.88 s\n"
     ]
    }
   ],
   "source": [
    "dataSet = pd.read_csv(PATH+user+\"_train_valid.csv\")\n",
    "valid_idx = list(np.random.randint(0,len(dataSet),int(len(dataSet)*0.1)))\n",
    "data = (TabularList.from_df(dataSet, path=user, cat_names=cat_names, cont_names=cont_names, procs=procs)\n",
    "                .split_by_idx(valid_idx)\n",
    "                .label_from_df(cols=dep_var)\n",
    "                .databunch())\n",
    "learner=tabular_learner(data, layers=[200,100], metrics=accuracy,callback_fns=ShowGraph)\n",
    "%time learner.fit_one_cycle(7)"
   ]
  },
  {
   "cell_type": "code",
   "execution_count": 3,
   "metadata": {},
   "outputs": [
    {
     "name": "stdout",
     "output_type": "stream",
     "text": [
      "Result on test set for user hCWCulj7M1aMVyd0Fm0Eqrv8q1Q2 1.0\n"
     ]
    }
   ],
   "source": [
    "test_df = pd.read_csv(PATH+user+\"_test.csv\")\n",
    "print(\"Result on test set for user \"+user+\" \"+str(predict_journeys(learner,test_df)))"
   ]
  },
  {
   "cell_type": "markdown",
   "metadata": {},
   "source": [
    "### Combining all personas as one"
   ]
  },
  {
   "cell_type": "code",
   "execution_count": 3,
   "metadata": {},
   "outputs": [
    {
     "data": {
      "text/html": [
       "Total time: 00:12 <p><table style='width:300px; margin-bottom:10px'>\n",
       "  <tr>\n",
       "    <th>epoch</th>\n",
       "    <th>train_loss</th>\n",
       "    <th>valid_loss</th>\n",
       "    <th>accuracy</th>\n",
       "  </tr>\n",
       "  <tr>\n",
       "    <th>1</th>\n",
       "    <th>1.098171</th>\n",
       "    <th>0.420780</th>\n",
       "    <th>0.939368</th>\n",
       "  </tr>\n",
       "  <tr>\n",
       "    <th>2</th>\n",
       "    <th>0.196508</th>\n",
       "    <th>0.113992</th>\n",
       "    <th>0.986336</th>\n",
       "  </tr>\n",
       "  <tr>\n",
       "    <th>3</th>\n",
       "    <th>0.099557</th>\n",
       "    <th>0.052241</th>\n",
       "    <th>0.982921</th>\n",
       "  </tr>\n",
       "  <tr>\n",
       "    <th>4</th>\n",
       "    <th>0.062750</th>\n",
       "    <th>0.021609</th>\n",
       "    <th>0.994022</th>\n",
       "  </tr>\n",
       "  <tr>\n",
       "    <th>5</th>\n",
       "    <th>0.045203</th>\n",
       "    <th>0.023991</th>\n",
       "    <th>0.993168</th>\n",
       "  </tr>\n",
       "  <tr>\n",
       "    <th>6</th>\n",
       "    <th>0.042565</th>\n",
       "    <th>0.023711</th>\n",
       "    <th>0.994876</th>\n",
       "  </tr>\n",
       "  <tr>\n",
       "    <th>7</th>\n",
       "    <th>0.035327</th>\n",
       "    <th>0.023518</th>\n",
       "    <th>0.993168</th>\n",
       "  </tr>\n",
       "</table>\n"
      ],
      "text/plain": [
       "<IPython.core.display.HTML object>"
      ]
     },
     "metadata": {},
     "output_type": "display_data"
    },
    {
     "data": {
      "image/png": "[encoded data removed]",
      "text/plain": [
       "<Figure size 432x288 with 1 Axes>"
      ]
     },
     "metadata": {},
     "output_type": "display_data"
    },
    {
     "name": "stdout",
     "output_type": "stream",
     "text": [
      "CPU times: user 10.1 s, sys: 1.24 s, total: 11.3 s\n",
      "Wall time: 12.6 s\n"
     ]
    }
   ],
   "source": [
    "dataSet1 = pd.read_csv(PATH+\"tnK534JMwwfhvUEycn69HPbhqkt2_train_valid.csv\")\n",
    "dataSet2 = pd.read_csv(PATH+\"ehaBtfOPDNZjzy1MEvjQmGo4Zv12_train_valid.csv\")\n",
    "dataSet3 = pd.read_csv(PATH+\"hCWCulj7M1aMVyd0Fm0Eqrv8q1Q2_train_valid.csv\")\n",
    "dataSet = pd.concat([dataSet1,dataSet2,dataSet3])\n",
    "dataSet=dataSet.sample(frac=1)\n",
    "valid_idx = list(np.random.randint(0,len(dataSet),int(len(dataSet)*0.1)))\n",
    "data = (TabularList.from_df(dataSet, path=user, cat_names=cat_names, cont_names=cont_names, procs=procs)\n",
    "                .split_by_idx(valid_idx)\n",
    "                .label_from_df(cols=dep_var)\n",
    "                .databunch())\n",
    "learner=tabular_learner(data, layers=[200,100], metrics=accuracy,callback_fns=ShowGraph)\n",
    "%time learner.fit_one_cycle(7)"
   ]
  },
  {
   "cell_type": "code",
   "execution_count": 5,
   "metadata": {},
   "outputs": [
    {
     "name": "stdout",
     "output_type": "stream",
     "text": [
      "Result on test set for all users as one:0.9969088098918083\n"
     ]
    }
   ],
   "source": [
    "dataSet1 = pd.read_csv(PATH+\"tnK534JMwwfhvUEycn69HPbhqkt2_test.csv\")\n",
    "dataSet2 = pd.read_csv(PATH+\"ehaBtfOPDNZjzy1MEvjQmGo4Zv12_test.csv\")\n",
    "dataSet3 = pd.read_csv(PATH+\"hCWCulj7M1aMVyd0Fm0Eqrv8q1Q2_test.csv\")\n",
    "test_df = pd.concat([dataSet1,dataSet2,dataSet3])\n",
    "test_df=test_df.sample(frac=1)\n",
    "print(\"Result on test set for all users as one:\" +str(predict_journeys(learner,test_df)))"
   ]
  }
 ],
 "metadata": {
  "kernelspec": {
   "display_name": "Python 3",
   "language": "python",
   "name": "python3"
  },
  "language_info": {
   "codemirror_mode": {
    "name": "ipython",
    "version": 3
   },
   "file_extension": ".py",
   "mimetype": "text/x-python",
   "name": "python",
   "nbconvert_exporter": "python",
   "pygments_lexer": "ipython3",
   "version": "3.7.1"
  }
 },
 "nbformat": 4,
 "nbformat_minor": 2
}
