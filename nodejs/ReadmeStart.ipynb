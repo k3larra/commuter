{
 "cells": [
  {
   "cell_type": "markdown",
   "metadata": {},
   "source": [
    "## Running node server for pendlaren\n",
    "I use the package [forever](https://www.npmjs.com/package/forever) to run the node server in the background.\n",
    "Running node without forever.\n",
    "```\n",
    "node pendlaren_node_server.js\n",
    "```\n",
    "stop with ctrl-c ..\n",
    "\n",
    "Command line stuff.\n",
    "This command:\n",
    "forever start -l forever.log -o out.log -e err.log pendlaren_node_server.js\n",
    "\n",
    "--\n",
    "Forever is a very good NodeJs module to do exactly that.\n",
    "\n",
    "Install forever by typing in the command line\n",
    "\n",
    "$ npm install forever -g\n",
    "Then use the following command to run a node.js script\n",
    "\n",
    "$ forever start /path/to/script.js\n",
    "You are good to go. Additionally you can run\n",
    "\n",
    "$ forever list\n",
    "to see all the running scripts. You can terminate any specific script by typing\n",
    "\n",
    "$ forever stop [pid]\n",
    "where [pid] is the process ID of the script you will obtain from the list command. To stop all scripts, you may type\n",
    "\n",
    "$ forever stopall\n",
    "\n",
    "#### Here are some code to start stop and list the running forever instances."
   ]
  },
  {
   "cell_type": "code",
   "execution_count": null,
   "metadata": {},
   "outputs": [],
   "source": [
    "#File list in current dir\n",
    "! ls -lah"
   ]
  },
  {
   "cell_type": "code",
   "execution_count": null,
   "metadata": {},
   "outputs": [],
   "source": [
    "#Run an instance with forever\n",
    "! rm out.log\n",
    "!  forever start -a -l forever.log -o out.log -e err.log pendlaren_node_server.js"
   ]
  },
  {
   "cell_type": "code",
   "execution_count": null,
   "metadata": {},
   "outputs": [],
   "source": [
    "#List running forever instances\n",
    "! forever list"
   ]
  },
  {
   "cell_type": "code",
   "execution_count": null,
   "metadata": {},
   "outputs": [],
   "source": [
    "#Stop running forever instances\n",
    "! forever stopall"
   ]
  },
  {
   "cell_type": "code",
   "execution_count": null,
   "metadata": {},
   "outputs": [],
   "source": [
    "#Current run\n",
    "f = open(\"out.log\") \n",
    "print f.read()\n",
    "#Older logs\n",
    "# f = open(\"/home/lars_rauer/.forever/forever.log\") \n",
    "# print f.read()"
   ]
  },
  {
   "cell_type": "markdown",
   "metadata": {},
   "source": [
    "### node commands \n",
    "Start server"
   ]
  },
  {
   "cell_type": "code",
   "execution_count": null,
   "metadata": {},
   "outputs": [
    {
     "name": "stdout",
     "output_type": "stream",
     "text": [
      "User: 1iZwJm5lEGbaAVS0pvztgTaoybx1 settings uppdated.\n",
      "User: 1trWNuIcIdha7oigpZFibraUcZg1 settings uppdated.\n",
      "User: 3HqgEuMWy8O8scgLW4YaNRZTu6w2 settings uppdated.\n",
      "User: 3LIeNKHxRXdjKQUlBEFUqSXLsgw1 settings uppdated.\n",
      "User: 3w7iJoRVnzX95FgDfUXB1S8Djut2 settings uppdated.\n",
      "User: 3whMBvFzzCZNOIaRnK1CwZUGb762 settings uppdated.\n",
      "User: AuJvi8JLXORZkSz35HZ37Lzch2o1 settings uppdated.\n",
      "User: BmFzG0huEZZxE2yLkELhFlUpLcc2 settings uppdated.\n",
      "User: FdPAYBODh2dxWcXXR9WgvVx8M3J2 settings uppdated.\n",
      "User: GQTqLZtFAFZvQfjHPbjLQHOQpD12 settings uppdated.\n",
      "User: H3Zm3TR3I2Um0KBXtciu3yekIn72 settings uppdated.\n",
      "User: HMRrbfb9F8c7t8UA7zuBQz9D6L52 settings uppdated.\n",
      "User: HbPz3QpKJYSTQAZtW96rxzHRURw1 settings uppdated.\n",
      "User: LlARz5tFhBfnrZk2fLW4XMwzsT03 settings uppdated.\n",
      "User: NSkzbuBoP7gh8l1mFaON7GkfwOv1 settings uppdated.\n",
      "User: QHtmaBHTcsPBtHYgQYnLfXBYxfk1 settings uppdated.\n",
      "User: SoOfzw0ionVKJE01TUGx29T1m8w2 settings uppdated.\n",
      "User: UL0EgDBDgigJowr5xREmQGuc69H2 settings uppdated.\n",
      "User: VnJklUb3uVboNZPre3TKoEID6BU2 settings uppdated.\n",
      "User: XYxfqXn3I1ffrJCm7LpGhvQemGA3 settings uppdated.\n",
      "User: XxAWbasBlaP5iiDYGimlQA2rJVE3 settings uppdated.\n",
      "User: aEYGBCIzlMcXsyKhpHpUDxjc9We2 settings uppdated.\n",
      "User: bGUeAsAsLATpsOirdLCkcrtMN323 settings uppdated.\n",
      "User: bWuoeB3TTAQdgsmiQwR2oiU1XZ82 settings uppdated.\n",
      "User: eXJPoWYDxIc76uemE7Vk3ovBTEG2 settings uppdated.\n",
      "User: ehaBtfOPDNZjzy1MEvjQmGo4Zv12 settings uppdated.\n",
      "User: fNOEraHw8QWQFe5K3hO1uTMxe9H2 settings uppdated.\n",
      "User: fdWAyImtKPh1Ez8IWNR1wJahqDF3 settings uppdated.\n",
      "User: hCWCulj7M1aMVyd0Fm0Eqrv8q1Q2 settings uppdated.\n",
      "User: hUOgCQVl0QRWxEFpvWhzEsFH3AH2 settings uppdated.\n",
      "User: iF3nNNTae7QNIWF1ktwHDDkKLQ33 settings uppdated.\n",
      "User: iIwaGAWfTWXPbWed7CjGMxDGrxC3 settings uppdated.\n",
      "User: juoo5PrVaFVjao7IrHZLrNC1uxx1 settings uppdated.\n",
      "User: kewknfIHuZSkwzQaSwlVTAbQZhy1 settings uppdated.\n",
      "User: kkmoVPqZVhVCuQUvAMyxgWdz0Ay1 settings uppdated.\n",
      "User: klJPtQ9fGjghoP7HUDY1pB8dUGj2 settings uppdated.\n",
      "User: mje2o5C8Q4YR7vIOnmZfoYjjncg2 settings uppdated.\n",
      "User: nHjOjcVeLISIdNnjH3sVjWrItu22 settings uppdated.\n",
      "User: nSzMGmPelJhYxIBqsofzgQL4NAu2 settings uppdated.\n",
      "User: ngVJN8oYtDWnXg2LZmpT9iuJ9c23 settings uppdated.\n",
      "User: tnK534JMwwfhvUEycn69HPbhqkt2 settings uppdated.\n",
      "User: wmYw13172kf8yMzYCGp8rlSfhxJ2 settings uppdated.\n",
      "User: x0PgPwHKAvdp2e0XTxSdP5BdQPT2 settings uppdated.\n",
      "User: xFJ3VOb69LfUXrcfyAno5hv3Gyl2 settings uppdated.\n",
      "User: zhxS1vzF6WbiOfyalix8CT9ORd82 settings uppdated.\n",
      "what\n",
      "Search saved for user: tnK534JMwwfhvUEycn69HPbhqkt2 total saved in this session: 1 not removed 0\n",
      "Remove succeeded.\n",
      "what\n",
      "Search saved for user: tnK534JMwwfhvUEycn69HPbhqkt2 total saved in this session: 2 not removed 0\n",
      "Remove succeeded.\n"
     ]
    }
   ],
   "source": [
    "! node pendlaren_node_server.js "
   ]
  },
  {
   "cell_type": "code",
   "execution_count": 7,
   "metadata": {},
   "outputs": [
    {
     "name": "stdout",
     "output_type": "stream",
     "text": [
      "  PID TTY          TIME CMD\n",
      "    1 ?        00:00:03 systemd\n",
      "    2 ?        00:00:00 kthreadd\n",
      "    3 ?        00:00:00 ksoftirqd/0\n",
      "    5 ?        00:00:00 kworker/0:0H\n",
      "    6 ?        00:00:00 kworker/u4:0\n",
      "    7 ?        00:00:00 rcu_sched\n",
      "    8 ?        00:00:00 rcu_bh\n",
      "    9 ?        00:00:00 migration/0\n",
      "   10 ?        00:00:00 lru-add-drain\n",
      "   11 ?        00:00:00 watchdog/0\n",
      "   12 ?        00:00:00 cpuhp/0\n",
      "   13 ?        00:00:00 cpuhp/1\n",
      "   14 ?        00:00:00 watchdog/1\n",
      "   15 ?        00:00:00 migration/1\n",
      "   16 ?        00:00:00 ksoftirqd/1\n",
      "   18 ?        00:00:00 kworker/1:0H\n",
      "   19 ?        00:00:00 kdevtmpfs\n",
      "   20 ?        00:00:00 netns\n",
      "   21 ?        00:00:00 khungtaskd\n",
      "   22 ?        00:00:00 oom_reaper\n",
      "   23 ?        00:00:00 writeback\n",
      "   24 ?        00:00:00 kcompactd0\n",
      "   26 ?        00:00:00 ksmd\n",
      "   27 ?        00:00:00 khugepaged\n",
      "   28 ?        00:00:00 crypto\n",
      "   29 ?        00:00:00 kintegrityd\n",
      "   30 ?        00:00:00 bioset\n",
      "   31 ?        00:00:00 kblockd\n",
      "   32 ?        00:00:00 devfreq_wq\n",
      "   33 ?        00:00:00 watchdogd\n",
      "   34 ?        00:00:00 kworker/u4:1\n",
      "   36 ?        00:00:00 kswapd0\n",
      "   37 ?        00:00:00 vmstat\n",
      "   49 ?        00:00:00 kthrotld\n",
      "   51 ?        00:00:00 ipv6_addrconf\n",
      "   52 ?        00:00:00 kworker/1:2\n",
      "  112 ?        00:00:00 scsi_eh_0\n",
      "  113 ?        00:00:00 scsi_tmf_0\n",
      "  115 ?        00:00:00 bioset\n",
      "  369 ?        00:00:00 kworker/1:3\n",
      "  386 ?        00:00:00 kworker/u5:0\n",
      "  396 ?        00:00:00 kworker/0:1H\n",
      "  398 ?        00:00:00 jbd2/sda1-8\n",
      "  399 ?        00:00:00 ext4-rsv-conver\n",
      "  425 ?        00:00:00 systemd-journal\n",
      "  431 ?        00:00:00 kworker/0:2\n",
      "  437 ?        00:00:00 kauditd\n",
      "  452 ?        00:00:00 systemd-udevd\n",
      "  478 ?        00:00:00 cron\n",
      "  479 ?        00:00:00 systemd-logind\n",
      "  480 ?        00:00:19 ZMQbg/1\n",
      "  482 ?        00:00:00 dbus-daemon\n",
      "  498 ?        00:00:00 edac-poller\n",
      "  507 ?        00:00:00 acpid\n",
      "  522 ?        00:00:00 kworker/1:1H\n",
      "  592 ?        00:00:00 rsyslogd\n",
      "  610 ?        00:00:00 dhclient\n",
      "  653 ?        00:00:02 dockerd\n",
      "  659 tty1     00:00:00 agetty\n",
      "  661 ttyS0    00:00:00 agetty\n",
      "  670 ?        00:00:03 containerd\n",
      "  674 ?        00:00:00 ntpd\n",
      " 1694 ?        00:00:00 packagekitd\n",
      " 1740 ?        00:00:00 google_network_\n",
      " 1741 ?        00:00:00 google_clock_sk\n",
      " 1744 ?        00:00:00 google_accounts\n",
      " 1747 ?        00:00:00 polkitd\n",
      " 1751 ?        00:00:00 sshd\n",
      " 1877 ?        00:00:00 sshd\n",
      " 1879 ?        00:00:00 systemd\n",
      " 1880 ?        00:00:00 (sd-pam)\n",
      " 1893 ?        00:00:01 sshd\n",
      " 1894 pts/0    00:00:00 bash\n",
      " 1920 ?        00:00:01 ZMQbg/1\n",
      " 2006 pts/1    00:00:00 bash\n",
      " 2043 ?        00:00:13 ZMQbg/1\n",
      " 2114 ?        00:00:01 ZMQbg/1\n",
      " 2153 ?        00:00:01 kworker/0:0\n",
      " 2322 pts/1    00:00:00 python2\n",
      " 2332 pts/1    00:00:00 sh\n",
      " 2333 pts/1    00:00:00 less\n",
      " 2397 pts/1    00:00:00 python2\n",
      " 2407 pts/1    00:00:00 sh\n",
      " 2408 pts/1    00:00:00 less\n",
      " 3436 pts/2    00:00:00 sh\n",
      " 3437 pts/2    00:00:00 ps\n"
     ]
    }
   ],
   "source": [
    "! ps -A"
   ]
  },
  {
   "cell_type": "code",
   "execution_count": 1,
   "metadata": {},
   "outputs": [
    {
     "name": "stdout",
     "output_type": "stream",
     "text": [
      "Python 3.7.1\n"
     ]
    }
   ],
   "source": [
    "#Python version\n",
    "! python --version"
   ]
  },
  {
   "cell_type": "code",
   "execution_count": null,
   "metadata": {},
   "outputs": [],
   "source": [
    "! kill "
   ]
  }
 ],
 "metadata": {
  "kernelspec": {
   "display_name": "Python 3",
   "language": "python",
   "name": "python3"
  },
  "language_info": {
   "codemirror_mode": {
    "name": "ipython",
    "version": 3
   },
   "file_extension": ".py",
   "mimetype": "text/x-python",
   "name": "python",
   "nbconvert_exporter": "python",
   "pygments_lexer": "ipython3",
   "version": "3.7.1"
  }
 },
 "nbformat": 4,
 "nbformat_minor": 2
}
