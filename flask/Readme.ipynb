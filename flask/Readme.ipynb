{
 "cells": [
  {
   "cell_type": "markdown",
   "metadata": {},
   "source": [
    "## A flask micro web framework.\n",
    "Used to make predictions aviable and have models preloded to spead up prediction times. Uses only for server internal communication between the nodejs server and the flask framework. Prediction reguest arriving to the nodejs server from firebase are sent to the flask server that únns the python code and return predictions. \n"
   ]
  },
  {
   "cell_type": "code",
   "execution_count": 21,
   "metadata": {},
   "outputs": [],
   "source": [
    "# Start flask server Run from comandprompt doesnt work from here ????? \n",
    "# ! export FLASK_APP=hello.py\n",
    "# ! export FLASK_DEBUG=1\n",
    "# ! flask run "
   ]
  },
  {
   "cell_type": "markdown",
   "metadata": {},
   "source": [
    "### Function get prediction"
   ]
  },
  {
   "cell_type": "code",
   "execution_count": 1,
   "metadata": {},
   "outputs": [
    {
     "data": {
      "text/plain": [
       "b'{\"probability\": \"1.0\", \"fromStation\": \"80000\", \"toStation\": \"81802\", \"error\": 0}'"
      ]
     },
     "execution_count": 1,
     "metadata": {},
     "output_type": "execute_result"
    }
   ],
   "source": [
    "import json\n",
    "import requests\n",
    "requests.get(url='http://127.0.0.1:5000/predict?userId=hCWCulj7M1aMVyd0Fm0Eqrv8q1Q2&detectedActivity=3&geoHash=123456&minuteOfDay=234&weekday=7').content"
   ]
  },
  {
   "cell_type": "markdown",
   "metadata": {},
   "source": [
    "### Function retrain"
   ]
  },
  {
   "cell_type": "code",
   "execution_count": 22,
   "metadata": {},
   "outputs": [
    {
     "data": {
      "text/plain": [
       "b'Placebholder method for retraining ngVJN8oYtDWnXg2LZmpT9iuJ9c23'"
      ]
     },
     "execution_count": 22,
     "metadata": {},
     "output_type": "execute_result"
    }
   ],
   "source": [
    "import json\n",
    "import requests\n",
    "requests.get(url='http://localhost:5000/retrain/hCWCulj7M1aMVyd0Fm0Eqrv8q1Q2').content"
   ]
  }
 ],
 "metadata": {
  "kernelspec": {
   "display_name": "Python 3",
   "language": "python",
   "name": "python3"
  },
  "language_info": {
   "codemirror_mode": {
    "name": "ipython",
    "version": 3
   },
   "file_extension": ".py",
   "mimetype": "text/x-python",
   "name": "python",
   "nbconvert_exporter": "python",
   "pygments_lexer": "ipython3",
   "version": "3.7.2"
  }
 },
 "nbformat": 4,
 "nbformat_minor": 2
}
