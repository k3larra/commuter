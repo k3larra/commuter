{
 "cells": [
  {
   "cell_type": "code",
   "execution_count": 2,
   "metadata": {},
   "outputs": [],
   "source": [
    "import os\n",
    "path = \"../../userdata/deleted_data/\""
   ]
  },
  {
   "cell_type": "code",
   "execution_count": 3,
   "metadata": {},
   "outputs": [],
   "source": [
    "user = \"yn64aqWg1ZaZ3VL520x3Sy4VPvo1\" #Eric\n",
    "#user = \"eJcPSbZ0jlVrC0bP8liEaCqnn7C2\" #Chang\n",
    "#user = \"ehaBtfOPDNZjzy1MEvjQmGo4Zv12\" #Minna\n",
    "#user = \"hCWCulj7M1aMVyd0Fm0Eqrv8q1Q2\" #Sara\n",
    "#user = \"HfHwf705X2OlsJxwT7RpD9DTJ2Q2\" #Niklas\n",
    "#user = \"Jzx2dtvvqIVgj7Wa9mhv99StD582\" #David\n",
    "#user = \"2rLWmCTvWacwgwMTJA7JUuprJI82\" #Jelena\n",
    "#user = \"Apmy8gGBZOOLOjgXeSulMxKUQQw1\" #Marcus"
   ]
  },
  {
   "cell_type": "code",
   "execution_count": 7,
   "metadata": {},
   "outputs": [
    {
     "name": "stdout",
     "output_type": "stream",
     "text": [
      "../../userdata/deleted_data/2019-05-12_11-50-20/yn64aqWg1ZaZ3VL520x3Sy4VPvo1_teach.csv\n",
      "../../userdata/deleted_data/2019-05-12_11-50-20/yn64aqWg1ZaZ3VL520x3Sy4VPvo1.csv\n",
      "../../userdata/deleted_data/2019-04-16_12-00-30/yn64aqWg1ZaZ3VL520x3Sy4VPvo1_predict.csv\n",
      "../../userdata/deleted_data/2019-04-16_12-00-30/yn64aqWg1ZaZ3VL520x3Sy4VPvo1_teach.csv\n",
      "../../userdata/deleted_data/2019-04-10_12-41-22/yn64aqWg1ZaZ3VL520x3Sy4VPvo1_predict.csv\n",
      "../../userdata/deleted_data/2019-04-10_12-41-22/yn64aqWg1ZaZ3VL520x3Sy4VPvo1_teach.csv\n",
      "../../userdata/deleted_data/2019-04-10_12-41-22/yn64aqWg1ZaZ3VL520x3Sy4VPvo1.csv\n",
      "../../userdata/deleted_data/2019-05-12_11-51-53/yn64aqWg1ZaZ3VL520x3Sy4VPvo1_teach.csv\n",
      "../../userdata/deleted_data/2019-05-12_11-51-53/yn64aqWg1ZaZ3VL520x3Sy4VPvo1.csv\n",
      "../../userdata/deleted_data/2019-05-10_14-13-49/yn64aqWg1ZaZ3VL520x3Sy4VPvo1_predict.csv\n",
      "../../userdata/deleted_data/2019-05-10_14-13-49/yn64aqWg1ZaZ3VL520x3Sy4VPvo1_teach.csv\n",
      "../../userdata/deleted_data/2019-05-10_14-13-49/yn64aqWg1ZaZ3VL520x3Sy4VPvo1.csv\n",
      "../../userdata/deleted_data/2019-04-16_11-58-33/yn64aqWg1ZaZ3VL520x3Sy4VPvo1_predict.csv\n",
      "../../userdata/deleted_data/2019-04-16_11-58-33/yn64aqWg1ZaZ3VL520x3Sy4VPvo1_teach.csv\n",
      "../../userdata/deleted_data/2019-04-16_11-58-33/yn64aqWg1ZaZ3VL520x3Sy4VPvo1.csv\n",
      "../../userdata/deleted_data/2019-04-02_12-21-41/yn64aqWg1ZaZ3VL520x3Sy4VPvo1_predict.csv\n",
      "../../userdata/deleted_data/2019-04-02_12-21-41/yn64aqWg1ZaZ3VL520x3Sy4VPvo1_teach.csv\n",
      "../../userdata/deleted_data/2019-04-02_12-21-41/yn64aqWg1ZaZ3VL520x3Sy4VPvo1.csv\n"
     ]
    }
   ],
   "source": [
    "#Search subfolders for user\n",
    "for subdir, dirs, files in os.walk(path):\n",
    "    for file in files:\n",
    "        #print os.path.join(subdir, file)\n",
    "        filepath = subdir + os.sep + file\n",
    "        if user in filepath:\n",
    "            print (filepath)\n"
   ]
  },
  {
   "cell_type": "code",
   "execution_count": null,
   "metadata": {},
   "outputs": [],
   "source": []
  }
 ],
 "metadata": {
  "kernelspec": {
   "display_name": "Python 3",
   "language": "python",
   "name": "python3"
  },
  "language_info": {
   "codemirror_mode": {
    "name": "ipython",
    "version": 3
   },
   "file_extension": ".py",
   "mimetype": "text/x-python",
   "name": "python",
   "nbconvert_exporter": "python",
   "pygments_lexer": "ipython3",
   "version": "3.7.2"
  }
 },
 "nbformat": 4,
 "nbformat_minor": 2
}
