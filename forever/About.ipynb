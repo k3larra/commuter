{
 "cells": [
  {
   "cell_type": "markdown",
   "metadata": {},
   "source": [
    "## Running node server for pendlaren\n",
    "from nonJupyter command prompt run this:\n",
    "```\n",
    "forever start jupyter/commuter/forever/forever.json\n",
    "```\n",
    "- Don't run as jupiter user does not work for flask (this is strange).\n",
    "- Don't run as sudo, then the virtual environment for python in the flask script is not selected.\n",
    "- Special permissions given to the userdata folder so another user can write group pendlaren rws\n",
    "\n",
    "forever list from k3lara user "
   ]
  },
  {
   "cell_type": "code",
   "execution_count": null,
   "metadata": {},
   "outputs": [],
   "source": [
    "#conf file check port hang\n",
    "# sudo netstat -ap | grep :5000"
   ]
  }
 ],
 "metadata": {
  "kernelspec": {
   "display_name": "Python 3",
   "language": "python",
   "name": "python3"
  },
  "language_info": {
   "codemirror_mode": {
    "name": "ipython",
    "version": 3
   },
   "file_extension": ".py",
   "mimetype": "text/x-python",
   "name": "python",
   "nbconvert_exporter": "python",
   "pygments_lexer": "ipython3",
   "version": "3.7.2"
  }
 },
 "nbformat": 4,
 "nbformat_minor": 2
}
