{
 "cells": [
  {
   "cell_type": "markdown",
   "metadata": {},
   "source": [
    "# Evaluate Machine teaching approach\n",
    "Here train on an teaching set created by reading the paersonas and scenarios.\n",
    "Teachingset:\n",
    "\n",
    "Andrea:\n",
    "[Verbose](https://github.com/k3larra/commuter/blob/master/data/ehaBtfOPDNZjzy1MEvjQmGo4Zv12_teaching_set.csv)\n",
    "[Limited](../commuter/data/ehaBtfOPDNZjzy1MEvjQmGo4Zv12_teaching_set_minimal.csv)\n",
    "\n",
    "Björn:\n",
    "[Verbose](https://github.com/k3larra/commuter/blob/master/data/hCWCulj7M1aMVyd0Fm0Eqrv8q1Q2_teaching_set.csv)\n",
    "[Limited](../commuter/data/hCWCulj7M1aMVyd0Fm0Eqrv8q1Q2_teaching_set_minimal.csv)\n",
    "\n",
    "Maria:\n",
    "[Verbose](https://github.com/k3larra/commuter/blob/master/data/tnK534JMwwfhvUEycn69HPbhqkt2_teaching_set.csv)\n",
    "[Limited](../commuter/data/tnK534JMwwfhvUEycn69HPbhqkt2_teaching_set_minimal.csv)\n",
    "\n"
   ]
  },
  {
   "cell_type": "code",
   "execution_count": 89,
   "metadata": {},
   "outputs": [],
   "source": [
    "#Setup\n",
    "from fastai import *          # Quick accesss to most common functionality\n",
    "from fastai.tabular import *  # Quick accesss to tabular functionality     # Access to example data provided with fastai\n",
    "from fastai.vision import *\n",
    "sys.path.append(\"../code\") # go to parent dir\n",
    "from commuter import *\n",
    "PATH=\"../data/\"\n",
    "dep_var = 'journey'\n",
    "cat_names = [\"detectedActivity\",\"weekday\"]\n",
    "cont_names =[\"geoHash\",\"minuteOfDay\"]\n",
    "procs = [FillMissing, Categorify, Normalize]\n",
    "# Uncomment active user\n",
    "#user = \"tnK534JMwwfhvUEycn69HPbhqkt2\" #Maria\n",
    "#user = \"ehaBtfOPDNZjzy1MEvjQmGo4Zv12\" #Andrea\n",
    "user = \"hCWCulj7M1aMVyd0Fm0Eqrv8q1Q2\" #Bjorn\n",
    "personas = pd.read_csv(\"../data/personas.csv\")\n",
    "personaname = personas.loc[personas['id']==user]['name'].iloc[0]\n",
    "\n",
    "def evaluate_teaching_daily(learner,testset):\n",
    "    result = []\n",
    "    #result.append([\"prediction\",\"accuracy\",\"day\"])\n",
    "    for row in testset.itertuples():\n",
    "        predicted = learner.predict(row)\n",
    "        result.append([predicted[0],round(predicted[2].max().item(),2),row[4],row[5]])\n",
    "    return (result)"
   ]
  },
  {
   "cell_type": "markdown",
   "metadata": {},
   "source": [
    "### Train learner."
   ]
  },
  {
   "cell_type": "code",
   "execution_count": 147,
   "metadata": {},
   "outputs": [
    {
     "data": {
      "text/html": [
       "Total time: 00:03 <p><table style='width:300px; margin-bottom:10px'>\n",
       "  <tr>\n",
       "    <th>epoch</th>\n",
       "    <th>train_loss</th>\n",
       "    <th>valid_loss</th>\n",
       "    <th>accuracy</th>\n",
       "  </tr>\n",
       "  <tr>\n",
       "    <th>1</th>\n",
       "    <th>1.037314</th>\n",
       "    <th>1.324897</th>\n",
       "    <th>0.470000</th>\n",
       "  </tr>\n",
       "  <tr>\n",
       "    <th>2</th>\n",
       "    <th>0.636416</th>\n",
       "    <th>0.834492</th>\n",
       "    <th>0.750000</th>\n",
       "  </tr>\n",
       "  <tr>\n",
       "    <th>3</th>\n",
       "    <th>0.404537</th>\n",
       "    <th>0.389325</th>\n",
       "    <th>0.750000</th>\n",
       "  </tr>\n",
       "  <tr>\n",
       "    <th>4</th>\n",
       "    <th>0.272885</th>\n",
       "    <th>0.166955</th>\n",
       "    <th>1.000000</th>\n",
       "  </tr>\n",
       "  <tr>\n",
       "    <th>5</th>\n",
       "    <th>0.194158</th>\n",
       "    <th>0.064146</th>\n",
       "    <th>1.000000</th>\n",
       "  </tr>\n",
       "  <tr>\n",
       "    <th>6</th>\n",
       "    <th>0.142760</th>\n",
       "    <th>0.033276</th>\n",
       "    <th>1.000000</th>\n",
       "  </tr>\n",
       "  <tr>\n",
       "    <th>7</th>\n",
       "    <th>0.108154</th>\n",
       "    <th>0.028522</th>\n",
       "    <th>1.000000</th>\n",
       "  </tr>\n",
       "</table>\n"
      ],
      "text/plain": [
       "<IPython.core.display.HTML object>"
      ]
     },
     "metadata": {},
     "output_type": "display_data"
    },
    {
     "data": {
      "image/png": "[encoded data removed]",
      "text/plain": [
       "<Figure size 432x288 with 1 Axes>"
      ]
     },
     "metadata": {},
     "output_type": "display_data"
    },
    {
     "name": "stdout",
     "output_type": "stream",
     "text": [
      "CPU times: user 1.85 s, sys: 664 ms, total: 2.51 s\n",
      "Wall time: 3.13 s\n"
     ]
    }
   ],
   "source": [
    "#%%capture\n",
    "teachingSetName=\"_teaching_set_minimal.csv\"\n",
    "#teachingSetName=\"_teaching_set.csv\"\n",
    "#teachingSetName=\"_train_valid.csv\"\n",
    "teachingSet = pd.read_csv(PATH+user+teachingSetName)\n",
    "teachingSet= make_shure_we_got_enough_rows(teachingSet)\n",
    "valid_idx = list(np.random.randint(0,len(teachingSet),int(len(teachingSet)*0.1)))\n",
    "data = (TabularList.from_df(teachingSet, path=user, cat_names=cat_names, cont_names=cont_names, procs=procs)\n",
    "                .split_by_idx(valid_idx)\n",
    "                .label_from_df(cols=dep_var)\n",
    "                .databunch())\n",
    "learner=tabular_learner(data, layers=[200,100], metrics=accuracy,callback_fns=ShowGraph)\n",
    "%time learner.fit_one_cycle(7)\n"
   ]
  },
  {
   "cell_type": "code",
   "execution_count": 148,
   "metadata": {},
   "outputs": [
    {
     "name": "stdout",
     "output_type": "stream",
     "text": [
      "[[Category 8033880159 0.99 6 8033880159]\n",
      " [Category 8033880159 0.96 6 8033880159]\n",
      " [Category 8033880159 0.99 6 8033880159]\n",
      " [Category 8033880159 0.99 6 8033880159]\n",
      " ...\n",
      " [Category 8033880159 0.76 5 8004980338]\n",
      " [Category 8033880049 1.0 5 8004980338]\n",
      " [Category 8033880159 0.76 5 8004980338]\n",
      " [Category 8033880159 0.76 5 8004980338]]\n"
     ]
    }
   ],
   "source": [
    "testset = pd.read_csv(PATH+user+\"_start14days.csv\")\n",
    "result = evaluate_teaching_daily(learner,testset)\n",
    "a = np.asarray(result)\n",
    "print(a)\n",
    "np.savetxt(\"saved/\"+user+\"_result\"+teachingSetName,a,delimiter=',',fmt=[\"%s\",\"%10.2f\",\"%10.2f\",\"%s\"])"
   ]
  },
  {
   "cell_type": "markdown",
   "metadata": {},
   "source": [
    "### Check towards users test set "
   ]
  },
  {
   "cell_type": "code",
   "execution_count": 3,
   "metadata": {},
   "outputs": [
    {
     "name": "stdout",
     "output_type": "stream",
     "text": [
      "Test set accuracy: 1.0\n"
     ]
    }
   ],
   "source": [
    "testSet = pd.read_csv(PATH+user+\"_test.csv\")\n",
    "result = predict_journeys(learner,testSet)\n",
    "print(\"Test set accuracy: \"+str(result))"
   ]
  },
  {
   "cell_type": "markdown",
   "metadata": {},
   "source": [
    "### Show results over the 14 first days\n",
    "Prints results from training done in the cells above."
   ]
  },
  {
   "cell_type": "code",
   "execution_count": 97,
   "metadata": {},
   "outputs": [
    {
     "data": {
      "image/png": "[encoded data removed]",
      "text/plain": [
       "<Figure size 432x288 with 1 Axes>"
      ]
     },
     "metadata": {
      "needs_background": "light"
     },
     "output_type": "display_data"
    }
   ],
   "source": [
    "import matplotlib.pyplot as plt\n",
    "from matplotlib.ticker import FuncFormatter, MaxNLocator\n",
    "teaching_ax0= pd.read_csv(\"saved/\"+user+\"_result_teaching_set_minimal.csv\",header=None,names=[\"Journey_pred\", \"Accuracy\", \"Day\",\"Journey_corr\"])\n",
    "teaching_ax0_std = teaching_ax0.groupby(by=\"Day\")[\"Accuracy\"].std().reset_index().rename(index=str,columns=({\"Accuracy\":\"std\"}))\n",
    "teaching_ax0 = teaching_ax0.groupby(by=\"Day\")[\"Accuracy\"].mean().reset_index()\n",
    "teaching_ax1= pd.read_csv(\"saved/\"+user+\"_result_teaching_set.csv\",header=None,names=[\"Journey\", \"Accuracy\", \"Day\",\"Journey_corr\"])\n",
    "teaching_ax1_std = teaching_ax1.groupby(by=\"Day\")[\"Accuracy\"].std().reset_index().rename(index=str,columns=({\"Accuracy\":\"std\"}))\n",
    "teaching_ax1 = teaching_ax1.groupby(by=\"Day\")[\"Accuracy\"].mean().reset_index()\n",
    "teaching_ax2= pd.read_csv(\"saved/\"+user+\"_result_train_valid.csv\",header=None,names=[\"Journey\", \"Accuracy\", \"Day\",\"Journey_corr\"])\n",
    "teaching_ax2_std = teaching_ax2.groupby(by=\"Day\")[\"Accuracy\"].std().reset_index().rename(index=str,columns=({\"Accuracy\":\"std\"}))\n",
    "teaching_ax2 = teaching_ax2.groupby(by=\"Day\")[\"Accuracy\"].mean().reset_index()\n",
    "bar_width = 0.20\n",
    "fig,ax0  = plt.subplots()\n",
    "ax0.set_title(personaname+\":\"+user)\n",
    "ax0.bar(teaching_ax0[\"Day\"]-bar_width,teaching_ax0[\"Accuracy\"],bar_width,label='Teaching minimal',yerr=teaching_ax0_std[\"std\"])\n",
    "ax0.bar(teaching_ax1[\"Day\"],teaching_ax1[\"Accuracy\"],bar_width, label='Teaching',yerr=teaching_ax1_std[\"std\"])\n",
    "ax0.bar(teaching_ax2[\"Day\"]+bar_width,teaching_ax2[\"Accuracy\"],bar_width, label='No Teaching',yerr=teaching_ax2_std[\"std\"])\n",
    "plt.xticks(np.arange(7), (\"Sun\",\"Mon\",\"Tue\",\"Wed\",\"Thu\",\"Fri\",\"Sat\"))\n",
    "plt.xlabel('Weekday')\n",
    "plt.ylabel('Accuracy')\n",
    "legend = ax0.legend(loc='lower right', shadow=True, fontsize='medium')\n",
    "plt.show()"
   ]
  },
  {
   "cell_type": "markdown",
   "metadata": {},
   "source": [
    "### Show results over the journeys the 14 first days\n",
    "Prints results from training done in the cells above."
   ]
  },
  {
   "cell_type": "code",
   "execution_count": 167,
   "metadata": {},
   "outputs": [
    {
     "name": "stdout",
     "output_type": "stream",
     "text": [
      "      Journey      mean  count       std  mean_corr  corr_value\n",
      "0  8004980338  0.733143     35  0.257622   1.000000          43\n",
      "1  8015980338  0.952857      7  0.007559   1.000000           7\n",
      "2  8033880049  0.924118     17  0.108170   0.882353          27\n",
      "3  8033880159  0.868519     27  0.165708   0.333333           9\n",
      "      Journey      mean  count       std  mean_corr  corr_value\n",
      "0  8004980338  0.959474     19  0.089472   1.000000          43\n",
      "1  8015980338  0.970000      7  0.000000   1.000000           7\n",
      "2  8033880049  0.882581     31  0.129922   0.870968          27\n",
      "3  8033880159  0.826207     29  0.101363   0.310345           9\n",
      "      Journey      mean  count       std  mean_corr  corr_value\n",
      "0  8004980338  0.996842     38  0.004711    1.00000          43\n",
      "1  8015980338  0.994286      7  0.005345    1.00000           7\n",
      "2  8033880049  1.000000     32  0.000000    0.84375          27\n",
      "3  8033880159  0.990000      9  0.007071    1.00000           9\n"
     ]
    },
    {
     "data": {
      "image/png": "[encoded data removed]",
      "text/plain": [
       "<Figure size 432x288 with 1 Axes>"
      ]
     },
     "metadata": {
      "needs_background": "light"
     },
     "output_type": "display_data"
    }
   ],
   "source": [
    "import matplotlib.pyplot as plt\n",
    "from matplotlib.ticker import FuncFormatter, MaxNLocator\n",
    "\n",
    "teaching_ax0=pd.read_csv(\"saved/\"+user+\"_result_teaching_set_minimal.csv\",header=None,names=[\"Journey\", \"Accuracy\", \"Day\",\"Journey_corr\"])\n",
    "teaching_ax0[\"correct\"]=np.where(teaching_ax0['Journey']==teaching_ax0['Journey_corr'],1,0)\n",
    "teaching_ax0_group = teaching_ax0.groupby(by=\"Journey\")[\"Accuracy\"].agg(['mean', 'count','std']).reset_index()\n",
    "teaching_ax0_corr = teaching_ax0.groupby(by=\"Journey\")[\"correct\"].agg(['mean','count']).reset_index()\n",
    "teaching_ax0_group[\"mean_corr\"] = teaching_ax0_corr[\"mean\"]\n",
    "teaching_ax0_group_exists = teaching_ax0.groupby(by=\"Journey_corr\")[\"Journey\"].agg(['count']).reset_index()\n",
    "teaching_ax0_group[\"corr_value\"] = teaching_ax0_group_exists[\"count\"]\n",
    "\n",
    "#teaching_ax0[\"correct\"]=np.where(teaching_ax0['Journey']==teaching_ax0['Journey_corr'],1,0)\n",
    "#teaching_ax0_corr = teaching_ax0.groupby(by=\"Journey\")[\"correct\"].agg(['mean','count']).reset_index()\n",
    "teaching_ax1=pd.read_csv(\"saved/\"+user+\"_result_teaching_set.csv\",header=None,names=[\"Journey\", \"Accuracy\", \"Day\",\"Journey_corr\"])\n",
    "teaching_ax1[\"correct\"]=np.where(teaching_ax1['Journey']==teaching_ax1['Journey_corr'],1,0)\n",
    "teaching_ax1_group = teaching_ax1.groupby(by=\"Journey\")[\"Accuracy\"].agg(['mean', 'count','std']).reset_index()\n",
    "teaching_ax1_corr = teaching_ax1.groupby(by=\"Journey\")[\"correct\"].agg(['mean','count']).reset_index()\n",
    "teaching_ax1_group[\"mean_corr\"] = teaching_ax1_corr[\"mean\"]\n",
    "teaching_ax1_group_exists = teaching_ax1.groupby(by=\"Journey_corr\")[\"Journey\"].agg(['count']).reset_index()\n",
    "teaching_ax1_group[\"corr_value\"] = teaching_ax1_group_exists[\"count\"]\n",
    "\n",
    "teaching_ax2=pd.read_csv(\"saved/\"+user+\"_result_train_valid.csv\",header=None,names=[\"Journey\", \"Accuracy\", \"Day\",\"Journey_corr\"])\n",
    "teaching_ax2[\"correct\"]=np.where(teaching_ax2['Journey']==teaching_ax2['Journey_corr'],1,0)\n",
    "teaching_ax2_group = teaching_ax2.groupby(by=\"Journey\")[\"Accuracy\"].agg(['mean', 'count','std']).reset_index()\n",
    "teaching_ax2_corr = teaching_ax2.groupby(by=\"Journey\")[\"correct\"].agg(['mean','count']).reset_index()\n",
    "teaching_ax2_group[\"mean_corr\"] = teaching_ax2_corr[\"mean\"]\n",
    "teaching_ax2_group_exists = teaching_ax2.groupby(by=\"Journey_corr\")[\"Journey\"].agg(['count']).reset_index()\n",
    "teaching_ax2_group[\"corr_value\"] = teaching_ax2_group_exists[\"count\"]\n",
    "\n",
    "print(teaching_ax0_group)\n",
    "print(teaching_ax1_group)\n",
    "print(teaching_ax2_group)\n",
    "\n",
    "#teaching_ax1= pd.read_csv(\"saved/\"+user+\"_result_teaching_set.csv\",header=None,names=[\"Journey\", \"Accuracy\", \"Day\"])\n",
    "#teaching_ax1_mean = teaching_ax1.groupby(by=\"Journey\")[\"Accuracy\"].agg(['mean', 'count']).reset_index()\n",
    "#teaching_ax1_std = teaching_ax1.groupby(by=\"Journey\")[\"Accuracy\"].std().reset_index().rename(index=str,columns=({\"Accuracy\":\"std\"}))\n",
    "\n",
    "# teaching_ax2= pd.read_csv(\"saved/\"+user+\"_result_train_valid.csv\",header=None,names=[\"Journey\", \"Accuracy\", \"Day\"])\n",
    "# teaching_ax2_std = teaching_ax2.groupby(by=\"Day\")[\"Accuracy\"].std().reset_index().rename(index=str,columns=({\"Accuracy\":\"std\"}))\n",
    "\n",
    "bar_width = 0.20\n",
    "fig,ax0  = plt.subplots()\n",
    "ax0.set_title(personaname+\":\"+user)\n",
    "ax0.bar(teaching_ax0_group.index-bar_width,teaching_ax0_group[\"mean\"],bar_width,label='Teaching minimal',yerr=teaching_ax0_group[\"std\"])\n",
    "ax0.bar(teaching_ax1_group.index,teaching_ax1_group[\"mean\"],bar_width, label='Teaching',yerr=teaching_ax1_group[\"std\"])\n",
    "ax0.bar(teaching_ax2_group.index+bar_width,teaching_ax2_group[\"mean\"],bar_width, label='No Teaching',yerr=teaching_ax2_group[\"std\"])\n",
    "# plt.xticks(np.arange(7), (\"Sun\",\"Mon\",\"Tue\",\"Wed\",\"Thu\",\"Fri\",\"Sat\"))\n",
    "plt.xlabel('Journey')\n",
    "plt.ylabel('Accuracy')\n",
    "legend = ax0.legend(loc='lower right', shadow=True, fontsize='medium')\n",
    "plt.show()\n",
    "\n",
    "\n",
    "##Mean corr cant be correct????"
   ]
  },
  {
   "cell_type": "markdown",
   "metadata": {},
   "source": [
    "#### Predict on scenarios"
   ]
  },
  {
   "cell_type": "code",
   "execution_count": 7,
   "metadata": {},
   "outputs": [
    {
     "name": "stdout",
     "output_type": "stream",
     "text": [
      "Scenario 1 for Björn (predicted:correct) 8033880049:8033880049\n",
      "Scenario 2 for Björn (predicted:correct) 8033880159:8033880159\n",
      "Scenario 3 for Björn (predicted:correct) 8004980338:8004980338\n"
     ]
    }
   ],
   "source": [
    "scenario_1_df = pd.read_csv(PATH+user+\"_scenario_1.csv\")\n",
    "scenario_1_predicted = learner.predict(scenario_1_df.iloc[0])\n",
    "scenario_2_df = pd.read_csv(PATH+user+\"_scenario_2.csv\")\n",
    "scenario_2_predicted = learner.predict(scenario_2_df.iloc[0])\n",
    "scenario_3_df = pd.read_csv(PATH+user+\"_scenario_3.csv\")\n",
    "scenario_3_predicted = learner.predict(scenario_3_df.iloc[0])\n",
    "print(\"Scenario 1 for \"+personaname+\" (predicted:correct) \"+str(scenario_1_predicted[0])+\":\"+str(scenario_1_df.iloc[0].journey))\n",
    "print(\"Scenario 2 for \"+personaname+\" (predicted:correct) \"+str(scenario_2_predicted[0])+\":\"+str(scenario_2_df.iloc[0].journey))\n",
    "print(\"Scenario 3 for \"+personaname+\" (predicted:correct) \"+str(scenario_3_predicted[0])+\":\"+str(scenario_3_df.iloc[0].journey))"
   ]
  },
  {
   "cell_type": "markdown",
   "metadata": {},
   "source": [
    "### Misc"
   ]
  },
  {
   "cell_type": "code",
   "execution_count": 18,
   "metadata": {},
   "outputs": [
    {
     "name": "stdout",
     "output_type": "stream",
     "text": [
      "Teaching set accuracy: 0.8488372093023255\n",
      "[[1.0, 6], [0, 0], [0, 1], [1.0, 2], [1.0, 3], [1.0, 4], [0.5, 5], [1.0, 6], [0, 0], [0, 1], [1.0, 2], [1.0, 3], [0.727, 4], [0.0, 5]]\n"
     ]
    }
   ],
   "source": [
    "the14FirstDays = pd.read_csv(PATH+user+\"_start14days.csv\")\n",
    "result = evaluate_teaching_daily(learner,the14FirstDays)\n",
    "resultAverage = predict_journeys(learner,the14FirstDays)\n",
    "print(\"Teaching set accuracy: \"+str(resultAverage))\n",
    "print(result)\n",
    "save_results(user+\"_result_teaching_14days.csv\",result)"
   ]
  }
 ],
 "metadata": {
  "kernelspec": {
   "display_name": "Python 3",
   "language": "python",
   "name": "python3"
  },
  "language_info": {
   "codemirror_mode": {
    "name": "ipython",
    "version": 3
   },
   "file_extension": ".py",
   "mimetype": "text/x-python",
   "name": "python",
   "nbconvert_exporter": "python",
   "pygments_lexer": "ipython3",
   "version": "3.7.1"
  }
 },
 "nbformat": 4,
 "nbformat_minor": 2
}
