{
 "cells": [
  {
   "cell_type": "markdown",
   "metadata": {},
   "source": [
    "# Evaluate Machine teaching approach\n",
    "\n"
   ]
  },
  {
   "cell_type": "code",
   "execution_count": 15,
   "metadata": {},
   "outputs": [],
   "source": [
    "#Setup\n",
    "from fastai import *          # Quick accesss to most common functionality\n",
    "from fastai.tabular import *  # Quick accesss to tabular functionality     # Access to example data provided with fastai\n",
    "from fastai.vision import *\n",
    "PATH=\"../data/\"\n",
    "dep_var = 'journey'\n",
    "cat_names = [\"detectedActivity\",\"weekday\"]\n",
    "cont_names =[\"geoHash\",\"minuteOfDay\"]\n",
    "procs = [FillMissing, Categorify, Normalize]\n",
    "# Uncomment active user\n",
    "#user = \"tnK534JMwwfhvUEycn69HPbhqkt2\" #Maria\n",
    "#user = \"ehaBtfOPDNZjzy1MEvjQmGo4Zv12\" #Andrea\n",
    "user = \"hCWCulj7M1aMVyd0Fm0Eqrv8q1Q2\" #Bjorn\n",
    "\n",
    "def predict_journeys(learner,dataset):\n",
    "    \"This can be something that is already in the framework.\"\n",
    "    result = 0\n",
    "    accuracy = 0\n",
    "    for x in range(0,dataset.shape[0]):\n",
    "        correct = dataset.iloc[x].journey  #remove journey\n",
    "        predicted = learner.predict(dataset.iloc[x]);\n",
    "        if (str(correct)==str(predicted[0])):\n",
    "            result=result+1\n",
    "    accuracy=result/dataset.shape[0]\n",
    "    return(accuracy)\n",
    "    \n",
    "def predict_journey(learner,detectedActivity,geoHash,minuteOfday,weekday):\n",
    "    data = np.array([['','detectedActivity','geoHash','minuteOfDay','weekday'],\n",
    "                [\"row1\",detectedActivity,geoHash,minuteOfday,weekday]])            \n",
    "    dr=pd.DataFrame(data=data[1:,1:],\n",
    "                    index=data[1:,0],\n",
    "                    columns=data[0,1:]).astype(np.int64)\n",
    "    predicted = learner.predict(dr.iloc[0])\n",
    "    return(predicted[0],str(round(predicted[2].max().item(),2)))\n",
    "\n",
    "def evaluate_teaching_daily(learner,testset):\n",
    "    result = []\n",
    "    oldDayNumber=-1\n",
    "    daySet = DataFrame(testset[0:0]) #copy structure\n",
    "    #for index, row in trainingset.iterrows():\n",
    "    for row in testset.itertuples():\n",
    "        if row[0]+1==len(testset):\n",
    "            print(\"lastRow REALLY\")\n",
    "        if oldDayNumber != row[4] or row[0]+1==len(testset): #A new day!   \n",
    "            if (row[0]+1==len(testset)):   ##if last line add that row\n",
    "                daySet = daySet.append(testset.iloc[row[0]])\n",
    "            if len(daySet)>0:\n",
    "                accuracy = round(predict_journeys(learner,daySet),3)\n",
    "                result.append([accuracy,oldDayNumber])\n",
    "                daySet = daySet.iloc[0:0]\n",
    "                daySet =daySet.append(testset.iloc[row[0]])\n",
    "            else: ##it is first row or no teaching data exists(Cold start) so no training is possible\n",
    "                #result.append([0,oldDayNumber])\n",
    "                daySet = daySet.append(testset.iloc[row[0]])\n",
    "            oldDayNumber = row[4]\n",
    "        else: # same old day add the row  \n",
    "            daySet = daySet.append(testset.iloc[row[0]])\n",
    "    return (result)\n",
    "\n",
    "def make_shure_we_got_enough_rows(dataset,minrows=1000):\n",
    "    \"If the dataset has fewer rows that minrows, whole dataset copies will be added at the end until at least minrows exists\"\n",
    "    newset = pd.DataFrame()\n",
    "    while newset.shape[0]<minrows:\n",
    "        newset = pd.concat([newset,dataset])\n",
    "    return(newset)\n",
    "\n",
    "def save_results(filename,result):\n",
    "    a = np.asarray(result)\n",
    "    np.savetxt(\"saved/\"+filename,a,delimiter=',',fmt=\"%10.2f\")"
   ]
  },
  {
   "cell_type": "markdown",
   "metadata": {},
   "source": [
    "### Accuracy daily during the initial 14 days of use."
   ]
  },
  {
   "cell_type": "code",
   "execution_count": 16,
   "metadata": {},
   "outputs": [
    {
     "data": {
      "text/html": [
       "Total time: 00:13 <p><table style='width:300px; margin-bottom:10px'>\n",
       "  <tr>\n",
       "    <th>epoch</th>\n",
       "    <th>train_loss</th>\n",
       "    <th>valid_loss</th>\n",
       "    <th>accuracy</th>\n",
       "  </tr>\n",
       "  <tr>\n",
       "    <th>1</th>\n",
       "    <th>1.177618</th>\n",
       "    <th>1.360390</th>\n",
       "    <th>0.420000</th>\n",
       "  </tr>\n",
       "  <tr>\n",
       "    <th>2</th>\n",
       "    <th>0.907705</th>\n",
       "    <th>1.240094</th>\n",
       "    <th>0.870000</th>\n",
       "  </tr>\n",
       "  <tr>\n",
       "    <th>3</th>\n",
       "    <th>0.678288</th>\n",
       "    <th>0.818271</th>\n",
       "    <th>0.900000</th>\n",
       "  </tr>\n",
       "  <tr>\n",
       "    <th>4</th>\n",
       "    <th>0.508641</th>\n",
       "    <th>0.396237</th>\n",
       "    <th>1.000000</th>\n",
       "  </tr>\n",
       "  <tr>\n",
       "    <th>5</th>\n",
       "    <th>0.378275</th>\n",
       "    <th>0.143390</th>\n",
       "    <th>1.000000</th>\n",
       "  </tr>\n",
       "  <tr>\n",
       "    <th>6</th>\n",
       "    <th>0.280601</th>\n",
       "    <th>0.057858</th>\n",
       "    <th>1.000000</th>\n",
       "  </tr>\n",
       "  <tr>\n",
       "    <th>7</th>\n",
       "    <th>0.210633</th>\n",
       "    <th>0.029728</th>\n",
       "    <th>1.000000</th>\n",
       "  </tr>\n",
       "  <tr>\n",
       "    <th>8</th>\n",
       "    <th>0.158072</th>\n",
       "    <th>0.017926</th>\n",
       "    <th>1.000000</th>\n",
       "  </tr>\n",
       "  <tr>\n",
       "    <th>9</th>\n",
       "    <th>0.120007</th>\n",
       "    <th>0.009811</th>\n",
       "    <th>1.000000</th>\n",
       "  </tr>\n",
       "  <tr>\n",
       "    <th>10</th>\n",
       "    <th>0.091376</th>\n",
       "    <th>0.007914</th>\n",
       "    <th>1.000000</th>\n",
       "  </tr>\n",
       "  <tr>\n",
       "    <th>11</th>\n",
       "    <th>0.069820</th>\n",
       "    <th>0.006236</th>\n",
       "    <th>1.000000</th>\n",
       "  </tr>\n",
       "  <tr>\n",
       "    <th>12</th>\n",
       "    <th>0.053812</th>\n",
       "    <th>0.005174</th>\n",
       "    <th>1.000000</th>\n",
       "  </tr>\n",
       "  <tr>\n",
       "    <th>13</th>\n",
       "    <th>0.041615</th>\n",
       "    <th>0.004233</th>\n",
       "    <th>1.000000</th>\n",
       "  </tr>\n",
       "  <tr>\n",
       "    <th>14</th>\n",
       "    <th>0.032320</th>\n",
       "    <th>0.004208</th>\n",
       "    <th>1.000000</th>\n",
       "  </tr>\n",
       "  <tr>\n",
       "    <th>15</th>\n",
       "    <th>0.025265</th>\n",
       "    <th>0.002895</th>\n",
       "    <th>1.000000</th>\n",
       "  </tr>\n",
       "  <tr>\n",
       "    <th>16</th>\n",
       "    <th>0.019756</th>\n",
       "    <th>0.002537</th>\n",
       "    <th>1.000000</th>\n",
       "  </tr>\n",
       "  <tr>\n",
       "    <th>17</th>\n",
       "    <th>0.015655</th>\n",
       "    <th>0.002611</th>\n",
       "    <th>1.000000</th>\n",
       "  </tr>\n",
       "  <tr>\n",
       "    <th>18</th>\n",
       "    <th>0.012388</th>\n",
       "    <th>0.002183</th>\n",
       "    <th>1.000000</th>\n",
       "  </tr>\n",
       "  <tr>\n",
       "    <th>19</th>\n",
       "    <th>0.009934</th>\n",
       "    <th>0.001863</th>\n",
       "    <th>1.000000</th>\n",
       "  </tr>\n",
       "  <tr>\n",
       "    <th>20</th>\n",
       "    <th>0.007997</th>\n",
       "    <th>0.001751</th>\n",
       "    <th>1.000000</th>\n",
       "  </tr>\n",
       "  <tr>\n",
       "    <th>21</th>\n",
       "    <th>0.006492</th>\n",
       "    <th>0.001630</th>\n",
       "    <th>1.000000</th>\n",
       "  </tr>\n",
       "  <tr>\n",
       "    <th>22</th>\n",
       "    <th>0.005337</th>\n",
       "    <th>0.001607</th>\n",
       "    <th>1.000000</th>\n",
       "  </tr>\n",
       "  <tr>\n",
       "    <th>23</th>\n",
       "    <th>0.004470</th>\n",
       "    <th>0.001462</th>\n",
       "    <th>1.000000</th>\n",
       "  </tr>\n",
       "  <tr>\n",
       "    <th>24</th>\n",
       "    <th>0.003766</th>\n",
       "    <th>0.001393</th>\n",
       "    <th>1.000000</th>\n",
       "  </tr>\n",
       "  <tr>\n",
       "    <th>25</th>\n",
       "    <th>0.003268</th>\n",
       "    <th>0.001329</th>\n",
       "    <th>1.000000</th>\n",
       "  </tr>\n",
       "  <tr>\n",
       "    <th>26</th>\n",
       "    <th>0.002853</th>\n",
       "    <th>0.001385</th>\n",
       "    <th>1.000000</th>\n",
       "  </tr>\n",
       "  <tr>\n",
       "    <th>27</th>\n",
       "    <th>0.002548</th>\n",
       "    <th>0.001314</th>\n",
       "    <th>1.000000</th>\n",
       "  </tr>\n",
       "  <tr>\n",
       "    <th>28</th>\n",
       "    <th>0.002351</th>\n",
       "    <th>0.001324</th>\n",
       "    <th>1.000000</th>\n",
       "  </tr>\n",
       "  <tr>\n",
       "    <th>29</th>\n",
       "    <th>0.002159</th>\n",
       "    <th>0.001294</th>\n",
       "    <th>1.000000</th>\n",
       "  </tr>\n",
       "  <tr>\n",
       "    <th>30</th>\n",
       "    <th>0.001995</th>\n",
       "    <th>0.001291</th>\n",
       "    <th>1.000000</th>\n",
       "  </tr>\n",
       "</table>\n"
      ],
      "text/plain": [
       "<IPython.core.display.HTML object>"
      ]
     },
     "metadata": {},
     "output_type": "display_data"
    },
    {
     "data": {
      "image/png": "[encoded data removed]",
      "text/plain": [
       "<Figure size 432x288 with 1 Axes>"
      ]
     },
     "metadata": {},
     "output_type": "display_data"
    },
    {
     "name": "stdout",
     "output_type": "stream",
     "text": [
      "CPU times: user 7.96 s, sys: 2.84 s, total: 10.8 s\n",
      "Wall time: 13.8 s\n"
     ]
    }
   ],
   "source": [
    "#%%capture\n",
    "teachingSet = pd.read_csv(PATH+user+\"_teaching_set.csv\")\n",
    "teachingSet=make_shure_we_got_enough_rows(teachingSet)\n",
    "valid_idx = list(np.random.randint(0,len(teachingSet),int(len(teachingSet)*0.1)))\n",
    "data = (TabularList.from_df(teachingSet, path=user, cat_names=cat_names, cont_names=cont_names, procs=procs)\n",
    "                .split_by_idx(valid_idx)\n",
    "                .label_from_df(cols=dep_var)\n",
    "                .databunch())\n",
    "learner=tabular_learner(data, layers=[200,100], metrics=accuracy,callback_fns=ShowGraph)\n",
    "%time learner.fit_one_cycle(30)\n"
   ]
  },
  {
   "cell_type": "code",
   "execution_count": 17,
   "metadata": {},
   "outputs": [
    {
     "name": "stdout",
     "output_type": "stream",
     "text": [
      "Test set accuracy: 0.9253112033195021\n"
     ]
    }
   ],
   "source": [
    "testSet = pd.read_csv(PATH+user+\"_test.csv\")\n",
    "result = predict_journeys(learner,testSet)\n",
    "print(\"Test set accuracy: \"+str(result))"
   ]
  },
  {
   "cell_type": "code",
   "execution_count": 23,
   "metadata": {},
   "outputs": [
    {
     "name": "stdout",
     "output_type": "stream",
     "text": [
      "lastRow REALLY\n"
     ]
    }
   ],
   "source": [
    "the14FirstDays = pd.read_csv(PATH+user+\"_start14days.csv\")\n",
    "result = evaluate_teaching_daily(learner,the14FirstDays)\n",
    "save_results(user+\"_result.csv\",result)"
   ]
  },
  {
   "cell_type": "markdown",
   "metadata": {},
   "source": [
    "### Iterative training daily during the initial 14 days of use, a teaching set is added to the training data.\n",
    "Here we add an idealised teaching set in the beginning of our dataset. Then we start training from day 0 using only the data in the teachingset and contiuing as in the section above.\n",
    "Teachingset:\n",
    "\n",
    "Andrea:\n",
    "[Verbose](https://github.com/k3larra/commuter/blob/master/data/ehaBtfOPDNZjzy1MEvjQmGo4Zv12_teaching_set.csv)\n",
    "[Minimal](../commuter/data/ehaBtfOPDNZjzy1MEvjQmGo4Zv12_teaching_set_minimal.csv)\n",
    "\n",
    "Björn:\n",
    "[Verbose](https://github.com/k3larra/commuter/blob/master/data/hCWCulj7M1aMVyd0Fm0Eqrv8q1Q2_teaching_set.csv)\n",
    "[Minimal](../commuter/data/hCWCulj7M1aMVyd0Fm0Eqrv8q1Q2_teaching_set_minimal.csv)\n",
    "\n",
    "Maria:\n",
    "[Verbose](https://github.com/k3larra/commuter/blob/master/data/tnK534JMwwfhvUEycn69HPbhqkt2_teaching_set.csv)\n",
    "[Minimal](../commuter/data/tnK534JMwwfhvUEycn69HPbhqkt2_teaching_set_minimal.csv)"
   ]
  },
  {
   "cell_type": "markdown",
   "metadata": {},
   "source": [
    "### Show results\n",
    "Prints results from training done in the cells above."
   ]
  },
  {
   "cell_type": "code",
   "execution_count": null,
   "metadata": {},
   "outputs": [],
   "source": [
    "import matplotlib.pyplot as plt\n",
    "from matplotlib.ticker import FuncFormatter, MaxNLocator\n",
    "import pandas as pd\n",
    "personas = pd.read_csv(\"saved/personas.csv\")\n",
    "#Uncomment to look at individual result for other users that the default declared above.\n",
    "#user = \"tnK534JMwwfhvUEycn69HPbhqkt2\" #Maria\n",
    "#user = \"ehaBtfOPDNZjzy1MEvjQmGo4Zv12\" #Andrea\n",
    "#user = \"hCWCulj7M1aMVyd0Fm0Eqrv8q1Q2\" #Bjorn\n",
    "personaname = personas.loc[personas['id']==user]\n",
    "learning_ax0= pd.read_csv(\"saved/Iterative_time_\"+user+\".csv\",header=None).values\n",
    "teaching_ax0 = pd.read_csv(\"saved/Iterative_time_teach\"+user+\".csv\",header=None).values\n",
    "teaching_min_ax0 = pd.read_csv(\"saved/Iterative_time_teach_minimal\"+user+\".csv\",header=None).values\n",
    "supervised_min_ax0 = pd.read_csv(\"saved/Iterative_time_supervised\"+user+\".csv\",header=None).values\n",
    "fig, ax0 = plt.subplots()\n",
    "ax0.set_title(personaname ['name'].iloc[0]+\":\"+user)\n",
    "ax0.plot(learning_ax0[:,2],label='Iterative learning')\n",
    "ax0.plot(teaching_ax0[:,2],label='Teaching')\n",
    "ax0.plot(teaching_min_ax0[:,2],label='Teaching using minimal data')\n",
    "ax0.plot(supervised_min_ax0[:,2],label='Pretrained model')\n",
    "plt.xlabel('Time (days)')\n",
    "plt.ylabel('Accuracy')\n",
    "legend = ax0.legend(loc='lower right', shadow=True, fontsize='medium')\n",
    "plt.show()"
   ]
  },
  {
   "cell_type": "markdown",
   "metadata": {},
   "source": [
    "### Evaluate on test set\n",
    "Evaluate using the test set on a trained \"learner\"*"
   ]
  },
  {
   "cell_type": "markdown",
   "metadata": {},
   "source": [
    "#### Predict on individual journey"
   ]
  },
  {
   "cell_type": "markdown",
   "metadata": {},
   "source": [
    "### Confusion Matrix and other stuff"
   ]
  },
  {
   "cell_type": "code",
   "execution_count": 19,
   "metadata": {},
   "outputs": [],
   "source": [
    "preds,y,losses = learner.get_preds(with_loss=True)\n",
    "interp = ClassificationInterpretation(data, preds, y, losses)"
   ]
  },
  {
   "cell_type": "code",
   "execution_count": 20,
   "metadata": {},
   "outputs": [
    {
     "data": {
      "image/png": "[encoded data removed]",
      "text/plain": [
       "<Figure size 432x288 with 1 Axes>"
      ]
     },
     "metadata": {
      "needs_background": "light"
     },
     "output_type": "display_data"
    }
   ],
   "source": [
    "#Interesting but why is detectedactivity presented? It should be the journeys????\n",
    "#Contue working on this since it gives information on wrong predictions. Real travels can be added so it can be read by a domai expert.\n",
    "interp.plot_confusion_matrix()"
   ]
  },
  {
   "cell_type": "code",
   "execution_count": null,
   "metadata": {},
   "outputs": [],
   "source": []
  }
 ],
 "metadata": {
  "kernelspec": {
   "display_name": "Python 3",
   "language": "python",
   "name": "python3"
  },
  "language_info": {
   "codemirror_mode": {
    "name": "ipython",
    "version": 3
   },
   "file_extension": ".py",
   "mimetype": "text/x-python",
   "name": "python",
   "nbconvert_exporter": "python",
   "pygments_lexer": "ipython3",
   "version": "3.7.1"
  }
 },
 "nbformat": 4,
 "nbformat_minor": 2
}
